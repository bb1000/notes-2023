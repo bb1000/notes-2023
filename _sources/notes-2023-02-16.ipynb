{
 "cells": [
  {
   "cell_type": "markdown",
   "id": "091e7e38",
   "metadata": {},
   "source": [
    "# Notes 2023-02-16\n",
    "\n",
    "## class inheritance"
   ]
  },
  {
   "cell_type": "code",
   "execution_count": 1,
   "id": "17370a1d",
   "metadata": {},
   "outputs": [
    {
     "data": {
      "text/plain": [
       "True"
      ]
     },
     "execution_count": 1,
     "metadata": {},
     "output_type": "execute_result"
    }
   ],
   "source": [
    "isinstance(1, int)"
   ]
  },
  {
   "cell_type": "code",
   "execution_count": 2,
   "id": "56100d65",
   "metadata": {},
   "outputs": [
    {
     "data": {
      "text/plain": [
       "True"
      ]
     },
     "execution_count": 2,
     "metadata": {},
     "output_type": "execute_result"
    }
   ],
   "source": [
    "isinstance(True, bool)"
   ]
  },
  {
   "cell_type": "code",
   "execution_count": 3,
   "id": "4cd0801d",
   "metadata": {},
   "outputs": [
    {
     "data": {
      "text/plain": [
       "True"
      ]
     },
     "execution_count": 3,
     "metadata": {},
     "output_type": "execute_result"
    }
   ],
   "source": [
    "isinstance(True, int)"
   ]
  },
  {
   "cell_type": "code",
   "execution_count": 4,
   "id": "f25bd534",
   "metadata": {},
   "outputs": [
    {
     "data": {
      "text/plain": [
       "False"
      ]
     },
     "execution_count": 4,
     "metadata": {},
     "output_type": "execute_result"
    }
   ],
   "source": [
    "isinstance(1, bool)"
   ]
  },
  {
   "cell_type": "code",
   "execution_count": 5,
   "id": "a6621b54",
   "metadata": {},
   "outputs": [
    {
     "data": {
      "text/plain": [
       "True"
      ]
     },
     "execution_count": 5,
     "metadata": {},
     "output_type": "execute_result"
    }
   ],
   "source": [
    "issubclass(bool, int)"
   ]
  },
  {
   "cell_type": "markdown",
   "id": "50db77f6",
   "metadata": {},
   "source": [
    "bool is a subclass of int\n",
    "\n",
    "implies that it could have been  define as\n",
    "\n",
    "    class bool(int):\n",
    "        ...\n",
    "        "
   ]
  },
  {
   "cell_type": "code",
   "execution_count": 6,
   "id": "a3683d7b",
   "metadata": {},
   "outputs": [
    {
     "data": {
      "text/plain": [
       "2"
      ]
     },
     "execution_count": 6,
     "metadata": {},
     "output_type": "execute_result"
    }
   ],
   "source": [
    "True + True"
   ]
  },
  {
   "cell_type": "code",
   "execution_count": 7,
   "id": "e8d5874f",
   "metadata": {},
   "outputs": [],
   "source": [
    "class Parent:\n",
    "   def __init__(self):\n",
    "       print(\"Base constructor\")\n",
    "        \n",
    "   def base_method(self):\n",
    "       print('Calling base method')"
   ]
  },
  {
   "cell_type": "code",
   "execution_count": 8,
   "id": "cf95e2b4",
   "metadata": {},
   "outputs": [
    {
     "name": "stdout",
     "output_type": "stream",
     "text": [
      "Base constructor\n"
     ]
    }
   ],
   "source": [
    "p = Parent()"
   ]
  },
  {
   "cell_type": "code",
   "execution_count": 9,
   "id": "077f3066",
   "metadata": {},
   "outputs": [
    {
     "name": "stdout",
     "output_type": "stream",
     "text": [
      "Calling base method\n"
     ]
    }
   ],
   "source": [
    "p.base_method()"
   ]
  },
  {
   "cell_type": "code",
   "execution_count": 11,
   "id": "bc953837",
   "metadata": {},
   "outputs": [
    {
     "data": {
      "text/plain": [
       "['__subclasshook__', '__weakref__', 'base_method']"
      ]
     },
     "execution_count": 11,
     "metadata": {},
     "output_type": "execute_result"
    }
   ],
   "source": [
    "dir(p)[-3:]"
   ]
  },
  {
   "cell_type": "code",
   "execution_count": 23,
   "id": "033806fa",
   "metadata": {},
   "outputs": [],
   "source": [
    "class Child(Parent):\n",
    "    def __init__(self):\n",
    "        Parent.__init__(self)\n",
    "        super().__init__()\n",
    "        print(\"Derived constructor\")\n",
    "\n",
    "    def derived_method(self):\n",
    "        print('Calling derived method')"
   ]
  },
  {
   "cell_type": "code",
   "execution_count": 24,
   "id": "60d6c111",
   "metadata": {},
   "outputs": [
    {
     "name": "stdout",
     "output_type": "stream",
     "text": [
      "Base constructor\n",
      "Base constructor\n",
      "Derived constructor\n"
     ]
    }
   ],
   "source": [
    "c = Child()"
   ]
  },
  {
   "cell_type": "code",
   "execution_count": 14,
   "id": "b4ea558d",
   "metadata": {},
   "outputs": [
    {
     "name": "stdout",
     "output_type": "stream",
     "text": [
      "Calling derived method\n"
     ]
    }
   ],
   "source": [
    "c.derived_method()"
   ]
  },
  {
   "cell_type": "code",
   "execution_count": 15,
   "id": "324c5316",
   "metadata": {},
   "outputs": [
    {
     "data": {
      "text/plain": [
       "['__weakref__', 'base_method', 'derived_method']"
      ]
     },
     "execution_count": 15,
     "metadata": {},
     "output_type": "execute_result"
    }
   ],
   "source": [
    "dir(c)[-3:]"
   ]
  },
  {
   "cell_type": "code",
   "execution_count": 16,
   "id": "8dce01bf",
   "metadata": {},
   "outputs": [
    {
     "name": "stdout",
     "output_type": "stream",
     "text": [
      "Calling base method\n"
     ]
    }
   ],
   "source": [
    "c.base_method()"
   ]
  },
  {
   "cell_type": "code",
   "execution_count": 27,
   "id": "4767199a",
   "metadata": {},
   "outputs": [
    {
     "data": {
      "text/plain": [
       "'Child'"
      ]
     },
     "execution_count": 27,
     "metadata": {},
     "output_type": "execute_result"
    }
   ],
   "source": [
    "c.__class__.__name__"
   ]
  },
  {
   "cell_type": "markdown",
   "id": "9a1dc0cb",
   "metadata": {},
   "source": [
    "### is vs =="
   ]
  },
  {
   "cell_type": "code",
   "execution_count": 62,
   "id": "31f74bcd",
   "metadata": {},
   "outputs": [],
   "source": [
    "x = 64.0\n",
    "y = x"
   ]
  },
  {
   "cell_type": "code",
   "execution_count": 63,
   "id": "93e0b30f",
   "metadata": {},
   "outputs": [
    {
     "data": {
      "text/plain": [
       "True"
      ]
     },
     "execution_count": 63,
     "metadata": {},
     "output_type": "execute_result"
    }
   ],
   "source": [
    "x == y  # x and y have the same value"
   ]
  },
  {
   "cell_type": "code",
   "execution_count": 64,
   "id": "9a7ee95f",
   "metadata": {},
   "outputs": [
    {
     "data": {
      "text/plain": [
       "True"
      ]
     },
     "execution_count": 64,
     "metadata": {},
     "output_type": "execute_result"
    }
   ],
   "source": [
    "x is y  # x and y are same objects"
   ]
  },
  {
   "cell_type": "code",
   "execution_count": 65,
   "id": "21d3cf9f",
   "metadata": {},
   "outputs": [
    {
     "data": {
      "text/plain": [
       "140319252264688"
      ]
     },
     "execution_count": 65,
     "metadata": {},
     "output_type": "execute_result"
    }
   ],
   "source": [
    "id(x)"
   ]
  },
  {
   "cell_type": "code",
   "execution_count": 66,
   "id": "8796607c",
   "metadata": {},
   "outputs": [
    {
     "data": {
      "text/plain": [
       "140319252264688"
      ]
     },
     "execution_count": 66,
     "metadata": {},
     "output_type": "execute_result"
    }
   ],
   "source": [
    "id(y)"
   ]
  },
  {
   "cell_type": "code",
   "execution_count": 67,
   "id": "976d8cb6",
   "metadata": {},
   "outputs": [
    {
     "data": {
      "text/plain": [
       "True"
      ]
     },
     "execution_count": 67,
     "metadata": {},
     "output_type": "execute_result"
    }
   ],
   "source": [
    "id(x) == id(y)"
   ]
  },
  {
   "cell_type": "code",
   "execution_count": 68,
   "id": "d3c3da9f",
   "metadata": {},
   "outputs": [],
   "source": [
    "y = 8. * 8."
   ]
  },
  {
   "cell_type": "code",
   "execution_count": 69,
   "id": "a7204fd9",
   "metadata": {},
   "outputs": [
    {
     "data": {
      "text/plain": [
       "True"
      ]
     },
     "execution_count": 69,
     "metadata": {},
     "output_type": "execute_result"
    }
   ],
   "source": [
    "x == y"
   ]
  },
  {
   "cell_type": "code",
   "execution_count": 70,
   "id": "eacbc0ce",
   "metadata": {},
   "outputs": [
    {
     "data": {
      "text/plain": [
       "False"
      ]
     },
     "execution_count": 70,
     "metadata": {},
     "output_type": "execute_result"
    }
   ],
   "source": [
    "x is y"
   ]
  },
  {
   "cell_type": "code",
   "execution_count": 71,
   "id": "69fdbc2d",
   "metadata": {},
   "outputs": [
    {
     "data": {
      "text/plain": [
       "140319252264688"
      ]
     },
     "execution_count": 71,
     "metadata": {},
     "output_type": "execute_result"
    }
   ],
   "source": [
    "id(x)"
   ]
  },
  {
   "cell_type": "code",
   "execution_count": 72,
   "id": "04f4883e",
   "metadata": {},
   "outputs": [
    {
     "data": {
      "text/plain": [
       "140319252264656"
      ]
     },
     "execution_count": 72,
     "metadata": {},
     "output_type": "execute_result"
    }
   ],
   "source": [
    "id(y)"
   ]
  },
  {
   "cell_type": "code",
   "execution_count": 73,
   "id": "2c380947",
   "metadata": {},
   "outputs": [
    {
     "data": {
      "text/plain": [
       "False"
      ]
     },
     "execution_count": 73,
     "metadata": {},
     "output_type": "execute_result"
    }
   ],
   "source": [
    "id(x) == id(y)"
   ]
  },
  {
   "cell_type": "markdown",
   "id": "ba1e4e42",
   "metadata": {},
   "source": [
    "## some lab details"
   ]
  },
  {
   "cell_type": "code",
   "execution_count": 74,
   "id": "b83be094",
   "metadata": {},
   "outputs": [
    {
     "data": {
      "text/plain": [
       "False"
      ]
     },
     "execution_count": 74,
     "metadata": {},
     "output_type": "execute_result"
    }
   ],
   "source": [
    ".1 + .2 == .3"
   ]
  },
  {
   "cell_type": "code",
   "execution_count": 75,
   "id": "2e3ac41e",
   "metadata": {},
   "outputs": [
    {
     "data": {
      "text/plain": [
       "0.30000000000000004"
      ]
     },
     "execution_count": 75,
     "metadata": {},
     "output_type": "execute_result"
    }
   ],
   "source": [
    ".1 + .2"
   ]
  },
  {
   "cell_type": "code",
   "execution_count": 76,
   "id": "f0e3845b",
   "metadata": {},
   "outputs": [
    {
     "data": {
      "text/plain": [
       "True"
      ]
     },
     "execution_count": 76,
     "metadata": {},
     "output_type": "execute_result"
    }
   ],
   "source": [
    "abs((.1 + .2) - .3) < 1e-5"
   ]
  },
  {
   "cell_type": "code",
   "execution_count": 77,
   "id": "a37725e0",
   "metadata": {},
   "outputs": [],
   "source": [
    "from pytest import approx"
   ]
  },
  {
   "cell_type": "code",
   "execution_count": 78,
   "id": "a26cf7ca",
   "metadata": {},
   "outputs": [
    {
     "data": {
      "text/plain": [
       "True"
      ]
     },
     "execution_count": 78,
     "metadata": {},
     "output_type": "execute_result"
    }
   ],
   "source": [
    ".1 + .2 == approx(.3)"
   ]
  },
  {
   "cell_type": "code",
   "execution_count": 81,
   "id": "902b596c",
   "metadata": {},
   "outputs": [
    {
     "data": {
      "text/plain": [
       "1 ± 1.0e-06"
      ]
     },
     "execution_count": 81,
     "metadata": {},
     "output_type": "execute_result"
    }
   ],
   "source": [
    "approx(1)"
   ]
  },
  {
   "cell_type": "code",
   "execution_count": 80,
   "id": "52e09f81",
   "metadata": {},
   "outputs": [
    {
     "name": "stdout",
     "output_type": "stream",
     "text": [
      "Help on function approx in module _pytest.python_api:\n",
      "\n",
      "approx(expected, rel=None, abs=None, nan_ok: bool = False) -> _pytest.python_api.ApproxBase\n",
      "    Assert that two numbers (or two ordered sequences of numbers) are equal to each other\n",
      "    within some tolerance.\n",
      "    \n",
      "    Due to the :std:doc:`tutorial/floatingpoint`, numbers that we\n",
      "    would intuitively expect to be equal are not always so::\n",
      "    \n",
      "        >>> 0.1 + 0.2 == 0.3\n",
      "        False\n",
      "    \n",
      "    This problem is commonly encountered when writing tests, e.g. when making\n",
      "    sure that floating-point values are what you expect them to be.  One way to\n",
      "    deal with this problem is to assert that two floating-point numbers are\n",
      "    equal to within some appropriate tolerance::\n",
      "    \n",
      "        >>> abs((0.1 + 0.2) - 0.3) < 1e-6\n",
      "        True\n",
      "    \n",
      "    However, comparisons like this are tedious to write and difficult to\n",
      "    understand.  Furthermore, absolute comparisons like the one above are\n",
      "    usually discouraged because there's no tolerance that works well for all\n",
      "    situations.  ``1e-6`` is good for numbers around ``1``, but too small for\n",
      "    very big numbers and too big for very small ones.  It's better to express\n",
      "    the tolerance as a fraction of the expected value, but relative comparisons\n",
      "    like that are even more difficult to write correctly and concisely.\n",
      "    \n",
      "    The ``approx`` class performs floating-point comparisons using a syntax\n",
      "    that's as intuitive as possible::\n",
      "    \n",
      "        >>> from pytest import approx\n",
      "        >>> 0.1 + 0.2 == approx(0.3)\n",
      "        True\n",
      "    \n",
      "    The same syntax also works for ordered sequences of numbers::\n",
      "    \n",
      "        >>> (0.1 + 0.2, 0.2 + 0.4) == approx((0.3, 0.6))\n",
      "        True\n",
      "    \n",
      "    ``numpy`` arrays::\n",
      "    \n",
      "        >>> import numpy as np                                                          # doctest: +SKIP\n",
      "        >>> np.array([0.1, 0.2]) + np.array([0.2, 0.4]) == approx(np.array([0.3, 0.6])) # doctest: +SKIP\n",
      "        True\n",
      "    \n",
      "    And for a ``numpy`` array against a scalar::\n",
      "    \n",
      "        >>> import numpy as np                                         # doctest: +SKIP\n",
      "        >>> np.array([0.1, 0.2]) + np.array([0.2, 0.1]) == approx(0.3) # doctest: +SKIP\n",
      "        True\n",
      "    \n",
      "    Only ordered sequences are supported, because ``approx`` needs\n",
      "    to infer the relative position of the sequences without ambiguity. This means\n",
      "    ``sets`` and other unordered sequences are not supported.\n",
      "    \n",
      "    Finally, dictionary *values* can also be compared::\n",
      "    \n",
      "        >>> {'a': 0.1 + 0.2, 'b': 0.2 + 0.4} == approx({'a': 0.3, 'b': 0.6})\n",
      "        True\n",
      "    \n",
      "    The comparison will be true if both mappings have the same keys and their\n",
      "    respective values match the expected tolerances.\n",
      "    \n",
      "    **Tolerances**\n",
      "    \n",
      "    By default, ``approx`` considers numbers within a relative tolerance of\n",
      "    ``1e-6`` (i.e. one part in a million) of its expected value to be equal.\n",
      "    This treatment would lead to surprising results if the expected value was\n",
      "    ``0.0``, because nothing but ``0.0`` itself is relatively close to ``0.0``.\n",
      "    To handle this case less surprisingly, ``approx`` also considers numbers\n",
      "    within an absolute tolerance of ``1e-12`` of its expected value to be\n",
      "    equal.  Infinity and NaN are special cases.  Infinity is only considered\n",
      "    equal to itself, regardless of the relative tolerance.  NaN is not\n",
      "    considered equal to anything by default, but you can make it be equal to\n",
      "    itself by setting the ``nan_ok`` argument to True.  (This is meant to\n",
      "    facilitate comparing arrays that use NaN to mean \"no data\".)\n",
      "    \n",
      "    Both the relative and absolute tolerances can be changed by passing\n",
      "    arguments to the ``approx`` constructor::\n",
      "    \n",
      "        >>> 1.0001 == approx(1)\n",
      "        False\n",
      "        >>> 1.0001 == approx(1, rel=1e-3)\n",
      "        True\n",
      "        >>> 1.0001 == approx(1, abs=1e-3)\n",
      "        True\n",
      "    \n",
      "    If you specify ``abs`` but not ``rel``, the comparison will not consider\n",
      "    the relative tolerance at all.  In other words, two numbers that are within\n",
      "    the default relative tolerance of ``1e-6`` will still be considered unequal\n",
      "    if they exceed the specified absolute tolerance.  If you specify both\n",
      "    ``abs`` and ``rel``, the numbers will be considered equal if either\n",
      "    tolerance is met::\n",
      "    \n",
      "        >>> 1 + 1e-8 == approx(1)\n",
      "        True\n",
      "        >>> 1 + 1e-8 == approx(1, abs=1e-12)\n",
      "        False\n",
      "        >>> 1 + 1e-8 == approx(1, rel=1e-6, abs=1e-12)\n",
      "        True\n",
      "    \n",
      "    You can also use ``approx`` to compare nonnumeric types, or dicts and\n",
      "    sequences containing nonnumeric types, in which case it falls back to\n",
      "    strict equality. This can be useful for comparing dicts and sequences that\n",
      "    can contain optional values::\n",
      "    \n",
      "        >>> {\"required\": 1.0000005, \"optional\": None} == approx({\"required\": 1, \"optional\": None})\n",
      "        True\n",
      "        >>> [None, 1.0000005] == approx([None,1])\n",
      "        True\n",
      "        >>> [\"foo\", 1.0000005] == approx([None,1])\n",
      "        False\n",
      "    \n",
      "    If you're thinking about using ``approx``, then you might want to know how\n",
      "    it compares to other good ways of comparing floating-point numbers.  All of\n",
      "    these algorithms are based on relative and absolute tolerances and should\n",
      "    agree for the most part, but they do have meaningful differences:\n",
      "    \n",
      "    - ``math.isclose(a, b, rel_tol=1e-9, abs_tol=0.0)``:  True if the relative\n",
      "      tolerance is met w.r.t. either ``a`` or ``b`` or if the absolute\n",
      "      tolerance is met.  Because the relative tolerance is calculated w.r.t.\n",
      "      both ``a`` and ``b``, this test is symmetric (i.e.  neither ``a`` nor\n",
      "      ``b`` is a \"reference value\").  You have to specify an absolute tolerance\n",
      "      if you want to compare to ``0.0`` because there is no tolerance by\n",
      "      default.  More information: :py:func:`math.isclose`.\n",
      "    \n",
      "    - ``numpy.isclose(a, b, rtol=1e-5, atol=1e-8)``: True if the difference\n",
      "      between ``a`` and ``b`` is less that the sum of the relative tolerance\n",
      "      w.r.t. ``b`` and the absolute tolerance.  Because the relative tolerance\n",
      "      is only calculated w.r.t. ``b``, this test is asymmetric and you can\n",
      "      think of ``b`` as the reference value.  Support for comparing sequences\n",
      "      is provided by :py:func:`numpy.allclose`.  More information:\n",
      "      :std:doc:`numpy:reference/generated/numpy.isclose`.\n",
      "    \n",
      "    - ``unittest.TestCase.assertAlmostEqual(a, b)``: True if ``a`` and ``b``\n",
      "      are within an absolute tolerance of ``1e-7``.  No relative tolerance is\n",
      "      considered , so this function is not appropriate for very large or very\n",
      "      small numbers.  Also, it's only available in subclasses of ``unittest.TestCase``\n",
      "      and it's ugly because it doesn't follow PEP8.  More information:\n",
      "      :py:meth:`unittest.TestCase.assertAlmostEqual`.\n",
      "    \n",
      "    - ``a == pytest.approx(b, rel=1e-6, abs=1e-12)``: True if the relative\n",
      "      tolerance is met w.r.t. ``b`` or if the absolute tolerance is met.\n",
      "      Because the relative tolerance is only calculated w.r.t. ``b``, this test\n",
      "      is asymmetric and you can think of ``b`` as the reference value.  In the\n",
      "      special case that you explicitly specify an absolute tolerance but not a\n",
      "      relative tolerance, only the absolute tolerance is considered.\n",
      "    \n",
      "    .. note::\n",
      "    \n",
      "        ``approx`` can handle numpy arrays, but we recommend the\n",
      "        specialised test helpers in :std:doc:`numpy:reference/routines.testing`\n",
      "        if you need support for comparisons, NaNs, or ULP-based tolerances.\n",
      "    \n",
      "    .. warning::\n",
      "    \n",
      "       .. versionchanged:: 3.2\n",
      "    \n",
      "       In order to avoid inconsistent behavior, :py:exc:`TypeError` is\n",
      "       raised for ``>``, ``>=``, ``<`` and ``<=`` comparisons.\n",
      "       The example below illustrates the problem::\n",
      "    \n",
      "           assert approx(0.1) > 0.1 + 1e-10  # calls approx(0.1).__gt__(0.1 + 1e-10)\n",
      "           assert 0.1 + 1e-10 > approx(0.1)  # calls approx(0.1).__lt__(0.1 + 1e-10)\n",
      "    \n",
      "       In the second example one expects ``approx(0.1).__le__(0.1 + 1e-10)``\n",
      "       to be called. But instead, ``approx(0.1).__lt__(0.1 + 1e-10)`` is used to\n",
      "       comparison. This is because the call hierarchy of rich comparisons\n",
      "       follows a fixed behavior. More information: :py:meth:`object.__ge__`\n",
      "    \n",
      "    .. versionchanged:: 3.7.1\n",
      "       ``approx`` raises ``TypeError`` when it encounters a dict value or\n",
      "       sequence element of nonnumeric type.\n",
      "    \n",
      "    .. versionchanged:: 6.1.0\n",
      "       ``approx`` falls back to strict equality for nonnumeric types instead\n",
      "       of raising ``TypeError``.\n",
      "\n"
     ]
    }
   ],
   "source": [
    "help(approx)"
   ]
  },
  {
   "cell_type": "code",
   "execution_count": 82,
   "id": "ee464463",
   "metadata": {},
   "outputs": [
    {
     "data": {
      "text/plain": [
       "4.58257569495584"
      ]
     },
     "execution_count": 82,
     "metadata": {},
     "output_type": "execute_result"
    }
   ],
   "source": [
    "# square root\n",
    "\n",
    "import math\n",
    "math.sqrt(21)"
   ]
  },
  {
   "cell_type": "code",
   "execution_count": 83,
   "id": "0f1f0cf2",
   "metadata": {},
   "outputs": [
    {
     "data": {
      "text/plain": [
       "4.58257569495584"
      ]
     },
     "execution_count": 83,
     "metadata": {},
     "output_type": "execute_result"
    }
   ],
   "source": [
    "21**(.5)"
   ]
  },
  {
   "cell_type": "code",
   "execution_count": 87,
   "id": "a4df8958",
   "metadata": {},
   "outputs": [
    {
     "data": {
      "text/plain": [
       "{'SEK': 0}"
      ]
     },
     "execution_count": 87,
     "metadata": {},
     "output_type": "execute_result"
    }
   ],
   "source": [
    "balance = {\"SEK\": 0}\n",
    "balance"
   ]
  },
  {
   "cell_type": "code",
   "execution_count": 88,
   "id": "2e644666",
   "metadata": {},
   "outputs": [
    {
     "ename": "KeyError",
     "evalue": "'USD'",
     "output_type": "error",
     "traceback": [
      "\u001b[0;31m---------------------------------------------------------------------------\u001b[0m",
      "\u001b[0;31mKeyError\u001b[0m                                  Traceback (most recent call last)",
      "Cell \u001b[0;32mIn[88], line 1\u001b[0m\n\u001b[0;32m----> 1\u001b[0m balance[\u001b[38;5;124m'\u001b[39m\u001b[38;5;124mUSD\u001b[39m\u001b[38;5;124m'\u001b[39m] \u001b[38;5;241m+\u001b[39m\u001b[38;5;241m=\u001b[39m \u001b[38;5;241m10\u001b[39m\n",
      "\u001b[0;31mKeyError\u001b[0m: 'USD'"
     ]
    }
   ],
   "source": [
    "balance['USD'] += 10"
   ]
  },
  {
   "cell_type": "code",
   "execution_count": 89,
   "id": "f0b6537c",
   "metadata": {},
   "outputs": [],
   "source": [
    "if 'USD' in balance:\n",
    "    balance['USD'] += 10\n",
    "else:\n",
    "    balance['USD'] = 10"
   ]
  },
  {
   "cell_type": "code",
   "execution_count": 90,
   "id": "25c627ba",
   "metadata": {},
   "outputs": [],
   "source": [
    "from collections import defaultdict"
   ]
  },
  {
   "cell_type": "code",
   "execution_count": 91,
   "id": "ee9074e7",
   "metadata": {},
   "outputs": [],
   "source": [
    "dd = defaultdict(int)"
   ]
  },
  {
   "cell_type": "code",
   "execution_count": 92,
   "id": "6a5d93e9",
   "metadata": {},
   "outputs": [
    {
     "data": {
      "text/plain": [
       "defaultdict(int, {})"
      ]
     },
     "execution_count": 92,
     "metadata": {},
     "output_type": "execute_result"
    }
   ],
   "source": [
    "dd"
   ]
  },
  {
   "cell_type": "code",
   "execution_count": 93,
   "id": "dd69854a",
   "metadata": {},
   "outputs": [],
   "source": [
    "dd['SEK'] = dd['SEK'] + 10"
   ]
  },
  {
   "cell_type": "code",
   "execution_count": 94,
   "id": "f8c7d033",
   "metadata": {},
   "outputs": [
    {
     "data": {
      "text/plain": [
       "defaultdict(int, {'SEK': 10})"
      ]
     },
     "execution_count": 94,
     "metadata": {},
     "output_type": "execute_result"
    }
   ],
   "source": [
    "dd"
   ]
  },
  {
   "cell_type": "code",
   "execution_count": 95,
   "id": "1c2f32d8",
   "metadata": {},
   "outputs": [
    {
     "data": {
      "text/plain": [
       "0"
      ]
     },
     "execution_count": 95,
     "metadata": {},
     "output_type": "execute_result"
    }
   ],
   "source": [
    "dd['EUR']"
   ]
  },
  {
   "cell_type": "code",
   "execution_count": 96,
   "id": "47886930",
   "metadata": {},
   "outputs": [
    {
     "data": {
      "text/plain": [
       "defaultdict(int, {'SEK': 10, 'EUR': 0})"
      ]
     },
     "execution_count": 96,
     "metadata": {},
     "output_type": "execute_result"
    }
   ],
   "source": [
    "dd"
   ]
  },
  {
   "cell_type": "code",
   "execution_count": null,
   "id": "0008df6a",
   "metadata": {},
   "outputs": [],
   "source": []
  }
 ],
 "metadata": {
  "kernelspec": {
   "display_name": "Python 3 (ipykernel)",
   "language": "python",
   "name": "python3"
  },
  "language_info": {
   "codemirror_mode": {
    "name": "ipython",
    "version": 3
   },
   "file_extension": ".py",
   "mimetype": "text/x-python",
   "name": "python",
   "nbconvert_exporter": "python",
   "pygments_lexer": "ipython3",
   "version": "3.10.9"
  }
 },
 "nbformat": 4,
 "nbformat_minor": 5
}
