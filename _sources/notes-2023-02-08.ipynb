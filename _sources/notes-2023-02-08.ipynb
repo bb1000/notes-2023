{
 "cells": [
  {
   "cell_type": "markdown",
   "id": "9bd6b8b5",
   "metadata": {},
   "source": [
    "# Notes 2023-02-08\n",
    "\n",
    "## Navigating in a file system\n",
    "\n"
   ]
  },
  {
   "cell_type": "code",
   "execution_count": 79,
   "id": "e227b429",
   "metadata": {},
   "outputs": [
    {
     "name": "stdout",
     "output_type": "stream",
     "text": [
      "/home/bb1000/notes-2023\r\n"
     ]
    }
   ],
   "source": [
    "# where am i?\n",
    "!pwd"
   ]
  },
  {
   "cell_type": "code",
   "execution_count": 80,
   "id": "b39be091",
   "metadata": {},
   "outputs": [
    {
     "name": "stdout",
     "output_type": "stream",
     "text": [
      "add.png\t\t\t\t  menu2.png\r\n",
      "_build\t\t\t\t  notes-2013-01-18.ipynb\r\n",
      "_config.yml\t\t\t  notes-2013-01-23.ipynb\r\n",
      "conflicts.png\t\t\t  notes-2023-01-26.ipynb\r\n",
      "HistoricalData_1675853088207.csv  notes-2023-01-31.ipynb\r\n",
      "intro.md\t\t\t  notes-2023-02-03.ipynb\r\n",
      "keys.png\t\t\t  notes-2023-02-08.ipynb\r\n",
      "logo.jpg\t\t\t  resolve.png\r\n",
      "Makefile\t\t\t  _toc.yml\r\n",
      "menu1.png\r\n"
     ]
    }
   ],
   "source": [
    "# what files do we have here\n",
    "!ls"
   ]
  },
  {
   "cell_type": "code",
   "execution_count": 81,
   "id": "f4c0dc0e",
   "metadata": {},
   "outputs": [
    {
     "name": "stdout",
     "output_type": "stream",
     "text": [
      "total 880\r\n",
      "-rw-rw-r-- 1 bb1000 bb1000  29400 jan 26 16:35 add.png\r\n",
      "drwxrwxr-x 5 bb1000 bb1000   4096 jan 31 10:34 _build\r\n",
      "-rw-rw-r-- 1 bb1000 bb1000    633 jan 31 11:31 _config.yml\r\n",
      "-rw-rw-r-- 1 bb1000 bb1000  29032 jan 26 16:55 conflicts.png\r\n",
      "-rw-rw-r-- 1 bb1000 bb1000 137867 feb  8 11:44 HistoricalData_1675853088207.csv\r\n",
      "-rw-rw-r-- 1 bb1000 bb1000     40 jan 31 11:01 intro.md\r\n",
      "-rw-rw-r-- 1 bb1000 bb1000  15521 jan 26 16:34 keys.png\r\n",
      "-rw-rw-r-- 1 bb1000 bb1000  60911 sep 16 17:08 logo.jpg\r\n",
      "-rw-rw-r-- 1 bb1000 bb1000     61 jan 31 11:14 Makefile\r\n",
      "-rw-rw-r-- 1 bb1000 bb1000  23030 jan 26 16:32 menu1.png\r\n",
      "-rw-rw-r-- 1 bb1000 bb1000  33062 jan 26 16:33 menu2.png\r\n",
      "-rw-rw-r-- 1 bb1000 bb1000  28776 jan 31 11:29 notes-2013-01-18.ipynb\r\n",
      "-rw-rw-r-- 1 bb1000 bb1000   5601 jan 31 11:13 notes-2013-01-23.ipynb\r\n",
      "-rw-rw-r-- 1 bb1000 bb1000   4425 jan 31 11:13 notes-2023-01-26.ipynb\r\n",
      "-rw-rw-r-- 1 bb1000 bb1000   8831 jan 31 11:13 notes-2023-01-31.ipynb\r\n",
      "-rw-rw-r-- 1 bb1000 bb1000   9532 feb  8 08:52 notes-2023-02-03.ipynb\r\n",
      "-rw-rw-r-- 1 bb1000 bb1000 434389 feb  8 13:13 notes-2023-02-08.ipynb\r\n",
      "-rw-rw-r-- 1 bb1000 bb1000  21984 jan 26 17:03 resolve.png\r\n",
      "-rw-rw-r-- 1 bb1000 bb1000    316 feb  8 08:51 _toc.yml\r\n"
     ]
    }
   ],
   "source": [
    "# list file in long format\n",
    "!ls -l"
   ]
  },
  {
   "cell_type": "code",
   "execution_count": 82,
   "id": "2f75a01f",
   "metadata": {},
   "outputs": [
    {
     "name": "stdout",
     "output_type": "stream",
     "text": [
      "total 880\r\n",
      "-rw-rw-r-- 1 bb1000 bb1000 434389 feb  8 13:13 notes-2023-02-08.ipynb\r\n",
      "-rw-rw-r-- 1 bb1000 bb1000 137867 feb  8 11:44 HistoricalData_1675853088207.csv\r\n",
      "-rw-rw-r-- 1 bb1000 bb1000   9532 feb  8 08:52 notes-2023-02-03.ipynb\r\n",
      "-rw-rw-r-- 1 bb1000 bb1000    316 feb  8 08:51 _toc.yml\r\n",
      "-rw-rw-r-- 1 bb1000 bb1000    633 jan 31 11:31 _config.yml\r\n",
      "-rw-rw-r-- 1 bb1000 bb1000  28776 jan 31 11:29 notes-2013-01-18.ipynb\r\n",
      "-rw-rw-r-- 1 bb1000 bb1000     61 jan 31 11:14 Makefile\r\n",
      "-rw-rw-r-- 1 bb1000 bb1000   5601 jan 31 11:13 notes-2013-01-23.ipynb\r\n",
      "-rw-rw-r-- 1 bb1000 bb1000   4425 jan 31 11:13 notes-2023-01-26.ipynb\r\n",
      "-rw-rw-r-- 1 bb1000 bb1000   8831 jan 31 11:13 notes-2023-01-31.ipynb\r\n",
      "-rw-rw-r-- 1 bb1000 bb1000     40 jan 31 11:01 intro.md\r\n",
      "drwxrwxr-x 5 bb1000 bb1000   4096 jan 31 10:34 _build\r\n",
      "-rw-rw-r-- 1 bb1000 bb1000  21984 jan 26 17:03 resolve.png\r\n",
      "-rw-rw-r-- 1 bb1000 bb1000  29032 jan 26 16:55 conflicts.png\r\n",
      "-rw-rw-r-- 1 bb1000 bb1000  29400 jan 26 16:35 add.png\r\n",
      "-rw-rw-r-- 1 bb1000 bb1000  15521 jan 26 16:34 keys.png\r\n",
      "-rw-rw-r-- 1 bb1000 bb1000  33062 jan 26 16:33 menu2.png\r\n",
      "-rw-rw-r-- 1 bb1000 bb1000  23030 jan 26 16:32 menu1.png\r\n",
      "-rw-rw-r-- 1 bb1000 bb1000  60911 sep 16 17:08 logo.jpg\r\n"
     ]
    }
   ],
   "source": [
    "# list file in long format sorted by date\n",
    "!ls -lt\n"
   ]
  },
  {
   "cell_type": "code",
   "execution_count": 83,
   "id": "151414f6",
   "metadata": {},
   "outputs": [
    {
     "name": "stdout",
     "output_type": "stream",
     "text": [
      "/home/bb1000\r\n"
     ]
    }
   ],
   "source": [
    "# print my home folder\n",
    "!echo ~"
   ]
  },
  {
   "cell_type": "code",
   "execution_count": 84,
   "id": "943b6de3",
   "metadata": {},
   "outputs": [
    {
     "name": "stdout",
     "output_type": "stream",
     "text": [
      "Hello\r\n",
      "world!\r\n"
     ]
    }
   ],
   "source": [
    "# output data to file\n",
    "!echo \"Hello\" > data.txt #overwrite\n",
    "!echo \"world!\" >> data.txt #append\n",
    "!cat data.txt"
   ]
  },
  {
   "cell_type": "markdown",
   "id": "9a63e2bb",
   "metadata": {},
   "source": [
    "## Files in python\n",
    "\n",
    "The open statement opens/creates a file for reading/writing"
   ]
  },
  {
   "cell_type": "code",
   "execution_count": 70,
   "id": "c1354f2c",
   "metadata": {},
   "outputs": [
    {
     "name": "stdout",
     "output_type": "stream",
     "text": [
      "Help on function open in module io:\n",
      "\n",
      "open(file, mode='r', buffering=-1, encoding=None, errors=None, newline=None, closefd=True, opener=None)\n",
      "    Open file and return a stream.  Raise OSError upon failure.\n",
      "    \n",
      "    file is either a text or byte string giving the name (and the path\n",
      "    if the file isn't in the current working directory) of the file to\n",
      "    be opened or an integer file descriptor of the file to be\n",
      "    wrapped. (If a file descriptor is given, it is closed when the\n",
      "    returned I/O object is closed, unless closefd is set to False.)\n",
      "    \n",
      "    mode is an optional string that specifies the mode in which the file\n",
      "    is opened. It defaults to 'r' which means open for reading in text\n",
      "    mode.  Other common values are 'w' for writing (truncating the file if\n",
      "    it already exists), 'x' for creating and writing to a new file, and\n",
      "    'a' for appending (which on some Unix systems, means that all writes\n",
      "    append to the end of the file regardless of the current seek position).\n",
      "    In text mode, if encoding is not specified the encoding used is platform\n",
      "    dependent: locale.getpreferredencoding(False) is called to get the\n",
      "    current locale encoding. (For reading and writing raw bytes use binary\n",
      "    mode and leave encoding unspecified.) The available modes are:\n",
      "    \n",
      "    ========= ===============================================================\n",
      "    Character Meaning\n",
      "    --------- ---------------------------------------------------------------\n",
      "    'r'       open for reading (default)\n",
      "    'w'       open for writing, truncating the file first\n",
      "    'x'       create a new file and open it for writing\n",
      "    'a'       open for writing, appending to the end of the file if it exists\n",
      "    'b'       binary mode\n",
      "    't'       text mode (default)\n",
      "    '+'       open a disk file for updating (reading and writing)\n",
      "    'U'       universal newline mode (deprecated)\n",
      "    ========= ===============================================================\n",
      "    \n",
      "    The default mode is 'rt' (open for reading text). For binary random\n",
      "    access, the mode 'w+b' opens and truncates the file to 0 bytes, while\n",
      "    'r+b' opens the file without truncation. The 'x' mode implies 'w' and\n",
      "    raises an `FileExistsError` if the file already exists.\n",
      "    \n",
      "    Python distinguishes between files opened in binary and text modes,\n",
      "    even when the underlying operating system doesn't. Files opened in\n",
      "    binary mode (appending 'b' to the mode argument) return contents as\n",
      "    bytes objects without any decoding. In text mode (the default, or when\n",
      "    't' is appended to the mode argument), the contents of the file are\n",
      "    returned as strings, the bytes having been first decoded using a\n",
      "    platform-dependent encoding or using the specified encoding if given.\n",
      "    \n",
      "    'U' mode is deprecated and will raise an exception in future versions\n",
      "    of Python.  It has no effect in Python 3.  Use newline to control\n",
      "    universal newlines mode.\n",
      "    \n",
      "    buffering is an optional integer used to set the buffering policy.\n",
      "    Pass 0 to switch buffering off (only allowed in binary mode), 1 to select\n",
      "    line buffering (only usable in text mode), and an integer > 1 to indicate\n",
      "    the size of a fixed-size chunk buffer.  When no buffering argument is\n",
      "    given, the default buffering policy works as follows:\n",
      "    \n",
      "    * Binary files are buffered in fixed-size chunks; the size of the buffer\n",
      "      is chosen using a heuristic trying to determine the underlying device's\n",
      "      \"block size\" and falling back on `io.DEFAULT_BUFFER_SIZE`.\n",
      "      On many systems, the buffer will typically be 4096 or 8192 bytes long.\n",
      "    \n",
      "    * \"Interactive\" text files (files for which isatty() returns True)\n",
      "      use line buffering.  Other text files use the policy described above\n",
      "      for binary files.\n",
      "    \n",
      "    encoding is the name of the encoding used to decode or encode the\n",
      "    file. This should only be used in text mode. The default encoding is\n",
      "    platform dependent, but any encoding supported by Python can be\n",
      "    passed.  See the codecs module for the list of supported encodings.\n",
      "    \n",
      "    errors is an optional string that specifies how encoding errors are to\n",
      "    be handled---this argument should not be used in binary mode. Pass\n",
      "    'strict' to raise a ValueError exception if there is an encoding error\n",
      "    (the default of None has the same effect), or pass 'ignore' to ignore\n",
      "    errors. (Note that ignoring encoding errors can lead to data loss.)\n",
      "    See the documentation for codecs.register or run 'help(codecs.Codec)'\n",
      "    for a list of the permitted encoding error strings.\n",
      "    \n",
      "    newline controls how universal newlines works (it only applies to text\n",
      "    mode). It can be None, '', '\\n', '\\r', and '\\r\\n'.  It works as\n",
      "    follows:\n",
      "    \n",
      "    * On input, if newline is None, universal newlines mode is\n",
      "      enabled. Lines in the input can end in '\\n', '\\r', or '\\r\\n', and\n",
      "      these are translated into '\\n' before being returned to the\n",
      "      caller. If it is '', universal newline mode is enabled, but line\n",
      "      endings are returned to the caller untranslated. If it has any of\n",
      "      the other legal values, input lines are only terminated by the given\n",
      "      string, and the line ending is returned to the caller untranslated.\n",
      "    \n",
      "    * On output, if newline is None, any '\\n' characters written are\n",
      "      translated to the system default line separator, os.linesep. If\n",
      "      newline is '' or '\\n', no translation takes place. If newline is any\n",
      "      of the other legal values, any '\\n' characters written are translated\n",
      "      to the given string.\n",
      "    \n",
      "    If closefd is False, the underlying file descriptor will be kept open\n",
      "    when the file is closed. This does not work when a file name is given\n",
      "    and must be True in that case.\n",
      "    \n",
      "    A custom opener can be used by passing a callable as *opener*. The\n",
      "    underlying file descriptor for the file object is then obtained by\n",
      "    calling *opener* with (*file*, *flags*). *opener* must return an open\n",
      "    file descriptor (passing os.open as *opener* results in functionality\n",
      "    similar to passing None).\n",
      "    \n",
      "    open() returns a file object whose type depends on the mode, and\n",
      "    through which the standard file operations such as reading and writing\n",
      "    are performed. When open() is used to open a file in a text mode ('w',\n",
      "    'r', 'wt', 'rt', etc.), it returns a TextIOWrapper. When used to open\n",
      "    a file in a binary mode, the returned class varies: in read binary\n",
      "    mode, it returns a BufferedReader; in write binary and append binary\n",
      "    modes, it returns a BufferedWriter, and in read/write mode, it returns\n",
      "    a BufferedRandom.\n",
      "    \n",
      "    It is also possible to use a string or bytearray as a file for both\n",
      "    reading and writing. For strings StringIO can be used like a file\n",
      "    opened in a text mode, and for bytes a BytesIO can be used like a file\n",
      "    opened in a binary mode.\n",
      "\n"
     ]
    }
   ],
   "source": [
    "help(open)"
   ]
  },
  {
   "cell_type": "code",
   "execution_count": 72,
   "id": "9a642f7f",
   "metadata": {},
   "outputs": [
    {
     "ename": "TypeError",
     "evalue": "open() missing 1 required positional argument: 'file'",
     "output_type": "error",
     "traceback": [
      "\u001b[0;31m---------------------------------------------------------------------------\u001b[0m",
      "\u001b[0;31mTypeError\u001b[0m                                 Traceback (most recent call last)",
      "Cell \u001b[0;32mIn[72], line 1\u001b[0m\n\u001b[0;32m----> 1\u001b[0m \u001b[38;5;28;43mopen\u001b[39;49m\u001b[43m(\u001b[49m\u001b[43m)\u001b[49m\n",
      "\u001b[0;31mTypeError\u001b[0m: open() missing 1 required positional argument: 'file'"
     ]
    }
   ],
   "source": [
    "open() # one filename argument is required (str)"
   ]
  },
  {
   "cell_type": "code",
   "execution_count": 2,
   "id": "fab1ef56",
   "metadata": {},
   "outputs": [
    {
     "ename": "FileNotFoundError",
     "evalue": "[Errno 2] No such file or directory: 'data.txt'",
     "output_type": "error",
     "traceback": [
      "\u001b[0;31m---------------------------------------------------------------------------\u001b[0m",
      "\u001b[0;31mFileNotFoundError\u001b[0m                         Traceback (most recent call last)",
      "Cell \u001b[0;32mIn[2], line 1\u001b[0m\n\u001b[0;32m----> 1\u001b[0m \u001b[38;5;28;43mopen\u001b[39;49m\u001b[43m(\u001b[49m\u001b[38;5;124;43m'\u001b[39;49m\u001b[38;5;124;43mdata.txt\u001b[39;49m\u001b[38;5;124;43m'\u001b[39;49m\u001b[43m)\u001b[49m\n",
      "File \u001b[0;32m~/miniconda3/envs/bb1000/lib/python3.10/site-packages/IPython/core/interactiveshell.py:282\u001b[0m, in \u001b[0;36m_modified_open\u001b[0;34m(file, *args, **kwargs)\u001b[0m\n\u001b[1;32m    275\u001b[0m \u001b[38;5;28;01mif\u001b[39;00m file \u001b[38;5;129;01min\u001b[39;00m {\u001b[38;5;241m0\u001b[39m, \u001b[38;5;241m1\u001b[39m, \u001b[38;5;241m2\u001b[39m}:\n\u001b[1;32m    276\u001b[0m     \u001b[38;5;28;01mraise\u001b[39;00m \u001b[38;5;167;01mValueError\u001b[39;00m(\n\u001b[1;32m    277\u001b[0m         \u001b[38;5;124mf\u001b[39m\u001b[38;5;124m\"\u001b[39m\u001b[38;5;124mIPython won\u001b[39m\u001b[38;5;124m'\u001b[39m\u001b[38;5;124mt let you open fd=\u001b[39m\u001b[38;5;132;01m{\u001b[39;00mfile\u001b[38;5;132;01m}\u001b[39;00m\u001b[38;5;124m by default \u001b[39m\u001b[38;5;124m\"\u001b[39m\n\u001b[1;32m    278\u001b[0m         \u001b[38;5;124m\"\u001b[39m\u001b[38;5;124mas it is likely to crash IPython. If you know what you are doing, \u001b[39m\u001b[38;5;124m\"\u001b[39m\n\u001b[1;32m    279\u001b[0m         \u001b[38;5;124m\"\u001b[39m\u001b[38;5;124myou can use builtins\u001b[39m\u001b[38;5;124m'\u001b[39m\u001b[38;5;124m open.\u001b[39m\u001b[38;5;124m\"\u001b[39m\n\u001b[1;32m    280\u001b[0m     )\n\u001b[0;32m--> 282\u001b[0m \u001b[38;5;28;01mreturn\u001b[39;00m \u001b[43mio_open\u001b[49m\u001b[43m(\u001b[49m\u001b[43mfile\u001b[49m\u001b[43m,\u001b[49m\u001b[43m \u001b[49m\u001b[38;5;241;43m*\u001b[39;49m\u001b[43margs\u001b[49m\u001b[43m,\u001b[49m\u001b[43m \u001b[49m\u001b[38;5;241;43m*\u001b[39;49m\u001b[38;5;241;43m*\u001b[39;49m\u001b[43mkwargs\u001b[49m\u001b[43m)\u001b[49m\n",
      "\u001b[0;31mFileNotFoundError\u001b[0m: [Errno 2] No such file or directory: 'data.txt'"
     ]
    }
   ],
   "source": [
    "open('data.txt')"
   ]
  },
  {
   "cell_type": "code",
   "execution_count": 91,
   "id": "9f3fc173",
   "metadata": {},
   "outputs": [],
   "source": [
    "afile = open('data.txt', mode='w') # open for writing/creates if not existing, overwrites if existing"
   ]
  },
  {
   "cell_type": "code",
   "execution_count": 92,
   "id": "8d2c21ff",
   "metadata": {},
   "outputs": [],
   "source": [
    "afile?"
   ]
  },
  {
   "cell_type": "code",
   "execution_count": 93,
   "id": "c4420cb9",
   "metadata": {},
   "outputs": [
    {
     "data": {
      "text/plain": [
       "['_CHUNK_SIZE',\n",
       " '__class__',\n",
       " '__del__',\n",
       " '__delattr__',\n",
       " '__dict__',\n",
       " '__dir__',\n",
       " '__doc__',\n",
       " '__enter__',\n",
       " '__eq__',\n",
       " '__exit__',\n",
       " '__format__',\n",
       " '__ge__',\n",
       " '__getattribute__',\n",
       " '__gt__',\n",
       " '__hash__',\n",
       " '__init__',\n",
       " '__init_subclass__',\n",
       " '__iter__',\n",
       " '__le__',\n",
       " '__lt__',\n",
       " '__ne__',\n",
       " '__new__',\n",
       " '__next__',\n",
       " '__reduce__',\n",
       " '__reduce_ex__',\n",
       " '__repr__',\n",
       " '__setattr__',\n",
       " '__sizeof__',\n",
       " '__str__',\n",
       " '__subclasshook__',\n",
       " '_checkClosed',\n",
       " '_checkReadable',\n",
       " '_checkSeekable',\n",
       " '_checkWritable',\n",
       " '_finalizing',\n",
       " 'buffer',\n",
       " 'close',\n",
       " 'closed',\n",
       " 'detach',\n",
       " 'encoding',\n",
       " 'errors',\n",
       " 'fileno',\n",
       " 'flush',\n",
       " 'isatty',\n",
       " 'line_buffering',\n",
       " 'mode',\n",
       " 'name',\n",
       " 'newlines',\n",
       " 'read',\n",
       " 'readable',\n",
       " 'readline',\n",
       " 'readlines',\n",
       " 'reconfigure',\n",
       " 'seek',\n",
       " 'seekable',\n",
       " 'tell',\n",
       " 'truncate',\n",
       " 'writable',\n",
       " 'write',\n",
       " 'write_through',\n",
       " 'writelines']"
      ]
     },
     "execution_count": 93,
     "metadata": {},
     "output_type": "execute_result"
    }
   ],
   "source": [
    "dir(afile)"
   ]
  },
  {
   "cell_type": "code",
   "execution_count": 94,
   "id": "9622e82c",
   "metadata": {},
   "outputs": [
    {
     "data": {
      "text/plain": [
       "5"
      ]
     },
     "execution_count": 94,
     "metadata": {},
     "output_type": "execute_result"
    }
   ],
   "source": [
    "afile.write('hello')\n",
    "afile.write('world')"
   ]
  },
  {
   "cell_type": "code",
   "execution_count": 95,
   "id": "3c4c95aa",
   "metadata": {},
   "outputs": [],
   "source": [
    "!cat data.txt"
   ]
  },
  {
   "cell_type": "code",
   "execution_count": 96,
   "id": "15b078ca",
   "metadata": {},
   "outputs": [],
   "source": [
    "afile.close() # data that has been written are not saved until file is closed"
   ]
  },
  {
   "cell_type": "code",
   "execution_count": 97,
   "id": "50b29c11",
   "metadata": {},
   "outputs": [
    {
     "name": "stdout",
     "output_type": "stream",
     "text": [
      "helloworld"
     ]
    }
   ],
   "source": [
    "!cat data.txt"
   ]
  },
  {
   "cell_type": "markdown",
   "id": "10c51f7a",
   "metadata": {},
   "source": [
    "Common form of open, a so called context manager will close the file automatically"
   ]
  },
  {
   "cell_type": "code",
   "execution_count": 98,
   "id": "c790483c",
   "metadata": {},
   "outputs": [],
   "source": [
    "with open('data.txt', mode='a') as afile: # a for append\n",
    "    afile.write('\\n')\n",
    "    afile.write('have a nice day\\n')\n"
   ]
  },
  {
   "cell_type": "code",
   "execution_count": 99,
   "id": "25f25e20",
   "metadata": {},
   "outputs": [
    {
     "name": "stdout",
     "output_type": "stream",
     "text": [
      "helloworld\r\n",
      "have a nice day\r\n"
     ]
    }
   ],
   "source": [
    "!cat data.txt"
   ]
  },
  {
   "cell_type": "code",
   "execution_count": 104,
   "id": "a3708da4",
   "metadata": {},
   "outputs": [],
   "source": [
    "afile = open('data.txt')"
   ]
  },
  {
   "cell_type": "code",
   "execution_count": 105,
   "id": "93ac671c",
   "metadata": {},
   "outputs": [
    {
     "data": {
      "text/plain": [
       "'helloworld\\nhave a nice day\\n'"
      ]
     },
     "execution_count": 105,
     "metadata": {},
     "output_type": "execute_result"
    }
   ],
   "source": [
    "afile.read() # read the file to a single string"
   ]
  },
  {
   "cell_type": "code",
   "execution_count": 106,
   "id": "f1d88c4b",
   "metadata": {},
   "outputs": [
    {
     "data": {
      "text/plain": [
       "['helloworld\\n', 'have a nice day\\n']"
      ]
     },
     "execution_count": 106,
     "metadata": {},
     "output_type": "execute_result"
    }
   ],
   "source": [
    "afile = open('data.txt')\n",
    "afile.readlines() #read a list of lines"
   ]
  },
  {
   "cell_type": "code",
   "execution_count": 107,
   "id": "25220167",
   "metadata": {},
   "outputs": [
    {
     "name": "stdout",
     "output_type": "stream",
     "text": [
      "helloworld\n",
      "have a nice day\n"
     ]
    }
   ],
   "source": [
    "for line in open('data.txt'):\n",
    "    print(line, end='')"
   ]
  },
  {
   "cell_type": "code",
   "execution_count": 108,
   "id": "8372ca24",
   "metadata": {},
   "outputs": [],
   "source": [
    "# optionally use print to write to a file\n",
    "afile = open('data.txt', 'w')\n",
    "print('hello', file=afile)\n",
    "print('world', file=afile)\n",
    "afile.close()\n"
   ]
  },
  {
   "cell_type": "code",
   "execution_count": 109,
   "id": "6788ffaf",
   "metadata": {},
   "outputs": [
    {
     "name": "stdout",
     "output_type": "stream",
     "text": [
      "hello\r\n",
      "world\r\n"
     ]
    }
   ],
   "source": [
    "!cat data.txt\n"
   ]
  },
  {
   "cell_type": "markdown",
   "id": "770b9eb1",
   "metadata": {},
   "source": [
    "## Example: csv files with historical data\n",
    "\n",
    "Download from https://www.nasdaq.com/market-activity/stocks/amzn/historical"
   ]
  },
  {
   "cell_type": "code",
   "execution_count": 110,
   "id": "aeec0cfc",
   "metadata": {},
   "outputs": [
    {
     "name": "stdout",
     "output_type": "stream",
     "text": [
      "-rw-rw-r-- 1 bb1000 bb1000 137867 feb  8 11:44 HistoricalData_1675853088207.csv\r\n"
     ]
    }
   ],
   "source": [
    "!ls -l HistoricalData_1675853088207.csv"
   ]
  },
  {
   "cell_type": "code",
   "execution_count": 111,
   "id": "915d3f79",
   "metadata": {},
   "outputs": [
    {
     "name": "stdout",
     "output_type": "stream",
     "text": [
      "Date,Close/Last,Volume,Open,High,Low\r",
      "\r\n",
      "02/07/2023,$102.11,119501300,$101.17,$102.41,$98.08\r",
      "\r\n",
      "02/06/2023,$102.18,81945200,$102.925,$103.9484,$100.65\r",
      "\r\n",
      "02/03/2023,$103.39,144374800,$105.26,$108.78,$102.52\r",
      "\r\n",
      "02/02/2023,$112.91,158154200,$110.245,$114,$108.88\r",
      "\r\n",
      "02/01/2023,$105.15,80450120,$102.53,$106.24,$101.24\r",
      "\r\n",
      "01/31/2023,$103.13,66527250,$101.155,$103.3484,$101.14\r",
      "\r\n",
      "01/30/2023,$100.55,70691860,$101.09,$101.74,$99.01\r",
      "\r\n",
      "01/27/2023,$102.24,87775610,$99.53,$103.485,$99.53\r",
      "\r\n",
      "01/26/2023,$99.22,68523560,$98.235,$99.49,$96.92\r",
      "\r\n"
     ]
    }
   ],
   "source": [
    "!head HistoricalData_1675853088207.csv # the first 10 lines"
   ]
  },
  {
   "cell_type": "code",
   "execution_count": 113,
   "id": "c4e220e1",
   "metadata": {},
   "outputs": [
    {
     "name": "stdout",
     "output_type": "stream",
     "text": [
      "02/22/2013,$13.271,62456040,$13.331,$13.3555,$13.0805\r",
      "\r\n",
      "02/21/2013,$13.297,72675940,$13.256,$13.474,$13.1625\r",
      "\r\n",
      "02/20/2013,$13.3205,70577240,$13.51,$13.715,$13.3186\r",
      "\r\n",
      "02/19/2013,$13.4875,57065040,$13.2955,$13.5055,$13.225\r",
      "\r\n",
      "02/15/2013,$13.2545,79592640,$13.3815,$13.446,$13.1555\r",
      "\r\n",
      "02/14/2013,$13.462,69237600,$13.3685,$13.5325,$13.27\r",
      "\r\n",
      "02/13/2013,$13.4735,105804040,$13.0765,$13.498,$13.015\r",
      "\r\n",
      "02/12/2013,$12.935,58630880,$12.9595,$13.008,$12.85\r",
      "\r\n",
      "02/11/2013,$12.8605,68029860,$13.16,$13.1625,$12.83\r",
      "\r\n",
      "02/08/2013,$13.0975,77581560,$13.07,$13.2625,$13.0278\r",
      "\r\n"
     ]
    }
   ],
   "source": [
    "!tail HistoricalData_1675853088207.csv # the last 10 lines"
   ]
  },
  {
   "cell_type": "code",
   "execution_count": 133,
   "id": "3bbf1c88",
   "metadata": {},
   "outputs": [],
   "source": [
    "for line in open('HistoricalData_1675853088207.csv'):   #as looping over any text files\n",
    "    # print(line)\n",
    "    ..."
   ]
  },
  {
   "cell_type": "markdown",
   "id": "629b9c90",
   "metadata": {},
   "source": [
    "    Date,Close/Last,Volume,Open,High,Low\n",
    "\n",
    "    02/07/2023,$102.11,119501300,$101.17,$102.41,$98.08\n",
    "\n",
    "    02/06/2023,$102.18,81945200,$102.925,$103.9484,$100.65\n",
    "\n",
    "    02/03/2023,$103.39,144374800,$105.26,$108.78,$102.52\n",
    "    ..."
   ]
  },
  {
   "cell_type": "code",
   "execution_count": 115,
   "id": "ac452459",
   "metadata": {},
   "outputs": [],
   "source": [
    "import csv #library specialized for csv files"
   ]
  },
  {
   "cell_type": "code",
   "execution_count": 116,
   "id": "8b6a116a",
   "metadata": {},
   "outputs": [
    {
     "data": {
      "text/plain": [
       "['Dialect',\n",
       " 'DictReader',\n",
       " 'DictWriter',\n",
       " 'Error',\n",
       " 'QUOTE_ALL',\n",
       " 'QUOTE_MINIMAL',\n",
       " 'QUOTE_NONE',\n",
       " 'QUOTE_NONNUMERIC',\n",
       " 'Sniffer',\n",
       " 'StringIO',\n",
       " '_Dialect',\n",
       " '__all__',\n",
       " '__builtins__',\n",
       " '__cached__',\n",
       " '__doc__',\n",
       " '__file__',\n",
       " '__loader__',\n",
       " '__name__',\n",
       " '__package__',\n",
       " '__spec__',\n",
       " '__version__',\n",
       " 'excel',\n",
       " 'excel_tab',\n",
       " 'field_size_limit',\n",
       " 'get_dialect',\n",
       " 'list_dialects',\n",
       " 're',\n",
       " 'reader',\n",
       " 'register_dialect',\n",
       " 'unix_dialect',\n",
       " 'unregister_dialect',\n",
       " 'writer']"
      ]
     },
     "execution_count": 116,
     "metadata": {},
     "output_type": "execute_result"
    }
   ],
   "source": [
    "dir(csv)"
   ]
  },
  {
   "cell_type": "code",
   "execution_count": 117,
   "id": "e538a3af",
   "metadata": {},
   "outputs": [
    {
     "name": "stdout",
     "output_type": "stream",
     "text": [
      "Help on built-in function reader in module _csv:\n",
      "\n",
      "reader(...)\n",
      "    csv_reader = reader(iterable [, dialect='excel']\n",
      "                            [optional keyword args])\n",
      "        for row in csv_reader:\n",
      "            process(row)\n",
      "    \n",
      "    The \"iterable\" argument can be any object that returns a line\n",
      "    of input for each iteration, such as a file object or a list.  The\n",
      "    optional \"dialect\" parameter is discussed below.  The function\n",
      "    also accepts optional keyword arguments which override settings\n",
      "    provided by the dialect.\n",
      "    \n",
      "    The returned object is an iterator.  Each iteration returns a row\n",
      "    of the CSV file (which can span multiple input lines).\n",
      "\n"
     ]
    }
   ],
   "source": [
    "help(csv.reader)"
   ]
  },
  {
   "cell_type": "code",
   "execution_count": 134,
   "id": "183cb47c",
   "metadata": {},
   "outputs": [],
   "source": [
    "csv_reader = csv.reader(open('HistoricalData_1675853088207.csv'))\n",
    "for row in csv_reader:  \n",
    "    # print(row)  # each line a list of values, separating lines on commas\n",
    "    ..."
   ]
  },
  {
   "cell_type": "markdown",
   "id": "18c21721",
   "metadata": {},
   "source": [
    "    ['Date', 'Close/Last', 'Volume', 'Open', 'High', 'Low']\n",
    "    ['02/07/2023', '$102.11', '119501300', '$101.17', '$102.41', '$98.08']\n",
    "    ['02/06/2023', '$102.18', '81945200', '$102.925', '$103.9484', '$100.65']\n",
    "    ['02/03/2023', '$103.39', '144374800', '$105.26', '$108.78', '$102.52']\n",
    "    ..."
   ]
  },
  {
   "cell_type": "code",
   "execution_count": 137,
   "id": "81d20227",
   "metadata": {},
   "outputs": [],
   "source": [
    "csv_reader = csv.DictReader(open('HistoricalData_1675853088207.csv'))\n",
    "for row in csv_reader:  \n",
    "    # print(row)  # each line a dictionary of values, keys from column headers\n",
    "    ..."
   ]
  },
  {
   "cell_type": "markdown",
   "id": "f3db02d6",
   "metadata": {},
   "source": [
    "    {'Date': '02/07/2023', 'Close/Last': '$102.11', 'Volume': '119501300', 'Open': '$101.17', 'High': '$102.41', 'Low': '$98.08'}\n",
    "    {'Date': '02/06/2023', 'Close/Last': '$102.18', 'Volume': '81945200', 'Open': '$102.925', 'High': '$103.9484', 'Low': '$100.65'}\n",
    "    {'Date': '02/03/2023', 'Close/Last': '$103.39', 'Volume': '144374800', 'Open': '$105.26', 'High': '$108.78', 'Low': '$102.52'}\n",
    "    {'Date': '02/02/2023', 'Close/Last': '$112.91', 'Volume': '158154200', 'Open': '$110.245', 'High': '$114', 'Low': '$108.88'}\n",
    "    ..."
   ]
  },
  {
   "cell_type": "markdown",
   "id": "be3b20d1",
   "metadata": {},
   "source": [
    "### Exercise\n",
    "For each trading day in the csv file reserve $1 worth of shares using the closing price. How much will we save?"
   ]
  },
  {
   "cell_type": "code",
   "execution_count": 141,
   "id": "13441d6d",
   "metadata": {},
   "outputs": [],
   "source": [
    "csv_reader = csv.DictReader(open('HistoricalData_1675853088207.csv'))\n",
    "shares = 0\n",
    "for row in csv_reader:\n",
    "    # convert the price data from string to float skipping the initial $ character (using [1:])\n",
    "    closing_price_of_day = float(row['Close/Last'][1:])  \n",
    "    if shares == 0:\n",
    "        latest_price = closing_price_of_day # save the latest price from the first iteration\n",
    "    shares_purchased = 1/closing_price_of_day\n",
    "    shares += shares_purchased\n",
    "    # print(shares_purchased, shares)"
   ]
  },
  {
   "cell_type": "markdown",
   "id": "f13731f4",
   "metadata": {},
   "source": [
    "    0.009793360101850945 0.009793360101850945\n",
    "    0.009786651008025053 0.019580011109876\n",
    "    0.009672115291614276 0.029252126401490275\n",
    "    ..."
   ]
  },
  {
   "cell_type": "code",
   "execution_count": 132,
   "id": "69c1b798",
   "metadata": {},
   "outputs": [
    {
     "data": {
      "text/plain": [
       "6736.24"
      ]
     },
     "execution_count": 132,
     "metadata": {},
     "output_type": "execute_result"
    }
   ],
   "source": [
    "value = shares * latest_price\n",
    "round(value, 2)"
   ]
  }
 ],
 "metadata": {
  "kernelspec": {
   "display_name": "Python 3 (ipykernel)",
   "language": "python",
   "name": "python3"
  },
  "language_info": {
   "codemirror_mode": {
    "name": "ipython",
    "version": 3
   },
   "file_extension": ".py",
   "mimetype": "text/x-python",
   "name": "python",
   "nbconvert_exporter": "python",
   "pygments_lexer": "ipython3",
   "version": "3.10.9"
  }
 },
 "nbformat": 4,
 "nbformat_minor": 5
}
