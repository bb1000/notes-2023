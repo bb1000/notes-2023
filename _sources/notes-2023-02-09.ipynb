{
 "cells": [
  {
   "cell_type": "markdown",
   "id": "d9f00da3",
   "metadata": {},
   "source": [
    "## Notes 2023-02-09"
   ]
  },
  {
   "cell_type": "markdown",
   "id": "6ac6aa94",
   "metadata": {},
   "source": [
    "Continuation of the stock example\n",
    "\n",
    "* converting juypter cell code to python script in a text file\n",
    "* generalizing usage so that we can extract data from several companies\n",
    "* some error handling in the script for wrong user input\n",
    "\n",
    "Result"
   ]
  },
  {
   "cell_type": "markdown",
   "id": "cdf59f04",
   "metadata": {},
   "source": [
    "~~~\n",
    "#stocks.py\n",
    "import csv\n",
    "import sys\n",
    "import pathlib\n",
    "\n",
    "this_code = sys.argv[0]\n",
    "\n",
    "if len(sys.argv) < 2:\n",
    "    print(f\"Usage: {this_code} csv_file\")\n",
    "    exit()\n",
    "\n",
    "csv_file = sys.argv[1]\n",
    "\n",
    "if not pathlib.Path(csv_file).is_file():\n",
    "    print(f'{csv_file} does not exist')\n",
    "    exit()\n",
    "    \n",
    "csv_reader = csv.DictReader(open(csv_file))\n",
    "shares = 0\n",
    "for row in csv_reader:\n",
    "    # convert the price data from string to float skipping the initial $ character (using [1:])\n",
    "    closing_price_of_day = float(row['Close/Last'][1:])  \n",
    "    if shares == 0:\n",
    "        latest_price = closing_price_of_day # save the latest price from the first iteration\n",
    "    shares_purchased = 1/closing_price_of_day\n",
    "    shares += shares_purchased\n",
    "    # print(shares_purchased, shares)\n",
    "\n",
    "value = shares * latest_price\n",
    "print(f'Total ({csv_file}) shares={round(shares, 3)} value={round(value, 2)}')\n",
    "~~~"
   ]
  },
  {
   "cell_type": "markdown",
   "id": "d19c0d29",
   "metadata": {},
   "source": [
    "Observations\n",
    "\n",
    "* `sys.argv` is a list where Python captures command-line arguments\n",
    "* The first element (index 0) is always the name of the script (here `stocks.py`)\n",
    "* We check the length of `sys.argv` to ensure that we have enough arguments\n",
    "* We check that the first argument corresponds to an existing file\n",
    "* If one of these do not hold, we cannot continue and print an error message and exit"
   ]
  },
  {
   "cell_type": "code",
   "execution_count": 1,
   "id": "d03cd17f",
   "metadata": {},
   "outputs": [
    {
     "name": "stdout",
     "output_type": "stream",
     "text": [
      "Total (amazon.csv) shares=65.97 value=6736.24\n",
      "Total (apple.csv) shares=66.29 value=10070.72\n",
      "Total (tesla.csv) shares=137.406 value=27658.42\n"
     ]
    }
   ],
   "source": [
    "!python stocks.py amazon.csv\n",
    "!python stocks.py apple.csv\n",
    "!python stocks.py tesla.csv"
   ]
  },
  {
   "cell_type": "markdown",
   "id": "d904d18a",
   "metadata": {},
   "source": [
    "You can download the data from github; [amazon.csv](https://github.com/bb1000/notes-2023/blob/master/amazon.csv), [apple.csv](https://github.com/bb1000/notes-2023/blob/master/apple.csv), and [tesla.csv](https://github.com/bb1000/notes-2023/blob/master/tesla.csv)"
   ]
  }
 ],
 "metadata": {
  "kernelspec": {
   "display_name": "Python 3 (ipykernel)",
   "language": "python",
   "name": "python3"
  },
  "language_info": {
   "codemirror_mode": {
    "name": "ipython",
    "version": 3
   },
   "file_extension": ".py",
   "mimetype": "text/x-python",
   "name": "python",
   "nbconvert_exporter": "python",
   "pygments_lexer": "ipython3",
   "version": "3.10.9"
  }
 },
 "nbformat": 4,
 "nbformat_minor": 5
}
