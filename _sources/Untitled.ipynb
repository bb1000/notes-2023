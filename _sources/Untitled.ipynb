{
 "cells": [
  {
   "cell_type": "code",
   "execution_count": 4,
   "id": "e3956567",
   "metadata": {},
   "outputs": [],
   "source": [
    "import pandas as pd\n",
    "import random"
   ]
  },
  {
   "cell_type": "code",
   "execution_count": 9,
   "id": "3d07b057",
   "metadata": {},
   "outputs": [],
   "source": [
    "st = pd.read_csv('students.csv', index_col='id')"
   ]
  },
  {
   "cell_type": "code",
   "execution_count": 18,
   "id": "a2f9b030",
   "metadata": {},
   "outputs": [
    {
     "data": {
      "text/plain": [
       "Index(['last_name', 'first_name', 'email'], dtype='object')"
      ]
     },
     "execution_count": 18,
     "metadata": {},
     "output_type": "execute_result"
    }
   ],
   "source": [
    "st.columns"
   ]
  },
  {
   "cell_type": "code",
   "execution_count": 38,
   "id": "322316aa",
   "metadata": {},
   "outputs": [
    {
     "data": {
      "text/plain": [
       "last_name             Iluba\n",
       "first_name    Joseph Ishara\n",
       "email          iluba@kth.se\n",
       "Name: 125126, dtype: object"
      ]
     },
     "execution_count": 38,
     "metadata": {},
     "output_type": "execute_result"
    }
   ],
   "source": [
    "winner = st.loc[random.choice(st.index)]\n",
    "winner"
   ]
  },
  {
   "cell_type": "markdown",
   "id": "2fee8614",
   "metadata": {},
   "source": [
    "simpler my range"
   ]
  },
  {
   "cell_type": "code",
   "execution_count": 42,
   "id": "9005fd57",
   "metadata": {},
   "outputs": [],
   "source": [
    "def myrangefunction(n):\n",
    "    i = 0\n",
    "    while i < n:\n",
    "        print(i)\n",
    "        i += 1"
   ]
  },
  {
   "cell_type": "code",
   "execution_count": 43,
   "id": "5ad28cc7",
   "metadata": {},
   "outputs": [
    {
     "name": "stdout",
     "output_type": "stream",
     "text": [
      "0\n",
      "1\n",
      "2\n"
     ]
    }
   ],
   "source": [
    "myrangefunction(3)"
   ]
  },
  {
   "cell_type": "code",
   "execution_count": 44,
   "id": "5ae08c53",
   "metadata": {},
   "outputs": [],
   "source": [
    "def myrangefunction2(n):\n",
    "    i = 0\n",
    "    li = []\n",
    "    while i < n:\n",
    "        li.append(i)\n",
    "        i += 1\n",
    "    return li"
   ]
  },
  {
   "cell_type": "code",
   "execution_count": 45,
   "id": "18dc61bb",
   "metadata": {},
   "outputs": [
    {
     "data": {
      "text/plain": [
       "[0, 1, 2]"
      ]
     },
     "execution_count": 45,
     "metadata": {},
     "output_type": "execute_result"
    }
   ],
   "source": [
    "myrangefunction2(3)\n"
   ]
  },
  {
   "cell_type": "code",
   "execution_count": 46,
   "id": "6efd1603",
   "metadata": {},
   "outputs": [
    {
     "name": "stdout",
     "output_type": "stream",
     "text": [
      "0\n",
      "1\n",
      "2\n"
     ]
    }
   ],
   "source": [
    "for i in myrangefunction2(3):\n",
    "    print(i)\n"
   ]
  },
  {
   "cell_type": "code",
   "execution_count": 47,
   "id": "0bef6fda",
   "metadata": {},
   "outputs": [],
   "source": [
    "def myrangeasgenerator(n):\n",
    "    i = 0\n",
    "    while i < n:\n",
    "        yield i\n",
    "        i += 1\n",
    "        "
   ]
  },
  {
   "cell_type": "code",
   "execution_count": 48,
   "id": "da9f89c5",
   "metadata": {},
   "outputs": [
    {
     "data": {
      "text/plain": [
       "<generator object myrangeasgenerator at 0x7f9c9905a730>"
      ]
     },
     "execution_count": 48,
     "metadata": {},
     "output_type": "execute_result"
    }
   ],
   "source": []
  },
  {
   "cell_type": "code",
   "execution_count": 54,
   "id": "48f925c5",
   "metadata": {},
   "outputs": [
    {
     "name": "stdout",
     "output_type": "stream",
     "text": [
      "0\n",
      "1\n",
      "2\n"
     ]
    }
   ],
   "source": [
    "for i in myrangeasgenerator(3):\n",
    "    print(i)"
   ]
  },
  {
   "cell_type": "code",
   "execution_count": 56,
   "id": "d9d3d1df",
   "metadata": {},
   "outputs": [
    {
     "name": "stdout",
     "output_type": "stream",
     "text": [
      "Writing numbers.txt\n"
     ]
    }
   ],
   "source": [
    "%%file numbers.txt\n",
    "1 2 3\n",
    "4 5 6 7\n",
    "8 9 10\n"
   ]
  },
  {
   "cell_type": "code",
   "execution_count": 59,
   "id": "ff3246fa",
   "metadata": {},
   "outputs": [],
   "source": [
    "def number_generator(filename):\n",
    "    with open(filename) as f:\n",
    "        for line in f:\n",
    "            for n in line.split():\n",
    "                yield int(n)"
   ]
  },
  {
   "cell_type": "code",
   "execution_count": 60,
   "id": "e3c1b8c9",
   "metadata": {},
   "outputs": [
    {
     "name": "stdout",
     "output_type": "stream",
     "text": [
      "1\n",
      "2\n",
      "3\n",
      "4\n",
      "5\n",
      "6\n",
      "7\n",
      "8\n",
      "9\n",
      "10\n"
     ]
    }
   ],
   "source": [
    "for i in number_generator('numbers.txt'):\n",
    "    print(i)"
   ]
  },
  {
   "cell_type": "code",
   "execution_count": 62,
   "id": "e9262a52",
   "metadata": {},
   "outputs": [
    {
     "data": {
      "text/plain": [
       "55"
      ]
     },
     "execution_count": 62,
     "metadata": {},
     "output_type": "execute_result"
    }
   ],
   "source": [
    "sum(number_generator('numbers.txt'))"
   ]
  }
 ],
 "metadata": {
  "kernelspec": {
   "display_name": "Python 3 (ipykernel)",
   "language": "python",
   "name": "python3"
  },
  "language_info": {
   "codemirror_mode": {
    "name": "ipython",
    "version": 3
   },
   "file_extension": ".py",
   "mimetype": "text/x-python",
   "name": "python",
   "nbconvert_exporter": "python",
   "pygments_lexer": "ipython3",
   "version": "3.10.9"
  }
 },
 "nbformat": 4,
 "nbformat_minor": 5
}
