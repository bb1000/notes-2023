{
 "cells": [
  {
   "cell_type": "markdown",
   "id": "1c9db352",
   "metadata": {},
   "source": [
    "# Notes 2023-01-26\n",
    "\n",
    "## new account\n",
    "\n",
    "We started with a new account to set up access to the KTH Github server. We need to create SSH keys with `ssh-keygen`. Choose all defaults be pressing enter, except for the password. ssh-keygen allows empty passwords but these can be idenitfied and blocked by servers you may want to connect to\n",
    "\n",
    "    $ ssh-keygen\n",
    "    Generating public/private rsa key pair.\n",
    "    Enter file in which to save the key (/home/user/.ssh/id_rsa): \n",
    "    Created directory '/home/user/.ssh'.\n",
    "    Enter passphrase (empty for no passphrase): \n",
    "    Enter same passphrase again: \n",
    "    Your identification has been saved in /home/user/.ssh/id_rsa\n",
    "    Your public key has been saved in /home/user/.ssh/id_rsa.pub\n",
    "    The key fingerprint is:\n",
    "    SHA256:sg6AvhEHbI9AofebPJjZckSE0RL/T023eUsIrNsLsnw bb1000@bat\n",
    "    The key's randomart image is:\n",
    "    +---[RSA 3072]----+\n",
    "    | o+=.            |\n",
    "    |+ oo.    .       |\n",
    "    |o+..o     + .    |\n",
    "    |oo+o .   + o +   |\n",
    "    |.o.oo o S . + o  |\n",
    "    |. oO o = o   o . |\n",
    "    | o= O o + .   .  |\n",
    "    |  oo = oE. .     |\n",
    "    | .    +.  .      |\n",
    "    +----[SHA256]-----+\n",
    "\n",
    "\n",
    "In the `.ssh` subfolder we will have a key pair, a public and a private key in separate files, id_rsa.pub and id_rsa respectively. Copy-paste the content of the public key file \n",
    "    $ more .ssh/id_rsa.pub\n",
    "    ssh-rsa AAAAB3NzaC1yc2EAAAADAQABAAABgQC3s/u/QDy90uDQYm7/nrzXtANB9Mh/7xnPbNpoKTpT\n",
    "    5ZL3QJ0BlzhzK5gvFmQo2Fw/ivmJnnXUeEEUXaJ7I8C8kAUwPs6ca2FooBS6pJQLswhb4D4eH2K27+2r\n",
    "    2hTsPdlXjI4h0GitejYI4/0n4OSp00v8F6KWlIkin1y8dedJ5IzxjlEmGNRIZ8Iwr/ceE7nJZ9HmxB1u\n",
    "    8e9knYwH3kbaMXwNq+CKN31eyaaDIZaQyuXunhNqKR0Moe7+Xku6UDH+TBZEbl8G7M+eXkRLvT7oQJ/I\n",
    "    Zrz056QPdTCcFstmw5Tmat6590sAmKe2x4TrPOdriu51yIJsQwt5C7UBc4DNAnMEFnPyEgR57FnTmeIS\n",
    "    yT5jfMjN50/HCJGHW2sjhXEpz/ZNaDDTZTRY++GMpONTZuJOiy3k8QD+XTlmq21paS+rkDrKAj8ftkXX\n",
    "    jyiC9JQRacyKNOP5R4aNQ9GnFQOxGL7hd4wLtCNowt5gfD7/NnB1Unr1L4CcuT2pLx5iwD0= bb1000@\n",
    "    bat\n",
    "    \n",
    "\n",
    "to the Github profile settings\n",
    "\n",
    "![](menu1.png)\n",
    "\n",
    "---\n",
    "select `SSH and GPG keys` from the menu\n",
    "\n",
    "![](menu2.png)\n",
    "\n",
    "---\n",
    "\n",
    "Select `New SSH key`\n",
    "\n",
    "![](keys.png)\n",
    "\n",
    "---\n",
    "In the `Key` field paste the public SSH key that you copied from the file `.ssh/id_rsa.pub`\n",
    "![](add.png)\n"
   ]
  },
  {
   "cell_type": "markdown",
   "id": "7a47f0cd",
   "metadata": {},
   "source": [
    "Now you should be able to clone the class repository from the command line\n",
    "\n",
    "    $ $ git clone git@gits-15.sys.kth.se:user/git-2023-01-30\n",
    "    Cloning into 'git-2023-01-30'...\n",
    "    remote: Enumerating objects: 6, done.\n",
    "    remote: Counting objects: 100% (6/6), done.\n",
    "    remote: Compressing objects: 100% (3/3), done.\n",
    "    remote: Total 6 (delta 0), reused 5 (delta 0), pack-reused 0\n",
    "    Receiving objects: 100% (6/6), done.\n"
   ]
  },
  {
   "cell_type": "markdown",
   "id": "4d0eebd0",
   "metadata": {},
   "source": [
    "## Why we have conflicts\n",
    "\n",
    "When two or more have modified the same file git will be confused how they can be combined. In the web interface we have\n",
    "\n",
    "![](conflicts.png)\n",
    "\n",
    "\n",
    "Press `Resolve conflicts`\n",
    "\n",
    "---\n",
    "\n",
    "![](resolve.png)"
   ]
  },
  {
   "cell_type": "code",
   "execution_count": null,
   "id": "51b87dec",
   "metadata": {},
   "outputs": [],
   "source": []
  }
 ],
 "metadata": {
  "kernelspec": {
   "display_name": "Python 3 (ipykernel)",
   "language": "python",
   "name": "python3"
  },
  "language_info": {
   "codemirror_mode": {
    "name": "ipython",
    "version": 3
   },
   "file_extension": ".py",
   "mimetype": "text/x-python",
   "name": "python",
   "nbconvert_exporter": "python",
   "pygments_lexer": "ipython3",
   "version": "3.10.9"
  }
 },
 "nbformat": 4,
 "nbformat_minor": 5
}
