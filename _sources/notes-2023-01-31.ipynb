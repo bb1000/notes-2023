{
 "cells": [
  {
   "cell_type": "markdown",
   "id": "e73d76cd",
   "metadata": {},
   "source": [
    "# Notes 2023-01-31\n",
    "\n",
    "## Installations for testing\n",
    "\n",
    "    $ conda install pytest pytest-cov"
   ]
  },
  {
   "cell_type": "code",
   "execution_count": 28,
   "id": "51c4a394",
   "metadata": {},
   "outputs": [],
   "source": [
    "assert True"
   ]
  },
  {
   "cell_type": "code",
   "execution_count": 29,
   "id": "338ae801",
   "metadata": {},
   "outputs": [
    {
     "ename": "AssertionError",
     "evalue": "",
     "output_type": "error",
     "traceback": [
      "\u001b[0;31m---------------------------------------------------------------------------\u001b[0m",
      "\u001b[0;31mAssertionError\u001b[0m                            Traceback (most recent call last)",
      "Cell \u001b[0;32mIn[29], line 1\u001b[0m\n\u001b[0;32m----> 1\u001b[0m \u001b[38;5;28;01massert\u001b[39;00m \u001b[38;5;28;01mFalse\u001b[39;00m\n",
      "\u001b[0;31mAssertionError\u001b[0m: "
     ]
    }
   ],
   "source": [
    "assert False"
   ]
  },
  {
   "cell_type": "code",
   "execution_count": 13,
   "id": "278985cc",
   "metadata": {},
   "outputs": [],
   "source": [
    "def test_slash_join():\n",
    "    calculated = slash_join_strings('abc', 'def')\n",
    "    expected = 'abc/def'\n",
    "    assert calculated == expected, f'{calculated} != {expected}'"
   ]
  },
  {
   "cell_type": "code",
   "execution_count": 24,
   "id": "bfcce30a",
   "metadata": {},
   "outputs": [],
   "source": [
    "def slash_join_strings(s1, s2):\n",
    "    \"\"\"\n",
    "    Joins two strings with a slash between\n",
    "    \n",
    "    >>> slash_join_strings('abc', 'def')\n",
    "    abc/def\n",
    "    \"\"\"\n",
    "    return s1 + \"/\" + s2"
   ]
  },
  {
   "cell_type": "code",
   "execution_count": 25,
   "id": "5ebb67cc",
   "metadata": {},
   "outputs": [],
   "source": [
    "test_slash_join()"
   ]
  },
  {
   "cell_type": "code",
   "execution_count": 26,
   "id": "9882d92f",
   "metadata": {},
   "outputs": [
    {
     "data": {
      "text/plain": [
       "\"\\n    Joins two strings with a slash between\\n    \\n    >>> slash_join_strings('abc', 'def')\\n    abc/def\\n    \""
      ]
     },
     "execution_count": 26,
     "metadata": {},
     "output_type": "execute_result"
    }
   ],
   "source": [
    "slash_join_strings.__doc__"
   ]
  },
  {
   "cell_type": "code",
   "execution_count": 27,
   "id": "7e71fcbc",
   "metadata": {},
   "outputs": [
    {
     "name": "stdout",
     "output_type": "stream",
     "text": [
      "Help on function slash_join_strings in module __main__:\n",
      "\n",
      "slash_join_strings(s1, s2)\n",
      "    Joins two strings with a slash between\n",
      "    \n",
      "    >>> slash_join_strings('abc', 'def')\n",
      "    abc/def\n",
      "\n"
     ]
    }
   ],
   "source": [
    "help(slash_join_strings)"
   ]
  },
  {
   "cell_type": "markdown",
   "id": "ff2e68fb",
   "metadata": {},
   "source": [
    "## Example from slides"
   ]
  },
  {
   "cell_type": "markdown",
   "id": "9a1f82e3",
   "metadata": {},
   "source": [
    "    #my_math.py\n",
    "    def test_my_add():\n",
    "       assert my_add(1, 1) == 2\n",
    "\n",
    "    def my_add(x, y):\n",
    "        \"\"\"\n",
    "        Adding numbers...\n",
    "\n",
    "        >>> my_add(2, 3)\n",
    "        5\n",
    "        \"\"\"\n",
    "\n",
    "        return x + y"
   ]
  },
  {
   "cell_type": "markdown",
   "id": "c9b15eac",
   "metadata": {},
   "source": [
    "### Sample solution to leap year \n",
    "\n",
    "    def is_leap_year(year):\n",
    "        \"\"\"\n",
    "        Returns True if year is a leap year\n",
    "\n",
    "        >>> is_leap_year(2023)\n",
    "        False\n",
    "        >>> is_leap_year(2024)\n",
    "        True\n",
    "        \"\"\"\n",
    "        if year % 100 == 0:\n",
    "            if year % 400 == 0:\n",
    "                return True\n",
    "            else:\n",
    "                return False\n",
    "        else:\n",
    "            if year % 4 == 0:\n",
    "                return True\n",
    "            else:\n",
    "                return False\n"
   ]
  },
  {
   "cell_type": "markdown",
   "id": "a6efb75f",
   "metadata": {},
   "source": [
    "## Testing with coverage\n",
    "\n",
    "Add the `--cov` option on the command line (only works with pytest-cov installed)\n",
    "\n",
    "`--cov` may be followed by the module we want to measure (most often what we want)\n",
    "\n",
    "When this is a python source file it is written without the `.py` extension"
   ]
  },
  {
   "cell_type": "code",
   "execution_count": 36,
   "id": "bf9a2c00",
   "metadata": {},
   "outputs": [
    {
     "name": "stdout",
     "output_type": "stream",
     "text": [
      "\u001b[1m============================= test session starts ==============================\u001b[0m\n",
      "platform linux -- Python 3.10.9, pytest-7.1.2, pluggy-1.0.0\n",
      "rootdir: /home/bb1000\n",
      "plugins: cov-3.0.0, anyio-3.5.0\n",
      "collected 1 item                                                               \u001b[0m\n",
      "\n",
      "test_my_math.py \u001b[32m.\u001b[0m\u001b[32m                                                        [100%]\u001b[0m\n",
      "\n",
      "---------- coverage: platform linux, python 3.10.9-final-0 -----------\n",
      "Name              Stmts   Miss  Cover\n",
      "-------------------------------------\n",
      "my_math.py            4      1    75%\n",
      "test_my_math.py       3      0   100%\n",
      "-------------------------------------\n",
      "TOTAL                 7      1    86%\n",
      "\n",
      "\n",
      "\u001b[32m============================== \u001b[32m\u001b[1m1 passed\u001b[0m\u001b[32m in 0.02s\u001b[0m\u001b[32m ===============================\u001b[0m\n"
     ]
    }
   ],
   "source": [
    "!pytest test_my_math.py --cov "
   ]
  },
  {
   "cell_type": "code",
   "execution_count": 35,
   "id": "7882c82c",
   "metadata": {},
   "outputs": [
    {
     "name": "stdout",
     "output_type": "stream",
     "text": [
      "\u001b[1m============================= test session starts ==============================\u001b[0m\n",
      "platform linux -- Python 3.10.9, pytest-7.1.2, pluggy-1.0.0\n",
      "rootdir: /home/bb1000\n",
      "plugins: cov-3.0.0, anyio-3.5.0\n",
      "collected 1 item                                                               \u001b[0m\n",
      "\n",
      "test_my_math.py \u001b[32m.\u001b[0m\u001b[32m                                                        [100%]\u001b[0m\n",
      "\n",
      "---------- coverage: platform linux, python 3.10.9-final-0 -----------\n",
      "Name              Stmts   Miss  Cover\n",
      "-------------------------------------\n",
      "my_math.py            4      1    75%\n",
      "test_my_math.py       3      0   100%\n",
      "-------------------------------------\n",
      "TOTAL                 7      1    86%\n",
      "\n",
      "\n",
      "\u001b[32m============================== \u001b[32m\u001b[1m1 passed\u001b[0m\u001b[32m in 0.02s\u001b[0m\u001b[32m ===============================\u001b[0m\n",
      "\u001b[1m============================= test session starts ==============================\u001b[0m\n",
      "platform linux -- Python 3.10.9, pytest-7.1.2, pluggy-1.0.0\n",
      "rootdir: /home/bb1000\n",
      "plugins: cov-3.0.0, anyio-3.5.0\n",
      "collected 1 item                                                               \u001b[0m\n",
      "\n",
      "test_my_math.py \u001b[32m.\u001b[0m\u001b[32m                                                        [100%]\u001b[0m\n",
      "\n",
      "---------- coverage: platform linux, python 3.10.9-final-0 -----------\n",
      "Name         Stmts   Miss  Cover\n",
      "--------------------------------\n",
      "my_math.py       4      1    75%\n",
      "--------------------------------\n",
      "TOTAL            4      1    75%\n",
      "\n",
      "\n",
      "\u001b[32m============================== \u001b[32m\u001b[1m1 passed\u001b[0m\u001b[32m in 0.02s\u001b[0m\u001b[32m ===============================\u001b[0m\n"
     ]
    }
   ],
   "source": [
    "!pytest test_my_math.py --cov my_math"
   ]
  }
 ],
 "metadata": {
  "kernelspec": {
   "display_name": "Python 3 (ipykernel)",
   "language": "python",
   "name": "python3"
  },
  "language_info": {
   "codemirror_mode": {
    "name": "ipython",
    "version": 3
   },
   "file_extension": ".py",
   "mimetype": "text/x-python",
   "name": "python",
   "nbconvert_exporter": "python",
   "pygments_lexer": "ipython3",
   "version": "3.10.9"
  }
 },
 "nbformat": 4,
 "nbformat_minor": 5
}
