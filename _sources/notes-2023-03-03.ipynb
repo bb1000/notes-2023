{
 "cells": [
  {
   "cell_type": "markdown",
   "id": "054199a9",
   "metadata": {},
   "source": [
    "# Notes 2023-03-03"
   ]
  },
  {
   "cell_type": "markdown",
   "id": "06fa404b",
   "metadata": {},
   "source": [
    "## Decorators"
   ]
  },
  {
   "cell_type": "markdown",
   "id": "727771e6",
   "metadata": {},
   "source": [
    "As seen before\n",
    "\n",
    "    @pytest.mark.parametrize\n",
    "    def test_xxx()\n",
    "        ....\n",
    "        \n",
    "example of decorator"
   ]
  },
  {
   "cell_type": "markdown",
   "id": "9d57ad88",
   "metadata": {},
   "source": [
    "A decorator is a function of a function returning a function"
   ]
  },
  {
   "cell_type": "code",
   "execution_count": 10,
   "id": "e0588183",
   "metadata": {},
   "outputs": [],
   "source": [
    "def f(x):\n",
    "    return x*x"
   ]
  },
  {
   "cell_type": "code",
   "execution_count": 11,
   "id": "becb58e0",
   "metadata": {},
   "outputs": [],
   "source": [
    "def g(func):\n",
    "    print('Hello')\n",
    "    return func"
   ]
  },
  {
   "cell_type": "code",
   "execution_count": 12,
   "id": "e737a59e",
   "metadata": {},
   "outputs": [
    {
     "name": "stdout",
     "output_type": "stream",
     "text": [
      "Hello\n"
     ]
    }
   ],
   "source": [
    "myfunc = g(f)"
   ]
  },
  {
   "cell_type": "code",
   "execution_count": 13,
   "id": "55ac4eaf",
   "metadata": {},
   "outputs": [
    {
     "data": {
      "text/plain": [
       "4"
      ]
     },
     "execution_count": 13,
     "metadata": {},
     "output_type": "execute_result"
    }
   ],
   "source": [
    "f(2)"
   ]
  },
  {
   "cell_type": "code",
   "execution_count": 14,
   "id": "a0d6242e",
   "metadata": {},
   "outputs": [
    {
     "data": {
      "text/plain": [
       "4"
      ]
     },
     "execution_count": 14,
     "metadata": {},
     "output_type": "execute_result"
    }
   ],
   "source": [
    "myfunc(2)"
   ]
  },
  {
   "cell_type": "code",
   "execution_count": 18,
   "id": "55834e7e",
   "metadata": {},
   "outputs": [],
   "source": [
    "def g(func):\n",
    "    def wrapper(x):\n",
    "        print('Hello')\n",
    "        return func(x)\n",
    "    return wrapper"
   ]
  },
  {
   "cell_type": "code",
   "execution_count": 19,
   "id": "561e3d4b",
   "metadata": {},
   "outputs": [],
   "source": [
    "myfunc = g(f)"
   ]
  },
  {
   "cell_type": "code",
   "execution_count": 20,
   "id": "2224368e",
   "metadata": {},
   "outputs": [
    {
     "name": "stdout",
     "output_type": "stream",
     "text": [
      "Hello\n"
     ]
    },
    {
     "data": {
      "text/plain": [
       "4"
      ]
     },
     "execution_count": 20,
     "metadata": {},
     "output_type": "execute_result"
    }
   ],
   "source": [
    "myfunc(2)"
   ]
  },
  {
   "cell_type": "markdown",
   "id": "b5f3819a",
   "metadata": {},
   "source": [
    "New notation"
   ]
  },
  {
   "cell_type": "code",
   "execution_count": 21,
   "id": "2bcbba7b",
   "metadata": {},
   "outputs": [],
   "source": [
    "@g\n",
    "def f(x):\n",
    "    return x*x"
   ]
  },
  {
   "cell_type": "markdown",
   "id": "00507966",
   "metadata": {},
   "source": [
    "Equivalent to \n",
    "\n",
    "    f = g(f)"
   ]
  },
  {
   "cell_type": "code",
   "execution_count": 22,
   "id": "d7eb99da",
   "metadata": {},
   "outputs": [
    {
     "name": "stdout",
     "output_type": "stream",
     "text": [
      "Hello\n"
     ]
    },
    {
     "data": {
      "text/plain": [
       "4"
      ]
     },
     "execution_count": 22,
     "metadata": {},
     "output_type": "execute_result"
    }
   ],
   "source": [
    "f(2)"
   ]
  },
  {
   "cell_type": "markdown",
   "id": "47fcbef8",
   "metadata": {},
   "source": [
    "### A more useful example"
   ]
  },
  {
   "cell_type": "code",
   "execution_count": 23,
   "id": "a33f3a04",
   "metadata": {},
   "outputs": [],
   "source": [
    "import time\n",
    "def slow(x):\n",
    "    result = x * x\n",
    "    time.sleep(1)\n",
    "    return result"
   ]
  },
  {
   "cell_type": "code",
   "execution_count": 28,
   "id": "b7249064",
   "metadata": {},
   "outputs": [
    {
     "data": {
      "text/plain": [
       "'slow'"
      ]
     },
     "execution_count": 28,
     "metadata": {},
     "output_type": "execute_result"
    }
   ],
   "source": [
    "slow.__name__"
   ]
  },
  {
   "cell_type": "code",
   "execution_count": 25,
   "id": "6084b33d",
   "metadata": {},
   "outputs": [
    {
     "data": {
      "text/plain": [
       "4"
      ]
     },
     "execution_count": 25,
     "metadata": {},
     "output_type": "execute_result"
    }
   ],
   "source": [
    "slow(2)"
   ]
  },
  {
   "cell_type": "code",
   "execution_count": 27,
   "id": "c3b6368e",
   "metadata": {},
   "outputs": [
    {
     "name": "stdout",
     "output_type": "stream",
     "text": [
      "Time spend in slow 1.000981092453003\n"
     ]
    }
   ],
   "source": [
    "# Take the time bfore and after and calculate difference\n",
    "t1 = time.time()\n",
    "slow(2)\n",
    "t2 = time.time()\n",
    "print(\"Time spend in slow\", t2 - t1)"
   ]
  },
  {
   "cell_type": "code",
   "execution_count": 36,
   "id": "3f726a09",
   "metadata": {},
   "outputs": [],
   "source": [
    "def time_me(f):\n",
    "    def wrapper(*args, **kwargs):\n",
    "        t1 = time.time()\n",
    "        result = f(*args, **kwargs)\n",
    "        t2 = time.time()\n",
    "        print(f\"Time spent in {f.__name__}\", t2 - t1)\n",
    "        return result\n",
    "    return wrapper\n",
    "        "
   ]
  },
  {
   "cell_type": "code",
   "execution_count": 37,
   "id": "8894fe5c",
   "metadata": {},
   "outputs": [],
   "source": [
    "@time_me\n",
    "def slow(x, c=1.0):\n",
    "    result = c * x * x\n",
    "    time.sleep(1)\n",
    "    return result"
   ]
  },
  {
   "cell_type": "code",
   "execution_count": 38,
   "id": "1c74d572",
   "metadata": {},
   "outputs": [
    {
     "name": "stdout",
     "output_type": "stream",
     "text": [
      "Time spent in slow 1.0010461807250977\n"
     ]
    },
    {
     "data": {
      "text/plain": [
       "4.0"
      ]
     },
     "execution_count": 38,
     "metadata": {},
     "output_type": "execute_result"
    }
   ],
   "source": [
    "slow(2)"
   ]
  },
  {
   "cell_type": "code",
   "execution_count": 39,
   "id": "0e76e315",
   "metadata": {},
   "outputs": [
    {
     "name": "stdout",
     "output_type": "stream",
     "text": [
      "Time spent in slow 1.0010802745819092\n"
     ]
    },
    {
     "data": {
      "text/plain": [
       "9.0"
      ]
     },
     "execution_count": 39,
     "metadata": {},
     "output_type": "execute_result"
    }
   ],
   "source": [
    "slow(3)"
   ]
  },
  {
   "cell_type": "code",
   "execution_count": 40,
   "id": "c27bded7",
   "metadata": {},
   "outputs": [
    {
     "name": "stdout",
     "output_type": "stream",
     "text": [
      "Time spent in slow 1.0011065006256104\n"
     ]
    },
    {
     "data": {
      "text/plain": [
       "18"
      ]
     },
     "execution_count": 40,
     "metadata": {},
     "output_type": "execute_result"
    }
   ],
   "source": [
    "slow(3, c=2)"
   ]
  },
  {
   "cell_type": "markdown",
   "id": "1430467e",
   "metadata": {},
   "source": [
    "## another example: track input/output for a function"
   ]
  },
  {
   "cell_type": "code",
   "execution_count": 41,
   "id": "3e04ea4d",
   "metadata": {},
   "outputs": [],
   "source": [
    "def say(greet, name):\n",
    "    return greet + \",\" +  name"
   ]
  },
  {
   "cell_type": "code",
   "execution_count": 42,
   "id": "4bfa1dbe",
   "metadata": {},
   "outputs": [
    {
     "data": {
      "text/plain": [
       "'Hello,Joe'"
      ]
     },
     "execution_count": 42,
     "metadata": {},
     "output_type": "execute_result"
    }
   ],
   "source": [
    "say(\"Hello\", 'Joe')"
   ]
  },
  {
   "cell_type": "code",
   "execution_count": 44,
   "id": "b13c47a8",
   "metadata": {},
   "outputs": [],
   "source": [
    "def trace(f):\n",
    "    def wrapper(*args, **kwargs):\n",
    "        print(f.__name__, 'called with', args, kwargs)\n",
    "        result = f(*args, **kwargs)\n",
    "        print(f.__name__, 'returns', result)\n",
    "        return result\n",
    "    return wrapper"
   ]
  },
  {
   "cell_type": "code",
   "execution_count": 45,
   "id": "2bf46852",
   "metadata": {},
   "outputs": [],
   "source": [
    "@trace\n",
    "def say(greet, name):\n",
    "    return greet + \",\" +  name"
   ]
  },
  {
   "cell_type": "code",
   "execution_count": 46,
   "id": "9f5956be",
   "metadata": {},
   "outputs": [
    {
     "name": "stdout",
     "output_type": "stream",
     "text": [
      "say called with ('Hello', 'Joe') {}\n",
      "say returns Hello,Joe\n"
     ]
    },
    {
     "data": {
      "text/plain": [
       "'Hello,Joe'"
      ]
     },
     "execution_count": 46,
     "metadata": {},
     "output_type": "execute_result"
    }
   ],
   "source": [
    "say(\"Hello\", 'Joe')"
   ]
  },
  {
   "cell_type": "code",
   "execution_count": 48,
   "id": "b48f0ee7",
   "metadata": {},
   "outputs": [],
   "source": [
    "@time_me\n",
    "@trace\n",
    "def say(greet, name):\n",
    "    return greet + \",\" +  name"
   ]
  },
  {
   "cell_type": "code",
   "execution_count": 49,
   "id": "7c68607b",
   "metadata": {},
   "outputs": [
    {
     "name": "stdout",
     "output_type": "stream",
     "text": [
      "say called with ('Hello', 'Joe') {}\n",
      "say returns Hello,Joe\n",
      "Time spent in wrapper 3.4809112548828125e-05\n"
     ]
    },
    {
     "data": {
      "text/plain": [
       "'Hello,Joe'"
      ]
     },
     "execution_count": 49,
     "metadata": {},
     "output_type": "execute_result"
    }
   ],
   "source": [
    "say(\"Hello\", 'Joe')"
   ]
  },
  {
   "cell_type": "markdown",
   "id": "a5f0dc13",
   "metadata": {},
   "source": [
    "Note the \n",
    "    \n",
    "<code>Time spent in <span style=\"color: red;\">wrapper</red></code>\n",
    "\n",
    "output. Not useful information - `functools.wraps` to the rescue"
   ]
  },
  {
   "cell_type": "code",
   "execution_count": 51,
   "id": "9189030b",
   "metadata": {},
   "outputs": [
    {
     "name": "stdout",
     "output_type": "stream",
     "text": [
      "say called with ('Hello', 'Joe') {}\n",
      "say returns Hello,Joe\n",
      "Time spent in say 0.00018644332885742188\n"
     ]
    },
    {
     "data": {
      "text/plain": [
       "'Hello,Joe'"
      ]
     },
     "execution_count": 51,
     "metadata": {},
     "output_type": "execute_result"
    }
   ],
   "source": [
    "from functools import wraps\n",
    "\n",
    "def trace(f):\n",
    "    @wraps(f)\n",
    "    def wrapper(*args, **kwargs):\n",
    "        print(f.__name__, 'called with', args, kwargs)\n",
    "        result = f(*args, **kwargs)\n",
    "        print(f.__name__, 'returns', result)\n",
    "        return result\n",
    "    return wrapper\n",
    "\n",
    "@time_me\n",
    "@trace\n",
    "def say(greet, name):\n",
    "    return greet + \",\" +  name\n",
    "\n",
    "say(\"Hello\", 'Joe')"
   ]
  },
  {
   "cell_type": "markdown",
   "id": "3e2724b0",
   "metadata": {},
   "source": [
    "The helper decorator functools.wraps keeps naming consistent"
   ]
  },
  {
   "cell_type": "markdown",
   "id": "9ba7dd49",
   "metadata": {},
   "source": [
    "## Context managers\n",
    "\n",
    "classes that support `with` statements. example\n",
    "\n",
    "example\n",
    "\n",
    "    with open(filename, 'w') as f:\n",
    "        f.write()"
   ]
  },
  {
   "cell_type": "code",
   "execution_count": 53,
   "id": "d5ba5b42",
   "metadata": {},
   "outputs": [],
   "source": [
    "class TimeMe:\n",
    "    ..."
   ]
  },
  {
   "cell_type": "code",
   "execution_count": 54,
   "id": "8c971d2a",
   "metadata": {},
   "outputs": [
    {
     "ename": "AttributeError",
     "evalue": "__enter__",
     "output_type": "error",
     "traceback": [
      "\u001b[0;31m---------------------------------------------------------------------------\u001b[0m",
      "\u001b[0;31mAttributeError\u001b[0m                            Traceback (most recent call last)",
      "Cell \u001b[0;32mIn[54], line 1\u001b[0m\n\u001b[0;32m----> 1\u001b[0m \u001b[38;5;28;01mwith\u001b[39;00m TimeMe() \u001b[38;5;28;01mas\u001b[39;00m tm:\n\u001b[1;32m      2\u001b[0m     \u001b[38;5;28;01mpass\u001b[39;00m\n",
      "\u001b[0;31mAttributeError\u001b[0m: __enter__"
     ]
    }
   ],
   "source": [
    "with TimeMe() as tm:\n",
    "    pass"
   ]
  },
  {
   "cell_type": "code",
   "execution_count": 62,
   "id": "35f706f9",
   "metadata": {},
   "outputs": [],
   "source": [
    "class TimeMe:\n",
    "    def __enter__(self):\n",
    "        self.t1 = time.time()\n",
    "    def __exit__(self, *args):\n",
    "        self.t2 = time.time()\n",
    "        print(\"Time spent:\", self.t2 - self.t1)"
   ]
  },
  {
   "cell_type": "code",
   "execution_count": 64,
   "id": "64e62764",
   "metadata": {},
   "outputs": [],
   "source": [
    "def slow(x, c=1.0):\n",
    "    result = c * x * x\n",
    "    time.sleep(1)\n",
    "    return result"
   ]
  },
  {
   "cell_type": "code",
   "execution_count": 66,
   "id": "dd0d9a12",
   "metadata": {},
   "outputs": [
    {
     "name": "stdout",
     "output_type": "stream",
     "text": [
      "8\n",
      "Time spent: 1.0013630390167236\n"
     ]
    }
   ],
   "source": [
    "with TimeMe():\n",
    "    print(slow(2, c=2))"
   ]
  },
  {
   "cell_type": "markdown",
   "id": "1f024584",
   "metadata": {},
   "source": [
    "## Iterators"
   ]
  },
  {
   "cell_type": "code",
   "execution_count": 67,
   "id": "35447fc2",
   "metadata": {},
   "outputs": [],
   "source": [
    "# strings, lists, dictionaries"
   ]
  },
  {
   "cell_type": "code",
   "execution_count": 68,
   "id": "c8b6ee70",
   "metadata": {},
   "outputs": [
    {
     "name": "stdout",
     "output_type": "stream",
     "text": [
      "a\n",
      "b\n",
      "c\n"
     ]
    }
   ],
   "source": [
    "for c in 'abc':\n",
    "    print(c)"
   ]
  },
  {
   "cell_type": "code",
   "execution_count": 69,
   "id": "7b7cb9b3",
   "metadata": {},
   "outputs": [
    {
     "name": "stdout",
     "output_type": "stream",
     "text": [
      "1\n",
      "2\n",
      "3\n"
     ]
    }
   ],
   "source": [
    "for element in [1,2,3]:\n",
    "    print(element)"
   ]
  },
  {
   "cell_type": "code",
   "execution_count": 70,
   "id": "c7189dd8",
   "metadata": {},
   "outputs": [
    {
     "name": "stdout",
     "output_type": "stream",
     "text": [
      "0\n",
      "1\n",
      "2\n"
     ]
    }
   ],
   "source": [
    "for i in range(3):\n",
    "    print(i)"
   ]
  },
  {
   "cell_type": "code",
   "execution_count": 78,
   "id": "d5ba9073",
   "metadata": {},
   "outputs": [
    {
     "name": "stdout",
     "output_type": "stream",
     "text": [
      "0\n",
      "1\n",
      "2\n"
     ]
    }
   ],
   "source": [
    "class MyRange:\n",
    "    def __init__(self, limit):\n",
    "        self.limit = limit\n",
    "        self.counter = -1\n",
    "        \n",
    "    def __iter__(self):  # called in the beginning of a for loop\n",
    "        return self\n",
    "    \n",
    "    def __next__(self):  # return values during iteraion\n",
    "        self.counter += 1\n",
    "        if self.counter == self.limit:\n",
    "            raise StopIteration\n",
    "        time.sleep(1)\n",
    "        return self.counter\n",
    "    \n",
    "for i in MyRange(3):\n",
    "    print(i)"
   ]
  },
  {
   "cell_type": "code",
   "execution_count": 80,
   "id": "41ed22e3",
   "metadata": {},
   "outputs": [],
   "source": [
    "my_range = MyRange(3)"
   ]
  },
  {
   "cell_type": "code",
   "execution_count": 81,
   "id": "d053415d",
   "metadata": {},
   "outputs": [
    {
     "data": {
      "text/plain": [
       "3"
      ]
     },
     "execution_count": 81,
     "metadata": {},
     "output_type": "execute_result"
    }
   ],
   "source": [
    "my_range.limit"
   ]
  },
  {
   "cell_type": "code",
   "execution_count": 82,
   "id": "5f81b599",
   "metadata": {},
   "outputs": [
    {
     "data": {
      "text/plain": [
       "-1"
      ]
     },
     "execution_count": 82,
     "metadata": {},
     "output_type": "execute_result"
    }
   ],
   "source": [
    "my_range.counter"
   ]
  },
  {
   "cell_type": "code",
   "execution_count": 83,
   "id": "5c741064",
   "metadata": {},
   "outputs": [],
   "source": [
    "my_range_iterator = iter(my_range)"
   ]
  },
  {
   "cell_type": "code",
   "execution_count": 84,
   "id": "c12ae99e",
   "metadata": {},
   "outputs": [
    {
     "data": {
      "text/plain": [
       "0"
      ]
     },
     "execution_count": 84,
     "metadata": {},
     "output_type": "execute_result"
    }
   ],
   "source": [
    "next(my_range_iterator)"
   ]
  },
  {
   "cell_type": "code",
   "execution_count": 85,
   "id": "0a112c3b",
   "metadata": {},
   "outputs": [
    {
     "data": {
      "text/plain": [
       "1"
      ]
     },
     "execution_count": 85,
     "metadata": {},
     "output_type": "execute_result"
    }
   ],
   "source": [
    "next(my_range_iterator)"
   ]
  },
  {
   "cell_type": "code",
   "execution_count": 86,
   "id": "8660210c",
   "metadata": {},
   "outputs": [
    {
     "data": {
      "text/plain": [
       "2"
      ]
     },
     "execution_count": 86,
     "metadata": {},
     "output_type": "execute_result"
    }
   ],
   "source": [
    "next(my_range_iterator)"
   ]
  },
  {
   "cell_type": "code",
   "execution_count": 87,
   "id": "020ff9c0",
   "metadata": {},
   "outputs": [
    {
     "ename": "StopIteration",
     "evalue": "",
     "output_type": "error",
     "traceback": [
      "\u001b[0;31m---------------------------------------------------------------------------\u001b[0m",
      "\u001b[0;31mStopIteration\u001b[0m                             Traceback (most recent call last)",
      "Cell \u001b[0;32mIn[87], line 1\u001b[0m\n\u001b[0;32m----> 1\u001b[0m \u001b[38;5;28;43mnext\u001b[39;49m\u001b[43m(\u001b[49m\u001b[43mmy_range_iterator\u001b[49m\u001b[43m)\u001b[49m\n",
      "Cell \u001b[0;32mIn[78], line 12\u001b[0m, in \u001b[0;36mMyRange.__next__\u001b[0;34m(self)\u001b[0m\n\u001b[1;32m     10\u001b[0m \u001b[38;5;28mself\u001b[39m\u001b[38;5;241m.\u001b[39mcounter \u001b[38;5;241m+\u001b[39m\u001b[38;5;241m=\u001b[39m \u001b[38;5;241m1\u001b[39m\n\u001b[1;32m     11\u001b[0m \u001b[38;5;28;01mif\u001b[39;00m \u001b[38;5;28mself\u001b[39m\u001b[38;5;241m.\u001b[39mcounter \u001b[38;5;241m==\u001b[39m \u001b[38;5;28mself\u001b[39m\u001b[38;5;241m.\u001b[39mlimit:\n\u001b[0;32m---> 12\u001b[0m     \u001b[38;5;28;01mraise\u001b[39;00m \u001b[38;5;167;01mStopIteration\u001b[39;00m\n\u001b[1;32m     13\u001b[0m time\u001b[38;5;241m.\u001b[39msleep(\u001b[38;5;241m1\u001b[39m)\n\u001b[1;32m     14\u001b[0m \u001b[38;5;28;01mreturn\u001b[39;00m \u001b[38;5;28mself\u001b[39m\u001b[38;5;241m.\u001b[39mcounter\n",
      "\u001b[0;31mStopIteration\u001b[0m: "
     ]
    }
   ],
   "source": [
    "next(my_range_iterator)"
   ]
  },
  {
   "cell_type": "code",
   "execution_count": 88,
   "id": "34e8e141",
   "metadata": {},
   "outputs": [
    {
     "data": {
      "text/plain": [
       "4"
      ]
     },
     "execution_count": 88,
     "metadata": {},
     "output_type": "execute_result"
    }
   ],
   "source": [
    "next(my_range_iterator)"
   ]
  },
  {
   "cell_type": "markdown",
   "id": "68949d94",
   "metadata": {},
   "source": [
    " oops unexpecteced behaviour, implementation must be improved"
   ]
  }
 ],
 "metadata": {
  "kernelspec": {
   "display_name": "Python 3 (ipykernel)",
   "language": "python",
   "name": "python3"
  },
  "language_info": {
   "codemirror_mode": {
    "name": "ipython",
    "version": 3
   },
   "file_extension": ".py",
   "mimetype": "text/x-python",
   "name": "python",
   "nbconvert_exporter": "python",
   "pygments_lexer": "ipython3",
   "version": "3.10.9"
  }
 },
 "nbformat": 4,
 "nbformat_minor": 5
}
