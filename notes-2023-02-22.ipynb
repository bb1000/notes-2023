{
 "cells": [
  {
   "cell_type": "markdown",
   "id": "1d7b73b6",
   "metadata": {},
   "source": [
    "# Notes 2023-02-22\n",
    "\n",
    "## The numpy library"
   ]
  },
  {
   "cell_type": "code",
   "execution_count": 2,
   "id": "070ede62",
   "metadata": {},
   "outputs": [],
   "source": [
    "import numpy as np"
   ]
  },
  {
   "cell_type": "code",
   "execution_count": 79,
   "id": "5651d724",
   "metadata": {},
   "outputs": [],
   "source": [
    "#dir(np)"
   ]
  },
  {
   "cell_type": "markdown",
   "id": "5431cb26",
   "metadata": {},
   "source": [
    "### np.array \n",
    "\n",
    "for creating array objects from a sequence"
   ]
  },
  {
   "cell_type": "code",
   "execution_count": 5,
   "id": "461f380a",
   "metadata": {},
   "outputs": [
    {
     "data": {
      "text/plain": [
       "array([30, 18,  2])"
      ]
     },
     "execution_count": 5,
     "metadata": {},
     "output_type": "execute_result"
    }
   ],
   "source": [
    "rhs = np.array([30, 18, 2])\n",
    "rhs"
   ]
  },
  {
   "cell_type": "markdown",
   "id": "2ec4a943",
   "metadata": {},
   "source": [
    "a nested list gives a two-dimensional structure"
   ]
  },
  {
   "cell_type": "code",
   "execution_count": 75,
   "id": "6527fbe1",
   "metadata": {},
   "outputs": [
    {
     "data": {
      "text/plain": [
       "array([[ 3,  0,  0],\n",
       "       [ 1,  8,  0],\n",
       "       [ 0,  4, -2]])"
      ]
     },
     "execution_count": 75,
     "metadata": {},
     "output_type": "execute_result"
    }
   ],
   "source": [
    "coefficient_matrix = np.array([[3, 0, 0], [1, 8, 0], [0, 4, -2]])\n",
    "coefficient_matrix"
   ]
  },
  {
   "cell_type": "markdown",
   "id": "4d9a18ca",
   "metadata": {},
   "source": [
    "### The linear algebra subpackage"
   ]
  },
  {
   "cell_type": "code",
   "execution_count": 78,
   "id": "b3f9ede8",
   "metadata": {},
   "outputs": [],
   "source": [
    "#dir(np.linalg)"
   ]
  },
  {
   "cell_type": "markdown",
   "id": "bf6db5ef",
   "metadata": {},
   "source": [
    "We use np.linalg.inv for inverting a matrix"
   ]
  },
  {
   "cell_type": "code",
   "execution_count": 77,
   "id": "2e39229e",
   "metadata": {},
   "outputs": [
    {
     "data": {
      "text/plain": [
       "array([[ 0.33333333,  0.        ,  0.        ],\n",
       "       [-0.04166667,  0.125     ,  0.        ],\n",
       "       [-0.08333333,  0.25      , -0.5       ]])"
      ]
     },
     "execution_count": 77,
     "metadata": {},
     "output_type": "execute_result"
    }
   ],
   "source": [
    "np.linalg.inv(coefficient_matrix)"
   ]
  },
  {
   "cell_type": "markdown",
   "id": "ac63a701",
   "metadata": {},
   "source": [
    "(latex typesetting)\n",
    "\n",
    "$$ Ax = b \\rightarrow x = A^{-1}b $$\n",
    "\n",
    "Here we multiply both sides by the inverse to get the vector of unknowns"
   ]
  },
  {
   "cell_type": "code",
   "execution_count": 80,
   "id": "630cbd6b",
   "metadata": {},
   "outputs": [
    {
     "data": {
      "text/plain": [
       "array([10.,  1.,  1.])"
      ]
     },
     "execution_count": 80,
     "metadata": {},
     "output_type": "execute_result"
    }
   ],
   "source": [
    "x = np.linalg.inv(coefficient_matrix) @ rhs\n",
    "x"
   ]
  },
  {
   "cell_type": "markdown",
   "id": "4563d1a8",
   "metadata": {},
   "source": [
    "Many sequence-like datatypes support unpacking of its elements"
   ]
  },
  {
   "cell_type": "code",
   "execution_count": 81,
   "id": "fe561de9",
   "metadata": {},
   "outputs": [],
   "source": [
    "a, b, c = x"
   ]
  },
  {
   "cell_type": "code",
   "execution_count": 82,
   "id": "16b9c248",
   "metadata": {},
   "outputs": [
    {
     "data": {
      "text/plain": [
       "10.0"
      ]
     },
     "execution_count": 82,
     "metadata": {},
     "output_type": "execute_result"
    }
   ],
   "source": [
    "a"
   ]
  },
  {
   "cell_type": "code",
   "execution_count": 83,
   "id": "f8acd0f9",
   "metadata": {},
   "outputs": [
    {
     "data": {
      "text/plain": [
       "1.0"
      ]
     },
     "execution_count": 83,
     "metadata": {},
     "output_type": "execute_result"
    }
   ],
   "source": [
    "b"
   ]
  },
  {
   "cell_type": "code",
   "execution_count": 84,
   "id": "14123034",
   "metadata": {},
   "outputs": [
    {
     "data": {
      "text/plain": [
       "1.0"
      ]
     },
     "execution_count": 84,
     "metadata": {},
     "output_type": "execute_result"
    }
   ],
   "source": [
    "c"
   ]
  },
  {
   "cell_type": "markdown",
   "id": "82102ab1",
   "metadata": {},
   "source": [
    "alternative approach (recommended) is to `np.linalg.solve` the linear system of equations without explicitely inverting the full matrix - more efficient"
   ]
  },
  {
   "cell_type": "code",
   "execution_count": 85,
   "id": "ca0c2d39",
   "metadata": {},
   "outputs": [
    {
     "data": {
      "text/plain": [
       "array([10.,  1.,  1.])"
      ]
     },
     "execution_count": 85,
     "metadata": {},
     "output_type": "execute_result"
    }
   ],
   "source": [
    "x = np.linalg.solve(coefficient_matrix, rhs)\n",
    "x"
   ]
  },
  {
   "cell_type": "markdown",
   "id": "1ad710f8",
   "metadata": {},
   "source": [
    "Answer to the problem in the [slide](https://bb1000.github.io/external_libraries/#9)"
   ]
  },
  {
   "cell_type": "code",
   "execution_count": 86,
   "id": "46cd790c",
   "metadata": {},
   "outputs": [
    {
     "data": {
      "text/plain": [
       "14.0"
      ]
     },
     "execution_count": 86,
     "metadata": {},
     "output_type": "execute_result"
    }
   ],
   "source": [
    "a + 3*b + c"
   ]
  },
  {
   "cell_type": "markdown",
   "id": "3269c8f9",
   "metadata": {},
   "source": [
    "as a scalar product"
   ]
  },
  {
   "cell_type": "code",
   "execution_count": 87,
   "id": "f8bf08e8",
   "metadata": {},
   "outputs": [
    {
     "data": {
      "text/plain": [
       "14.0"
      ]
     },
     "execution_count": 87,
     "metadata": {},
     "output_type": "execute_result"
    }
   ],
   "source": [
    "x @ np.array([1, 3, 1])"
   ]
  },
  {
   "cell_type": "markdown",
   "id": "2361a78f",
   "metadata": {},
   "source": [
    "Note that normal multiplication sign works elementwise"
   ]
  },
  {
   "cell_type": "code",
   "execution_count": 88,
   "id": "e077a027",
   "metadata": {},
   "outputs": [
    {
     "data": {
      "text/plain": [
       "array([100.,   1.,   1.])"
      ]
     },
     "execution_count": 88,
     "metadata": {},
     "output_type": "execute_result"
    }
   ],
   "source": [
    "x * x"
   ]
  },
  {
   "cell_type": "code",
   "execution_count": 89,
   "id": "9da54fe1",
   "metadata": {},
   "outputs": [
    {
     "data": {
      "text/plain": [
       "array([20.,  2.,  2.])"
      ]
     },
     "execution_count": 89,
     "metadata": {},
     "output_type": "execute_result"
    }
   ],
   "source": [
    "x + x"
   ]
  },
  {
   "cell_type": "code",
   "execution_count": 90,
   "id": "b926bea0",
   "metadata": {},
   "outputs": [
    {
     "data": {
      "text/plain": [
       "102.0"
      ]
     },
     "execution_count": 90,
     "metadata": {},
     "output_type": "execute_result"
    }
   ],
   "source": [
    "x @ x"
   ]
  },
  {
   "cell_type": "code",
   "execution_count": 27,
   "id": "4bdc3df7",
   "metadata": {},
   "outputs": [
    {
     "data": {
      "text/plain": [
       "102.0"
      ]
     },
     "execution_count": 27,
     "metadata": {},
     "output_type": "execute_result"
    }
   ],
   "source": [
    "x.__matmul__(x)"
   ]
  },
  {
   "cell_type": "markdown",
   "id": "df495e46",
   "metadata": {},
   "source": [
    "Note: the user of @ here maps to the class `__matmul__` method, and is completely separate from the use with decorators, e.g. the @staticmethod in the class lab"
   ]
  },
  {
   "cell_type": "markdown",
   "id": "65c0d7c8",
   "metadata": {},
   "source": [
    "## Example: matrix multiplication"
   ]
  },
  {
   "cell_type": "code",
   "execution_count": 29,
   "id": "16485521",
   "metadata": {},
   "outputs": [
    {
     "name": "stdout",
     "output_type": "stream",
     "text": [
      "Loop timing 9.231455326080322\n"
     ]
    }
   ],
   "source": [
    "import time\n",
    "import numpy\n",
    "n = 256\n",
    "a = numpy.ones((n, n))\n",
    "b = numpy.ones((n, n))\n",
    "c = numpy.zeros((n, n))\n",
    "t1 = time.time()\n",
    "for i in range(n):\n",
    "    for j in range(n):\n",
    "        for k in range(n):\n",
    "            c[i, j] += a[i, k]*b[k, j]\n",
    "t2 = time.time()\n",
    "print(\"Loop timing\", t2-t1)"
   ]
  },
  {
   "cell_type": "code",
   "execution_count": 30,
   "id": "d710529e",
   "metadata": {},
   "outputs": [
    {
     "data": {
      "text/plain": [
       "array([[1., 1., 1., ..., 1., 1., 1.],\n",
       "       [1., 1., 1., ..., 1., 1., 1.],\n",
       "       [1., 1., 1., ..., 1., 1., 1.],\n",
       "       ...,\n",
       "       [1., 1., 1., ..., 1., 1., 1.],\n",
       "       [1., 1., 1., ..., 1., 1., 1.],\n",
       "       [1., 1., 1., ..., 1., 1., 1.]])"
      ]
     },
     "execution_count": 30,
     "metadata": {},
     "output_type": "execute_result"
    }
   ],
   "source": [
    "a"
   ]
  },
  {
   "cell_type": "code",
   "execution_count": 31,
   "id": "badaf202",
   "metadata": {},
   "outputs": [
    {
     "data": {
      "text/plain": [
       "array([[256., 256., 256., ..., 256., 256., 256.],\n",
       "       [256., 256., 256., ..., 256., 256., 256.],\n",
       "       [256., 256., 256., ..., 256., 256., 256.],\n",
       "       ...,\n",
       "       [256., 256., 256., ..., 256., 256., 256.],\n",
       "       [256., 256., 256., ..., 256., 256., 256.],\n",
       "       [256., 256., 256., ..., 256., 256., 256.]])"
      ]
     },
     "execution_count": 31,
     "metadata": {},
     "output_type": "execute_result"
    }
   ],
   "source": [
    "c"
   ]
  },
  {
   "cell_type": "code",
   "execution_count": 32,
   "id": "9be54e9f",
   "metadata": {},
   "outputs": [
    {
     "name": "stdout",
     "output_type": "stream",
     "text": [
      "0.0027856826782226562\n"
     ]
    }
   ],
   "source": [
    "t1 = time.time()\n",
    "c = a @ b\n",
    "t2 = time.time()\n",
    "print(t2-t1)"
   ]
  },
  {
   "cell_type": "code",
   "execution_count": 33,
   "id": "05f473a1",
   "metadata": {},
   "outputs": [
    {
     "data": {
      "text/plain": [
       "1677062223.4808705"
      ]
     },
     "execution_count": 33,
     "metadata": {},
     "output_type": "execute_result"
    }
   ],
   "source": [
    "time.time()"
   ]
  },
  {
   "cell_type": "markdown",
   "id": "fbf9196f",
   "metadata": {},
   "source": [
    "There is a jupyter magic command to time the content of a cell `%%time`"
   ]
  },
  {
   "cell_type": "code",
   "execution_count": 91,
   "id": "eb35dfb8",
   "metadata": {},
   "outputs": [
    {
     "ename": "TypeError",
     "evalue": "unsupported operand type(s) for @: 'numpy.float64' and 'numpy.float64'",
     "output_type": "error",
     "traceback": [
      "\u001b[0;31m---------------------------------------------------------------------------\u001b[0m",
      "\u001b[0;31mTypeError\u001b[0m                                 Traceback (most recent call last)",
      "File \u001b[0;32m<timed exec>:1\u001b[0m\n",
      "\u001b[0;31mTypeError\u001b[0m: unsupported operand type(s) for @: 'numpy.float64' and 'numpy.float64'"
     ]
    }
   ],
   "source": [
    "%%time\n",
    "c = a @ b"
   ]
  },
  {
   "cell_type": "markdown",
   "id": "33937631",
   "metadata": {},
   "source": [
    "### Eigenvalues of a matrix\n",
    "\n",
    "$$ AX_i = \\lambda_i X_i $$"
   ]
  },
  {
   "cell_type": "code",
   "execution_count": 97,
   "id": "f3e6d4ac",
   "metadata": {},
   "outputs": [
    {
     "data": {
      "text/plain": [
       "array([[ 3,  0,  0],\n",
       "       [ 1,  8,  0],\n",
       "       [ 0,  4, -2]])"
      ]
     },
     "execution_count": 97,
     "metadata": {},
     "output_type": "execute_result"
    }
   ],
   "source": [
    "A = coefficient_matrix\n",
    "A"
   ]
  },
  {
   "cell_type": "code",
   "execution_count": 98,
   "id": "36b7a4fb",
   "metadata": {},
   "outputs": [
    {
     "data": {
      "text/plain": [
       "array([-2.,  8.,  3.])"
      ]
     },
     "execution_count": 98,
     "metadata": {},
     "output_type": "execute_result"
    }
   ],
   "source": [
    "l, X = np.linalg.eig(A)\n",
    "l"
   ]
  },
  {
   "cell_type": "markdown",
   "id": "364e1677",
   "metadata": {},
   "source": [
    "The columns of $X$ contain the eigenvectors"
   ]
  },
  {
   "cell_type": "code",
   "execution_count": 100,
   "id": "c406b66a",
   "metadata": {},
   "outputs": [
    {
     "data": {
      "text/plain": [
       "array([[ 0.        ,  0.        ,  0.96873032],\n",
       "       [ 0.        ,  0.92847669, -0.19374606],\n",
       "       [ 1.        ,  0.37139068, -0.15499685]])"
      ]
     },
     "execution_count": 100,
     "metadata": {},
     "output_type": "execute_result"
    }
   ],
   "source": [
    "X"
   ]
  },
  {
   "cell_type": "markdown",
   "id": "ddffc1a2",
   "metadata": {},
   "source": [
    "A multiplied with an eigenvector"
   ]
  },
  {
   "cell_type": "code",
   "execution_count": 106,
   "id": "36df03e5",
   "metadata": {},
   "outputs": [
    {
     "data": {
      "text/plain": [
       "array([ 0.,  0., -2.])"
      ]
     },
     "execution_count": 106,
     "metadata": {},
     "output_type": "execute_result"
    }
   ],
   "source": [
    "A @ X[:, 0]"
   ]
  },
  {
   "cell_type": "markdown",
   "id": "62968def",
   "metadata": {},
   "source": [
    "results in the same vector scaled by its eigenvalue"
   ]
  },
  {
   "cell_type": "code",
   "execution_count": 107,
   "id": "a98a10c1",
   "metadata": {},
   "outputs": [
    {
     "data": {
      "text/plain": [
       "array([-0., -0., -2.])"
      ]
     },
     "execution_count": 107,
     "metadata": {},
     "output_type": "execute_result"
    }
   ],
   "source": [
    "X[:, 0] * l[0]"
   ]
  },
  {
   "cell_type": "markdown",
   "id": "043942af",
   "metadata": {},
   "source": [
    "### Example: Taylor expansion\n",
    "\n",
    "Expande the function $f$ around expansion point $x_0$\n",
    "\n",
    "$$ f(x) = f(x_0) + (x - x_0)f'(x_0) + \\frac{1}{2}(x - x_0)^2 f''(x_0) ... $$"
   ]
  },
  {
   "cell_type": "code",
   "execution_count": 108,
   "id": "fec419a9",
   "metadata": {},
   "outputs": [
    {
     "data": {
      "text/plain": [
       "array([0. , 0.1, 0.2, 0.3, 0.4, 0.5, 0.6, 0.7, 0.8, 0.9, 1. , 1.1, 1.2,\n",
       "       1.3, 1.4, 1.5, 1.6, 1.7, 1.8, 1.9, 2. , 2.1, 2.2, 2.3, 2.4, 2.5,\n",
       "       2.6, 2.7, 2.8, 2.9, 3. , 3.1, 3.2, 3.3, 3.4, 3.5, 3.6, 3.7, 3.8,\n",
       "       3.9, 4. , 4.1, 4.2, 4.3, 4.4, 4.5, 4.6, 4.7, 4.8, 4.9, 5. , 5.1,\n",
       "       5.2, 5.3, 5.4, 5.5, 5.6, 5.7, 5.8, 5.9, 6. , 6.1, 6.2])"
      ]
     },
     "execution_count": 108,
     "metadata": {},
     "output_type": "execute_result"
    }
   ],
   "source": [
    "x = np.arange(0, 2*np.pi, .1)\n",
    "x"
   ]
  },
  {
   "cell_type": "code",
   "execution_count": 109,
   "id": "48e4679e",
   "metadata": {},
   "outputs": [
    {
     "data": {
      "text/plain": [
       "array([ 0.        ,  0.09983342,  0.19866933,  0.29552021,  0.38941834,\n",
       "        0.47942554,  0.56464247,  0.64421769,  0.71735609,  0.78332691,\n",
       "        0.84147098,  0.89120736,  0.93203909,  0.96355819,  0.98544973,\n",
       "        0.99749499,  0.9995736 ,  0.99166481,  0.97384763,  0.94630009,\n",
       "        0.90929743,  0.86320937,  0.8084964 ,  0.74570521,  0.67546318,\n",
       "        0.59847214,  0.51550137,  0.42737988,  0.33498815,  0.23924933,\n",
       "        0.14112001,  0.04158066, -0.05837414, -0.15774569, -0.2555411 ,\n",
       "       -0.35078323, -0.44252044, -0.52983614, -0.61185789, -0.68776616,\n",
       "       -0.7568025 , -0.81827711, -0.87157577, -0.91616594, -0.95160207,\n",
       "       -0.97753012, -0.993691  , -0.99992326, -0.99616461, -0.98245261,\n",
       "       -0.95892427, -0.92581468, -0.88345466, -0.83226744, -0.77276449,\n",
       "       -0.70554033, -0.63126664, -0.55068554, -0.46460218, -0.37387666,\n",
       "       -0.2794155 , -0.1821625 , -0.0830894 ])"
      ]
     },
     "execution_count": 109,
     "metadata": {},
     "output_type": "execute_result"
    }
   ],
   "source": [
    "fx = np.sin(x)\n",
    "fx"
   ]
  },
  {
   "cell_type": "code",
   "execution_count": 110,
   "id": "a110cf68",
   "metadata": {},
   "outputs": [
    {
     "data": {
      "text/plain": [
       "-0.9589242746631385"
      ]
     },
     "execution_count": 110,
     "metadata": {},
     "output_type": "execute_result"
    }
   ],
   "source": [
    "x_0  = 5 \n",
    " # our expansion point\n",
    "\n",
    "f0 = np.sin(x_0)\n",
    "f0"
   ]
  },
  {
   "cell_type": "code",
   "execution_count": 111,
   "id": "5d026bb6",
   "metadata": {},
   "outputs": [
    {
     "data": {
      "text/plain": [
       "array([-1.41831093, -1.38994471, -1.36157849, -1.33321227, -1.30484605,\n",
       "       -1.27647983, -1.24811362, -1.2197474 , -1.19138118, -1.16301496,\n",
       "       -1.13464874, -1.10628252, -1.0779163 , -1.04955009, -1.02118387,\n",
       "       -0.99281765, -0.96445143, -0.93608521, -0.90771899, -0.87935277,\n",
       "       -0.85098656, -0.82262034, -0.79425412, -0.7658879 , -0.73752168,\n",
       "       -0.70915546, -0.68078925, -0.65242303, -0.62405681, -0.59569059,\n",
       "       -0.56732437, -0.53895815, -0.51059193, -0.48222572, -0.4538595 ,\n",
       "       -0.42549328, -0.39712706, -0.36876084, -0.34039462, -0.3120284 ,\n",
       "       -0.28366219, -0.25529597, -0.22692975, -0.19856353, -0.17019731,\n",
       "       -0.14183109, -0.11346487, -0.08509866, -0.05673244, -0.02836622,\n",
       "        0.        ,  0.02836622,  0.05673244,  0.08509866,  0.11346487,\n",
       "        0.14183109,  0.17019731,  0.19856353,  0.22692975,  0.25529597,\n",
       "        0.28366219,  0.3120284 ,  0.34039462])"
      ]
     },
     "execution_count": 111,
     "metadata": {},
     "output_type": "execute_result"
    }
   ],
   "source": [
    "f1 = (x - x_0)*np.cos(x_0)\n",
    "f1"
   ]
  },
  {
   "cell_type": "code",
   "execution_count": 112,
   "id": "607812a0",
   "metadata": {},
   "outputs": [
    {
     "data": {
      "text/plain": [
       "array([-2.3772352 , -2.34886898, -2.32050276, -2.29213655, -2.26377033,\n",
       "       -2.23540411, -2.20703789, -2.17867167, -2.15030545, -2.12193924,\n",
       "       -2.09357302, -2.0652068 , -2.03684058, -2.00847436, -1.98010814,\n",
       "       -1.95174192, -1.92337571, -1.89500949, -1.86664327, -1.83827705,\n",
       "       -1.80991083, -1.78154461, -1.75317839, -1.72481218, -1.69644596,\n",
       "       -1.66807974, -1.63971352, -1.6113473 , -1.58298108, -1.55461486,\n",
       "       -1.52624865, -1.49788243, -1.46951621, -1.44114999, -1.41278377,\n",
       "       -1.38441755, -1.35605133, -1.32768512, -1.2993189 , -1.27095268,\n",
       "       -1.24258646, -1.21422024, -1.18585402, -1.1574878 , -1.12912159,\n",
       "       -1.10075537, -1.07238915, -1.04402293, -1.01565671, -0.98729049,\n",
       "       -0.95892427, -0.93055806, -0.90219184, -0.87382562, -0.8454594 ,\n",
       "       -0.81709318, -0.78872696, -0.76036074, -0.73199453, -0.70362831,\n",
       "       -0.67526209, -0.64689587, -0.61852965])"
      ]
     },
     "execution_count": 112,
     "metadata": {},
     "output_type": "execute_result"
    }
   ],
   "source": [
    "f0 + f1"
   ]
  },
  {
   "cell_type": "markdown",
   "id": "8852d9c5",
   "metadata": {},
   "source": [
    "*to be continued*"
   ]
  }
 ],
 "metadata": {
  "kernelspec": {
   "display_name": "Python 3 (ipykernel)",
   "language": "python",
   "name": "python3"
  },
  "language_info": {
   "codemirror_mode": {
    "name": "ipython",
    "version": 3
   },
   "file_extension": ".py",
   "mimetype": "text/x-python",
   "name": "python",
   "nbconvert_exporter": "python",
   "pygments_lexer": "ipython3",
   "version": "3.10.9"
  }
 },
 "nbformat": 4,
 "nbformat_minor": 5
}
