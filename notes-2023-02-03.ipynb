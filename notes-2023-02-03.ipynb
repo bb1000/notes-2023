{
 "cells": [
  {
   "cell_type": "markdown",
   "id": "86282a90",
   "metadata": {},
   "source": [
    "## Notes 2023-02-03\n",
    "\n",
    "### Revisiting leap year example\n",
    "\n",
    "In the leap year example we had the test function\n",
    "\n",
    "\n",
    "    def test_leap_year():\n",
    "        assert is_leap_year(2000) == True \n",
    "        assert is_leap_year(1999) == False\n",
    "        assert is_leap_year(1998) == False\n",
    "        assert is_leap_year(1996) == True\n",
    "        assert is_leap_year(1900) == False\n",
    "        assert is_leap_year(1800) == False\n",
    "        \n",
    "        \n",
    "        \n",
    "which is run as a single test_case. To split it to separate test functions one option could be to write one test function for each tested value\n",
    "\n",
    "\n",
    "    def test_leap_year_2000():\n",
    "        assert is_leap_year(2000) == True \n",
    "    def test_leap_year_1999():\n",
    "        assert is_leap_year(1999) == False\n",
    "    def test_leap_year_1998():\n",
    "        assert is_leap_year(1998) == False\n",
    "    def test_leap_year_1996():\n",
    "        assert is_leap_year(1996) == True\n",
    "    def test_leap_year_1900():\n",
    "        assert is_leap_year(1900) == False\n",
    "    def test_leap_year_1800():\n",
    "        assert is_leap_year(1800) == False\n",
    " \n",
    " \n",
    " which is reported separately by pytest\n",
    " \n",
    "     $ pytest test_leap.py  -v\n",
    "    ============================= test session starts ==============================\n",
    "    platform linux -- Python 3.10.9, pytest-7.1.2, pluggy-1.0.0 -- /home/bb1000/miniconda3/envs/bb1000/bin/python\n",
    "    cachedir: .pytest_cache\n",
    "    rootdir: /home/bb1000\n",
    "    plugins: cov-3.0.0, anyio-3.5.0\n",
    "    collected 6 items                                                              \n",
    "\n",
    "    test_leap.py::test_leap_year_2000 PASSED                                [ 16%]\n",
    "    test_leap.py::test_leap_year_1999 PASSED                                [ 33%]\n",
    "    test_leap.py::test_leap_year_1998 PASSED                                [ 50%]\n",
    "    test_leap.py::test_leap_year_1996 PASSED                                [ 66%]\n",
    "    test_leap.py::test_leap_year_1900 PASSED                                [ 83%]\n",
    "    test_leap.py::test_leap_year_1800 PASSED                                [100%]\n",
    "\n",
    "    ============================== 6 passed in 0.01s ===============================\n",
    "\n",
    "\n",
    "Another option is to use the parametrization feature provided by pytest\n",
    "`@pytest.mark.parametrize` is a so-called decarotor (starting with `@`) which is written above another function definition. The meaning of this is defined internally in pytest as a function of a function.\n",
    "\n",
    "\n",
    "    import pytest\n",
    "    @pytest.mark.parametrize(\"input_argument, expected_return\", [\n",
    "        (2000, True),\n",
    "        (1999, False),\n",
    "        (1998, False),\n",
    "        (1996, True),\n",
    "        (1900, False),\n",
    "        (1800, False),\n",
    "        (1600, True),\n",
    "    ])\n",
    "    def test_leap_year1(input_argument, expected_return):\n",
    "        result = is_leap_year(input_argument)\n",
    "        assert result == expected_return\n",
    "\n",
    "parametrize takes two values\n",
    "\n",
    "* The names of the input arguments to the test function as a string\n",
    "* A list of value pairs for the test (input, expected output)\n",
    "\n",
    "~~~\n",
    "    $ pytest -v test_leap.py \n",
    "    ============================= test session starts ==============================\n",
    "    platform linux -- Python 3.10.9, pytest-7.1.2, pluggy-1.0.0 -- /home/bb1000/miniconda3/envs/bb1000/bin/python\n",
    "    cachedir: .pytest_cache\n",
    "    rootdir: /home/bb1000\n",
    "    plugins: cov-3.0.0, anyio-3.5.0\n",
    "    collected 7 items                                                              \n",
    "\n",
    "    test_leap.py::test_leap_year1[2000-True] PASSED                          [ 14%]\n",
    "    test_leap.py::test_leap_year1[1999-False] PASSED                         [ 28%]\n",
    "    test_leap.py::test_leap_year1[1998-False] PASSED                         [ 42%]\n",
    "    test_leap.py::test_leap_year1[1996-True] PASSED                          [ 57%]\n",
    "    test_leap.py::test_leap_year1[1900-False] PASSED                         [ 71%]\n",
    "    test_leap.py::test_leap_year1[1800-False] PASSED                         [ 85%]\n",
    "    test_leap.py::test_leap_year1[1600-True] PASSED                          [100%]\n",
    "\n",
    "    ============================== 7 passed in 0.01s ===============================\n",
    "~~~\n"
   ]
  },
  {
   "cell_type": "markdown",
   "id": "c9327cb8",
   "metadata": {},
   "source": [
    "### Partial lab solutions discussed\n",
    "\n",
    "#### Assignment 1\n",
    "Summation of timestamps has two subproblems\n",
    "\n",
    "* converting individual timestamp (str) to seconds (int)\n",
    "* back-converting total seconds to corresponding timestamp"
   ]
  },
  {
   "cell_type": "code",
   "execution_count": 11,
   "id": "b273aeae",
   "metadata": {},
   "outputs": [],
   "source": [
    "def timestamp_to_seconds(ts):\n",
    "    \"\"\"\n",
    "    >>> timestamp_to_seconds(\"1:01\")\n",
    "    61\n",
    "    >>> timestamp_to_seconds(\"1:00:00\")\n",
    "    3600\n",
    "    \"\"\"\n",
    "    # YOUR CODE HERE\n",
    "    ################\n",
    "    fields = ts.split(':')\n",
    "    seconds = int(fields[0])*60 + int(fields[1])\n",
    "    return seconds\n"
   ]
  },
  {
   "cell_type": "code",
   "execution_count": 12,
   "id": "97a62c64",
   "metadata": {},
   "outputs": [
    {
     "data": {
      "text/plain": [
       "61"
      ]
     },
     "execution_count": 12,
     "metadata": {},
     "output_type": "execute_result"
    }
   ],
   "source": [
    "timestamp_to_seconds('1:01')"
   ]
  },
  {
   "cell_type": "code",
   "execution_count": 13,
   "id": "d0fa2534",
   "metadata": {},
   "outputs": [
    {
     "data": {
      "text/plain": [
       "60"
      ]
     },
     "execution_count": 13,
     "metadata": {},
     "output_type": "execute_result"
    }
   ],
   "source": [
    "timestamp_to_seconds('1:00:00') # needs fixing"
   ]
  },
  {
   "cell_type": "code",
   "execution_count": 14,
   "id": "01c51498",
   "metadata": {},
   "outputs": [],
   "source": [
    "def seconds_to_timestamp(seconds):\n",
    "    \"\"\"\n",
    "    >>> seconds_to_timestamp(61)\n",
    "    '1:01'\n",
    "    >>> seconds_to_timestamp(3600)\n",
    "    '1:00:00'\n",
    "    \"\"\"\n",
    "    # YOUR CODE HERE\n",
    "    ################\n",
    "    minutes = seconds // 60\n",
    "    seconds = seconds % 60\n",
    "    return f\"{minutes}:{seconds:02d}\""
   ]
  },
  {
   "cell_type": "code",
   "execution_count": 15,
   "id": "70c3be70",
   "metadata": {},
   "outputs": [
    {
     "data": {
      "text/plain": [
       "'1:01'"
      ]
     },
     "execution_count": 15,
     "metadata": {},
     "output_type": "execute_result"
    }
   ],
   "source": [
    "seconds_to_timestamp(61)"
   ]
  },
  {
   "cell_type": "code",
   "execution_count": 16,
   "id": "25c85585",
   "metadata": {},
   "outputs": [
    {
     "data": {
      "text/plain": [
       "'60:00'"
      ]
     },
     "execution_count": 16,
     "metadata": {},
     "output_type": "execute_result"
    }
   ],
   "source": [
    "seconds_to_timestamp(3600) # needs fixing"
   ]
  },
  {
   "cell_type": "markdown",
   "id": "94819a99",
   "metadata": {},
   "source": [
    "#### Assignment 3\n",
    "\n",
    "Here some comparisons is between floating point numbers. For this you will use the `round` function to round average values to two decimals. `round` takes a float and an optional value for the number of decimals. Default is 0, i.e. in most cases the value is rounded to the nearest integer.\n",
    "\n",
    "Example"
   ]
  },
  {
   "cell_type": "code",
   "execution_count": 17,
   "id": "e754d10c",
   "metadata": {},
   "outputs": [
    {
     "data": {
      "text/plain": [
       "7.83"
      ]
     },
     "execution_count": 17,
     "metadata": {},
     "output_type": "execute_result"
    }
   ],
   "source": [
    "round(sum([2, 6, 10, 8, 11, 10])/len([2, 6, 10, 8, 11, 10]), 2)"
   ]
  },
  {
   "cell_type": "markdown",
   "id": "8c9b51ff",
   "metadata": {},
   "source": [
    "#### Assignment 4\n",
    "\n",
    "In the last part follow the pattern in the leap year example"
   ]
  },
  {
   "cell_type": "markdown",
   "id": "64660c18",
   "metadata": {},
   "source": [
    "### Further information on string formatting\n",
    "\n",
    "* https://realpython.com/python-string-formatting/\n",
    "* https://www.pythoncheatsheet.org/cheatsheet/string-formatting\n"
   ]
  }
 ],
 "metadata": {
  "kernelspec": {
   "display_name": "Python 3 (ipykernel)",
   "language": "python",
   "name": "python3"
  },
  "language_info": {
   "codemirror_mode": {
    "name": "ipython",
    "version": 3
   },
   "file_extension": ".py",
   "mimetype": "text/x-python",
   "name": "python",
   "nbconvert_exporter": "python",
   "pygments_lexer": "ipython3",
   "version": "3.10.9"
  }
 },
 "nbformat": 4,
 "nbformat_minor": 5
}
