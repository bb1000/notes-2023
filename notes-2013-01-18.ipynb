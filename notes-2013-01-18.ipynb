{
 "cells": [
  {
   "cell_type": "markdown",
   "id": "da2175cf",
   "metadata": {},
   "source": [
    "## Notes 2013-01-18\n",
    "### Basic arithetic expressions\n",
    "#### Integers"
   ]
  },
  {
   "cell_type": "code",
   "execution_count": 12,
   "id": "73d48e8e",
   "metadata": {},
   "outputs": [],
   "source": [
    "x = 8 * 9"
   ]
  },
  {
   "cell_type": "code",
   "execution_count": 13,
   "id": "d1cd06e3",
   "metadata": {},
   "outputs": [
    {
     "data": {
      "text/plain": [
       "72"
      ]
     },
     "execution_count": 13,
     "metadata": {},
     "output_type": "execute_result"
    }
   ],
   "source": [
    "x"
   ]
  },
  {
   "cell_type": "code",
   "execution_count": 83,
   "id": "f68154a7",
   "metadata": {},
   "outputs": [
    {
     "data": {
      "text/plain": [
       "float"
      ]
     },
     "execution_count": 83,
     "metadata": {},
     "output_type": "execute_result"
    }
   ],
   "source": [
    "type(x)"
   ]
  },
  {
   "cell_type": "markdown",
   "id": "06e89754",
   "metadata": {},
   "source": [
    "`int` is the Python datatype we associate with hole numbers. There are no formal limits on size."
   ]
  },
  {
   "cell_type": "markdown",
   "id": "6f896db6",
   "metadata": {},
   "source": [
    "Single star for multiplication, two stars for exponentiation\n",
    "\n",
    "$$ 9^2 = 81$$"
   ]
  },
  {
   "cell_type": "code",
   "execution_count": 87,
   "id": "c7378d8e",
   "metadata": {},
   "outputs": [
    {
     "data": {
      "text/plain": [
       "18"
      ]
     },
     "execution_count": 87,
     "metadata": {},
     "output_type": "execute_result"
    }
   ],
   "source": [
    "9 * 2"
   ]
  },
  {
   "cell_type": "code",
   "execution_count": 88,
   "id": "9f93a108",
   "metadata": {},
   "outputs": [
    {
     "data": {
      "text/plain": [
       "81"
      ]
     },
     "execution_count": 88,
     "metadata": {},
     "output_type": "execute_result"
    }
   ],
   "source": [
    "9 ** 2 # exponentiation"
   ]
  },
  {
   "cell_type": "markdown",
   "id": "540f697b",
   "metadata": {},
   "source": [
    "#### Floating point numbers"
   ]
  },
  {
   "cell_type": "code",
   "execution_count": 89,
   "id": "9ee2e102",
   "metadata": {},
   "outputs": [],
   "source": [
    "x = x * 1.10 # increase value by 10 %"
   ]
  },
  {
   "cell_type": "markdown",
   "id": "ad80ca9c",
   "metadata": {},
   "source": [
    "when we redefine x to have a new value we it will also have a new type, `float`, that can handle numbers with a decimal point. A variable is not restricted to a given data type as in compiled languages, Python has free typing"
   ]
  },
  {
   "cell_type": "code",
   "execution_count": 90,
   "id": "a669168e",
   "metadata": {},
   "outputs": [
    {
     "data": {
      "text/plain": [
       "95.83200000000001"
      ]
     },
     "execution_count": 90,
     "metadata": {},
     "output_type": "execute_result"
    }
   ],
   "source": [
    "x"
   ]
  },
  {
   "cell_type": "code",
   "execution_count": 91,
   "id": "40954efc",
   "metadata": {},
   "outputs": [
    {
     "data": {
      "text/plain": [
       "float"
      ]
     },
     "execution_count": 91,
     "metadata": {},
     "output_type": "execute_result"
    }
   ],
   "source": [
    "type(x)"
   ]
  },
  {
   "cell_type": "markdown",
   "id": "64516515",
   "metadata": {},
   "source": [
    "Two forms of division, generally the result is float"
   ]
  },
  {
   "cell_type": "code",
   "execution_count": 22,
   "id": "c7a2ee03",
   "metadata": {},
   "outputs": [
    {
     "data": {
      "text/plain": [
       "4.5"
      ]
     },
     "execution_count": 22,
     "metadata": {},
     "output_type": "execute_result"
    }
   ],
   "source": [
    "9 / 2"
   ]
  },
  {
   "cell_type": "markdown",
   "id": "12e45f39",
   "metadata": {},
   "source": [
    "`\\\\` means truncated division, the integer part, `%` the remainder"
   ]
  },
  {
   "cell_type": "code",
   "execution_count": 92,
   "id": "fa71a555",
   "metadata": {},
   "outputs": [
    {
     "data": {
      "text/plain": [
       "4"
      ]
     },
     "execution_count": 92,
     "metadata": {},
     "output_type": "execute_result"
    }
   ],
   "source": [
    "9 // 2"
   ]
  },
  {
   "cell_type": "code",
   "execution_count": 24,
   "id": "44f4d310",
   "metadata": {},
   "outputs": [
    {
     "data": {
      "text/plain": [
       "1"
      ]
     },
     "execution_count": 24,
     "metadata": {},
     "output_type": "execute_result"
    }
   ],
   "source": [
    "9 % 2"
   ]
  },
  {
   "cell_type": "markdown",
   "id": "ec4a7c49",
   "metadata": {},
   "source": [
    "Sample use case.  a number `n` is even, a multiple of 2, if the following holds:\n",
    "\n",
    "    n % 2 == 0"
   ]
  },
  {
   "cell_type": "markdown",
   "id": "f41c9798",
   "metadata": {},
   "source": [
    "### Complex numbers"
   ]
  },
  {
   "cell_type": "markdown",
   "id": "15c9e988",
   "metadata": {},
   "source": [
    "For complex numbers the imaginary unit is represented by `1j`."
   ]
  },
  {
   "cell_type": "code",
   "execution_count": 93,
   "id": "94b1d2a5",
   "metadata": {},
   "outputs": [
    {
     "data": {
      "text/plain": [
       "complex"
      ]
     },
     "execution_count": 93,
     "metadata": {},
     "output_type": "execute_result"
    }
   ],
   "source": [
    "type(1j)"
   ]
  },
  {
   "cell_type": "markdown",
   "id": "e5b3c730",
   "metadata": {},
   "source": [
    " An expression in mathmatics given by\n",
    "\n",
    "$$ i^2 = -1$$\n",
    "\n",
    "is represented in Python with"
   ]
  },
  {
   "cell_type": "code",
   "execution_count": 94,
   "id": "1a1ee668",
   "metadata": {},
   "outputs": [
    {
     "data": {
      "text/plain": [
       "(-1+0j)"
      ]
     },
     "execution_count": 94,
     "metadata": {},
     "output_type": "execute_result"
    }
   ],
   "source": [
    "1j * 1j"
   ]
  },
  {
   "cell_type": "markdown",
   "id": "6bfc11a9",
   "metadata": {},
   "source": [
    "### Comparison operators\n",
    "\n",
    "* `=` means assignment\n",
    "* `==` means *is equal to* (resulting in a `True` or `False`)"
   ]
  },
  {
   "cell_type": "code",
   "execution_count": 97,
   "id": "56e830ad",
   "metadata": {},
   "outputs": [],
   "source": [
    "a = 888 * 999\n",
    "b = 999 * 888"
   ]
  },
  {
   "cell_type": "code",
   "execution_count": 98,
   "id": "6976662c",
   "metadata": {},
   "outputs": [
    {
     "data": {
      "text/plain": [
       "(887112, 887112)"
      ]
     },
     "execution_count": 98,
     "metadata": {},
     "output_type": "execute_result"
    }
   ],
   "source": [
    "a, b"
   ]
  },
  {
   "cell_type": "code",
   "execution_count": 99,
   "id": "39496d4d",
   "metadata": {},
   "outputs": [
    {
     "data": {
      "text/plain": [
       "True"
      ]
     },
     "execution_count": 99,
     "metadata": {},
     "output_type": "execute_result"
    }
   ],
   "source": [
    "a == b"
   ]
  },
  {
   "cell_type": "markdown",
   "id": "6f5ef6f5",
   "metadata": {},
   "source": [
    "`is` checks for identity (same object, same memory location)"
   ]
  },
  {
   "cell_type": "code",
   "execution_count": 100,
   "id": "69db43d5",
   "metadata": {},
   "outputs": [
    {
     "data": {
      "text/plain": [
       "False"
      ]
     },
     "execution_count": 100,
     "metadata": {},
     "output_type": "execute_result"
    }
   ],
   "source": [
    "a is b  "
   ]
  },
  {
   "cell_type": "markdown",
   "id": "18589229",
   "metadata": {},
   "source": [
    "### Strings"
   ]
  },
  {
   "cell_type": "code",
   "execution_count": 101,
   "id": "58cd9bbb",
   "metadata": {},
   "outputs": [
    {
     "data": {
      "text/plain": [
       "\"It's time\""
      ]
     },
     "execution_count": 101,
     "metadata": {},
     "output_type": "execute_result"
    }
   ],
   "source": [
    "#strings\n",
    "\n",
    "\"It's time\""
   ]
  },
  {
   "cell_type": "markdown",
   "id": "834751c6",
   "metadata": {},
   "source": [
    "Unbalanced quotation marks normally results in an error"
   ]
  },
  {
   "cell_type": "code",
   "execution_count": 103,
   "id": "e0b38722",
   "metadata": {},
   "outputs": [
    {
     "ename": "SyntaxError",
     "evalue": "unterminated string literal (detected at line 1) (394132963.py, line 1)",
     "output_type": "error",
     "traceback": [
      "\u001b[0;36m  Cell \u001b[0;32mIn[103], line 1\u001b[0;36m\u001b[0m\n\u001b[0;31m    'It's time'\u001b[0m\n\u001b[0m              ^\u001b[0m\n\u001b[0;31mSyntaxError\u001b[0m\u001b[0;31m:\u001b[0m unterminated string literal (detected at line 1)\n"
     ]
    }
   ],
   "source": [
    "'It's time'"
   ]
  },
  {
   "cell_type": "markdown",
   "id": "0fa0d296",
   "metadata": {},
   "source": [
    "Since the apostrophes have special meanings in Python the backslash is used to say that we mean the literal apostrophe character"
   ]
  },
  {
   "cell_type": "code",
   "execution_count": 104,
   "id": "6d8cc0a1",
   "metadata": {},
   "outputs": [
    {
     "data": {
      "text/plain": [
       "\"It's time\""
      ]
     },
     "execution_count": 104,
     "metadata": {},
     "output_type": "execute_result"
    }
   ],
   "source": [
    "'It\\'s time'"
   ]
  },
  {
   "cell_type": "markdown",
   "id": "7190c421",
   "metadata": {},
   "source": [
    "Two equivalent ways of expressing the same string"
   ]
  },
  {
   "cell_type": "code",
   "execution_count": 105,
   "id": "9183db34",
   "metadata": {},
   "outputs": [
    {
     "data": {
      "text/plain": [
       "True"
      ]
     },
     "execution_count": 105,
     "metadata": {},
     "output_type": "execute_result"
    }
   ],
   "source": [
    "\"It's time\" == 'It\\'s time'"
   ]
  },
  {
   "cell_type": "code",
   "execution_count": 106,
   "id": "64e8cd9a",
   "metadata": {},
   "outputs": [
    {
     "data": {
      "text/plain": [
       "'Our boss is \"nice\". 😀'"
      ]
     },
     "execution_count": 106,
     "metadata": {},
     "output_type": "execute_result"
    }
   ],
   "source": [
    "'Our boss is \"nice\". 😀'"
   ]
  },
  {
   "cell_type": "code",
   "execution_count": 107,
   "id": "01574768",
   "metadata": {},
   "outputs": [
    {
     "data": {
      "text/plain": [
       "'Our boss is \"nice\". 😀'"
      ]
     },
     "execution_count": 107,
     "metadata": {},
     "output_type": "execute_result"
    }
   ],
   "source": [
    "\"Our boss is \\\"nice\\\". 😀\""
   ]
  },
  {
   "cell_type": "markdown",
   "id": "11768012",
   "metadata": {},
   "source": [
    "Triple quotation marks to have strings that include line breaks"
   ]
  },
  {
   "cell_type": "code",
   "execution_count": 108,
   "id": "e0cf663d",
   "metadata": {},
   "outputs": [
    {
     "data": {
      "text/plain": [
       "'Hello\\nworld'"
      ]
     },
     "execution_count": 108,
     "metadata": {},
     "output_type": "execute_result"
    }
   ],
   "source": [
    "\"\"\"Hello\n",
    "world\"\"\""
   ]
  },
  {
   "cell_type": "markdown",
   "id": "676933d6",
   "metadata": {},
   "source": [
    "The `\\n` is the special newline character in Python. It is still a single character but written as two due to keyboard limitations"
   ]
  },
  {
   "cell_type": "code",
   "execution_count": 110,
   "id": "caf689cd",
   "metadata": {},
   "outputs": [
    {
     "data": {
      "text/plain": [
       "1"
      ]
     },
     "execution_count": 110,
     "metadata": {},
     "output_type": "execute_result"
    }
   ],
   "source": [
    "len('\\n')"
   ]
  },
  {
   "cell_type": "markdown",
   "id": "5eb17051",
   "metadata": {},
   "source": [
    "The print function will handle these characters to insert line breaks as we expect them"
   ]
  },
  {
   "cell_type": "code",
   "execution_count": 111,
   "id": "ecbdec14",
   "metadata": {},
   "outputs": [
    {
     "name": "stdout",
     "output_type": "stream",
     "text": [
      "Hello\n",
      "world\n"
     ]
    }
   ],
   "source": [
    "print('Hello\\nworld')"
   ]
  },
  {
   "cell_type": "markdown",
   "id": "1103a5c4",
   "metadata": {},
   "source": [
    "Another example of a special character is what you normall get with the tab key `\\t`"
   ]
  },
  {
   "cell_type": "code",
   "execution_count": 112,
   "id": "74261deb",
   "metadata": {},
   "outputs": [
    {
     "name": "stdout",
     "output_type": "stream",
     "text": [
      "Hello\tworld\n"
     ]
    }
   ],
   "source": [
    "print('Hello\\tworld')"
   ]
  },
  {
   "cell_type": "markdown",
   "id": "3c5536a5",
   "metadata": {},
   "source": [
    "Addition of strings is defined by concatenation"
   ]
  },
  {
   "cell_type": "code",
   "execution_count": 43,
   "id": "7b241a6e",
   "metadata": {},
   "outputs": [
    {
     "data": {
      "text/plain": [
       "'hellohello'"
      ]
     },
     "execution_count": 43,
     "metadata": {},
     "output_type": "execute_result"
    }
   ],
   "source": [
    "'hello' + 'hello'"
   ]
  },
  {
   "cell_type": "markdown",
   "id": "51d13f51",
   "metadata": {},
   "source": [
    "Multiplication of a string with a number repeats the string that number of times"
   ]
  },
  {
   "cell_type": "code",
   "execution_count": 114,
   "id": "6d79d38a",
   "metadata": {},
   "outputs": [
    {
     "data": {
      "text/plain": [
       "'hellohello'"
      ]
     },
     "execution_count": 114,
     "metadata": {},
     "output_type": "execute_result"
    }
   ],
   "source": [
    "'hello' * 2"
   ]
  },
  {
   "cell_type": "code",
   "execution_count": 115,
   "id": "b51257f3",
   "metadata": {},
   "outputs": [
    {
     "data": {
      "text/plain": [
       "'hellohellohellohellohellohellohellohellohellohello'"
      ]
     },
     "execution_count": 115,
     "metadata": {},
     "output_type": "execute_result"
    }
   ],
   "source": [
    "'hello' * 10"
   ]
  },
  {
   "cell_type": "code",
   "execution_count": 116,
   "id": "a4d6d582",
   "metadata": {},
   "outputs": [
    {
     "data": {
      "text/plain": [
       "['__add__',\n",
       " '__class__',\n",
       " '__contains__',\n",
       " '__delattr__',\n",
       " '__dir__',\n",
       " '__doc__',\n",
       " '__eq__',\n",
       " '__format__',\n",
       " '__ge__',\n",
       " '__getattribute__',\n",
       " '__getitem__',\n",
       " '__getnewargs__',\n",
       " '__gt__',\n",
       " '__hash__',\n",
       " '__init__',\n",
       " '__init_subclass__',\n",
       " '__iter__',\n",
       " '__le__',\n",
       " '__len__',\n",
       " '__lt__',\n",
       " '__mod__',\n",
       " '__mul__',\n",
       " '__ne__',\n",
       " '__new__',\n",
       " '__reduce__',\n",
       " '__reduce_ex__',\n",
       " '__repr__',\n",
       " '__rmod__',\n",
       " '__rmul__',\n",
       " '__setattr__',\n",
       " '__sizeof__',\n",
       " '__str__',\n",
       " '__subclasshook__',\n",
       " 'capitalize',\n",
       " 'casefold',\n",
       " 'center',\n",
       " 'count',\n",
       " 'encode',\n",
       " 'endswith',\n",
       " 'expandtabs',\n",
       " 'find',\n",
       " 'format',\n",
       " 'format_map',\n",
       " 'index',\n",
       " 'isalnum',\n",
       " 'isalpha',\n",
       " 'isascii',\n",
       " 'isdecimal',\n",
       " 'isdigit',\n",
       " 'isidentifier',\n",
       " 'islower',\n",
       " 'isnumeric',\n",
       " 'isprintable',\n",
       " 'isspace',\n",
       " 'istitle',\n",
       " 'isupper',\n",
       " 'join',\n",
       " 'ljust',\n",
       " 'lower',\n",
       " 'lstrip',\n",
       " 'maketrans',\n",
       " 'partition',\n",
       " 'removeprefix',\n",
       " 'removesuffix',\n",
       " 'replace',\n",
       " 'rfind',\n",
       " 'rindex',\n",
       " 'rjust',\n",
       " 'rpartition',\n",
       " 'rsplit',\n",
       " 'rstrip',\n",
       " 'split',\n",
       " 'splitlines',\n",
       " 'startswith',\n",
       " 'strip',\n",
       " 'swapcase',\n",
       " 'title',\n",
       " 'translate',\n",
       " 'upper',\n",
       " 'zfill']"
      ]
     },
     "execution_count": 116,
     "metadata": {},
     "output_type": "execute_result"
    }
   ],
   "source": [
    "# what methods are defined for strings\n",
    "\n",
    "dir('hello')"
   ]
  },
  {
   "cell_type": "code",
   "execution_count": 47,
   "id": "d13d8388",
   "metadata": {},
   "outputs": [
    {
     "data": {
      "text/plain": [
       "'Hello world'"
      ]
     },
     "execution_count": 47,
     "metadata": {},
     "output_type": "execute_result"
    }
   ],
   "source": [
    "'hello world'.capitalize()"
   ]
  },
  {
   "cell_type": "code",
   "execution_count": 48,
   "id": "9ff037de",
   "metadata": {},
   "outputs": [
    {
     "data": {
      "text/plain": [
       "'Hello World'"
      ]
     },
     "execution_count": 48,
     "metadata": {},
     "output_type": "execute_result"
    }
   ],
   "source": [
    "'hello world'.title()"
   ]
  },
  {
   "cell_type": "code",
   "execution_count": 49,
   "id": "fbd09058",
   "metadata": {},
   "outputs": [
    {
     "name": "stdout",
     "output_type": "stream",
     "text": [
      "Help on built-in function print in module builtins:\n",
      "\n",
      "print(...)\n",
      "    print(value, ..., sep=' ', end='\\n', file=sys.stdout, flush=False)\n",
      "    \n",
      "    Prints the values to a stream, or to sys.stdout by default.\n",
      "    Optional keyword arguments:\n",
      "    file:  a file-like object (stream); defaults to the current sys.stdout.\n",
      "    sep:   string inserted between values, default a space.\n",
      "    end:   string appended after the last value, default a newline.\n",
      "    flush: whether to forcibly flush the stream.\n",
      "\n"
     ]
    }
   ],
   "source": [
    "help(print)"
   ]
  },
  {
   "cell_type": "markdown",
   "id": "dbf67b89",
   "metadata": {},
   "source": [
    "### Datatypes for combining other data\n",
    "#### Lists"
   ]
  },
  {
   "cell_type": "code",
   "execution_count": 126,
   "id": "f17829cd",
   "metadata": {},
   "outputs": [],
   "source": [
    "colours = ['hearts', 'spades', 'diamonds', 'clubs']"
   ]
  },
  {
   "cell_type": "code",
   "execution_count": 127,
   "id": "1c88fdef",
   "metadata": {},
   "outputs": [
    {
     "data": {
      "text/plain": [
       "list"
      ]
     },
     "execution_count": 127,
     "metadata": {},
     "output_type": "execute_result"
    }
   ],
   "source": [
    "type(colours)"
   ]
  },
  {
   "cell_type": "code",
   "execution_count": 128,
   "id": "e875203d",
   "metadata": {},
   "outputs": [
    {
     "data": {
      "text/plain": [
       "['__add__',\n",
       " '__class__',\n",
       " '__class_getitem__',\n",
       " '__contains__',\n",
       " '__delattr__',\n",
       " '__delitem__',\n",
       " '__dir__',\n",
       " '__doc__',\n",
       " '__eq__',\n",
       " '__format__',\n",
       " '__ge__',\n",
       " '__getattribute__',\n",
       " '__getitem__',\n",
       " '__gt__',\n",
       " '__hash__',\n",
       " '__iadd__',\n",
       " '__imul__',\n",
       " '__init__',\n",
       " '__init_subclass__',\n",
       " '__iter__',\n",
       " '__le__',\n",
       " '__len__',\n",
       " '__lt__',\n",
       " '__mul__',\n",
       " '__ne__',\n",
       " '__new__',\n",
       " '__reduce__',\n",
       " '__reduce_ex__',\n",
       " '__repr__',\n",
       " '__reversed__',\n",
       " '__rmul__',\n",
       " '__setattr__',\n",
       " '__setitem__',\n",
       " '__sizeof__',\n",
       " '__str__',\n",
       " '__subclasshook__',\n",
       " 'append',\n",
       " 'clear',\n",
       " 'copy',\n",
       " 'count',\n",
       " 'extend',\n",
       " 'index',\n",
       " 'insert',\n",
       " 'pop',\n",
       " 'remove',\n",
       " 'reverse',\n",
       " 'sort']"
      ]
     },
     "execution_count": 128,
     "metadata": {},
     "output_type": "execute_result"
    }
   ],
   "source": [
    "dir(colours)"
   ]
  },
  {
   "cell_type": "markdown",
   "id": "837fe655",
   "metadata": {},
   "source": [
    "List addition combines two lists to a new (how this works internally is defined internally by add function)\n"
   ]
  },
  {
   "cell_type": "code",
   "execution_count": 122,
   "id": "1f3ae55f",
   "metadata": {},
   "outputs": [
    {
     "data": {
      "text/plain": [
       "['hearts',\n",
       " 'spades',\n",
       " 'diamonds',\n",
       " 'clubs',\n",
       " 'hearts',\n",
       " 'spades',\n",
       " 'diamonds',\n",
       " 'clubs']"
      ]
     },
     "execution_count": 122,
     "metadata": {},
     "output_type": "execute_result"
    }
   ],
   "source": [
    "colours + colours"
   ]
  },
  {
   "cell_type": "code",
   "execution_count": 54,
   "id": "548f2eb6",
   "metadata": {},
   "outputs": [
    {
     "data": {
      "text/plain": [
       "['hearts', 'spades', 'diamonds', 'clubs']"
      ]
     },
     "execution_count": 54,
     "metadata": {},
     "output_type": "execute_result"
    }
   ],
   "source": [
    "colours"
   ]
  },
  {
   "cell_type": "markdown",
   "id": "2a6e6541",
   "metadata": {},
   "source": [
    "`append` function to increase the list with a new member "
   ]
  },
  {
   "cell_type": "code",
   "execution_count": 123,
   "id": "ba70e0f3",
   "metadata": {},
   "outputs": [],
   "source": [
    "colours.append('joker')"
   ]
  },
  {
   "cell_type": "code",
   "execution_count": 124,
   "id": "e29b8873",
   "metadata": {},
   "outputs": [
    {
     "data": {
      "text/plain": [
       "['hearts', 'spades', 'diamonds', 'clubs', 'joker']"
      ]
     },
     "execution_count": 124,
     "metadata": {},
     "output_type": "execute_result"
    }
   ],
   "source": [
    "colours"
   ]
  },
  {
   "cell_type": "markdown",
   "id": "9aeee9fb",
   "metadata": {},
   "source": [
    "#### Dictionaries"
   ]
  },
  {
   "cell_type": "code",
   "execution_count": 57,
   "id": "ad503f9d",
   "metadata": {},
   "outputs": [],
   "source": [
    "# dictionaries\n",
    "\n",
    "d = {'a': 1, 'b': 2}"
   ]
  },
  {
   "cell_type": "code",
   "execution_count": 58,
   "id": "de932fd4",
   "metadata": {},
   "outputs": [
    {
     "data": {
      "text/plain": [
       "{'a': 1, 'b': 2}"
      ]
     },
     "execution_count": 58,
     "metadata": {},
     "output_type": "execute_result"
    }
   ],
   "source": [
    "d"
   ]
  },
  {
   "cell_type": "code",
   "execution_count": 71,
   "id": "8c6bea33",
   "metadata": {},
   "outputs": [
    {
     "data": {
      "text/plain": [
       "1"
      ]
     },
     "execution_count": 71,
     "metadata": {},
     "output_type": "execute_result"
    }
   ],
   "source": [
    "# get a value for a given key\n",
    "d['a']"
   ]
  },
  {
   "cell_type": "code",
   "execution_count": 72,
   "id": "c48b2205",
   "metadata": {},
   "outputs": [
    {
     "data": {
      "text/plain": [
       "2"
      ]
     },
     "execution_count": 72,
     "metadata": {},
     "output_type": "execute_result"
    }
   ],
   "source": [
    "d['b']"
   ]
  },
  {
   "cell_type": "code",
   "execution_count": 60,
   "id": "e4c35b7c",
   "metadata": {},
   "outputs": [
    {
     "data": {
      "text/plain": [
       "['__class__',\n",
       " '__class_getitem__',\n",
       " '__contains__',\n",
       " '__delattr__',\n",
       " '__delitem__',\n",
       " '__dir__',\n",
       " '__doc__',\n",
       " '__eq__',\n",
       " '__format__',\n",
       " '__ge__',\n",
       " '__getattribute__',\n",
       " '__getitem__',\n",
       " '__gt__',\n",
       " '__hash__',\n",
       " '__init__',\n",
       " '__init_subclass__',\n",
       " '__ior__',\n",
       " '__iter__',\n",
       " '__le__',\n",
       " '__len__',\n",
       " '__lt__',\n",
       " '__ne__',\n",
       " '__new__',\n",
       " '__or__',\n",
       " '__reduce__',\n",
       " '__reduce_ex__',\n",
       " '__repr__',\n",
       " '__reversed__',\n",
       " '__ror__',\n",
       " '__setattr__',\n",
       " '__setitem__',\n",
       " '__sizeof__',\n",
       " '__str__',\n",
       " '__subclasshook__',\n",
       " 'clear',\n",
       " 'copy',\n",
       " 'fromkeys',\n",
       " 'get',\n",
       " 'items',\n",
       " 'keys',\n",
       " 'pop',\n",
       " 'popitem',\n",
       " 'setdefault',\n",
       " 'update',\n",
       " 'values']"
      ]
     },
     "execution_count": 60,
     "metadata": {},
     "output_type": "execute_result"
    }
   ],
   "source": [
    "dir(d)"
   ]
  },
  {
   "cell_type": "code",
   "execution_count": 61,
   "id": "0d869827",
   "metadata": {},
   "outputs": [
    {
     "data": {
      "text/plain": [
       "dict_keys(['a', 'b'])"
      ]
     },
     "execution_count": 61,
     "metadata": {},
     "output_type": "execute_result"
    }
   ],
   "source": [
    "d.keys()"
   ]
  },
  {
   "cell_type": "code",
   "execution_count": 63,
   "id": "d9af8cc0",
   "metadata": {},
   "outputs": [
    {
     "data": {
      "text/plain": [
       "['a', 'b']"
      ]
     },
     "execution_count": 63,
     "metadata": {},
     "output_type": "execute_result"
    }
   ],
   "source": [
    "list(d.keys())"
   ]
  },
  {
   "cell_type": "code",
   "execution_count": 62,
   "id": "a7a9938a",
   "metadata": {},
   "outputs": [
    {
     "data": {
      "text/plain": [
       "dict_values([1, 2])"
      ]
     },
     "execution_count": 62,
     "metadata": {},
     "output_type": "execute_result"
    }
   ],
   "source": [
    "d.values()"
   ]
  },
  {
   "cell_type": "code",
   "execution_count": 64,
   "id": "a23bdff7",
   "metadata": {},
   "outputs": [
    {
     "data": {
      "text/plain": [
       "[1, 2]"
      ]
     },
     "execution_count": 64,
     "metadata": {},
     "output_type": "execute_result"
    }
   ],
   "source": [
    "list(d.values())"
   ]
  },
  {
   "cell_type": "code",
   "execution_count": 65,
   "id": "6d7d511a",
   "metadata": {},
   "outputs": [
    {
     "data": {
      "text/plain": [
       "[('a', 1), ('b', 2)]"
      ]
     },
     "execution_count": 65,
     "metadata": {},
     "output_type": "execute_result"
    }
   ],
   "source": [
    "list(d.items())"
   ]
  },
  {
   "cell_type": "markdown",
   "id": "36fcc308",
   "metadata": {},
   "source": [
    "### Logical constructs\n",
    "#### Repetition or looping"
   ]
  },
  {
   "cell_type": "code",
   "execution_count": 129,
   "id": "3ac27011",
   "metadata": {},
   "outputs": [
    {
     "name": "stdout",
     "output_type": "stream",
     "text": [
      "hearts\n",
      "spades\n",
      "diamonds\n",
      "clubs\n"
     ]
    }
   ],
   "source": [
    "for c in colours: # c is the loop variable\n",
    "    print(c)      # the body of the loop is indented"
   ]
  },
  {
   "cell_type": "markdown",
   "id": "2e1d2b79",
   "metadata": {},
   "source": [
    "Example get a list of card colours in upper case"
   ]
  },
  {
   "cell_type": "code",
   "execution_count": 131,
   "id": "e6dabc72",
   "metadata": {},
   "outputs": [
    {
     "name": "stdout",
     "output_type": "stream",
     "text": [
      "hearts\n",
      "['HEARTS']\n",
      "spades\n",
      "['HEARTS', 'SPADES']\n",
      "diamonds\n",
      "['HEARTS', 'SPADES', 'DIAMONDS']\n",
      "clubs\n",
      "['HEARTS', 'SPADES', 'DIAMONDS', 'CLUBS']\n"
     ]
    }
   ],
   "source": [
    "upper_case_colours = [] # start with an empty lists\n",
    "for c in colours:\n",
    "    print(c)\n",
    "    upper_case_colours.append(c.upper())  # extend the list as we go through the original sequence\n",
    "    print(upper_case_colours)"
   ]
  },
  {
   "cell_type": "markdown",
   "id": "678c0128",
   "metadata": {},
   "source": [
    "### Branching: if statements"
   ]
  },
  {
   "cell_type": "code",
   "execution_count": 133,
   "id": "669658a9",
   "metadata": {},
   "outputs": [
    {
     "name": "stdout",
     "output_type": "stream",
     "text": [
      "1 is smaller than or equal to 2\n"
     ]
    }
   ],
   "source": [
    "i = 1\n",
    "j = 2\n",
    "if i > j:\n",
    "    print(i, \" is larger than \", j)\n",
    "else:\n",
    "    print(i, \"is smaller than or equal to\", j)"
   ]
  }
 ],
 "metadata": {
  "kernelspec": {
   "display_name": "Python 3 (ipykernel)",
   "language": "python",
   "name": "python3"
  },
  "language_info": {
   "codemirror_mode": {
    "name": "ipython",
    "version": 3
   },
   "file_extension": ".py",
   "mimetype": "text/x-python",
   "name": "python",
   "nbconvert_exporter": "python",
   "pygments_lexer": "ipython3",
   "version": "3.10.9"
  }
 },
 "nbformat": 4,
 "nbformat_minor": 5
}
