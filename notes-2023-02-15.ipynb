{
 "cells": [
  {
   "cell_type": "markdown",
   "id": "a585f231",
   "metadata": {},
   "source": [
    "# Notes 2013-02-15"
   ]
  },
  {
   "cell_type": "code",
   "execution_count": 14,
   "id": "bdd35593",
   "metadata": {},
   "outputs": [],
   "source": [
    "text = 'hello'"
   ]
  },
  {
   "cell_type": "code",
   "execution_count": 15,
   "id": "95c42f18",
   "metadata": {},
   "outputs": [
    {
     "data": {
      "text/plain": [
       "str"
      ]
     },
     "execution_count": 15,
     "metadata": {},
     "output_type": "execute_result"
    }
   ],
   "source": [
    "type(text)"
   ]
  },
  {
   "cell_type": "code",
   "execution_count": 16,
   "id": "5dd0d23f",
   "metadata": {},
   "outputs": [
    {
     "data": {
      "text/plain": [
       "['__add__',\n",
       " '__class__',\n",
       " '__contains__',\n",
       " '__delattr__',\n",
       " '__dir__',\n",
       " '__doc__',\n",
       " '__eq__',\n",
       " '__format__',\n",
       " '__ge__',\n",
       " '__getattribute__',\n",
       " '__getitem__',\n",
       " '__getnewargs__',\n",
       " '__gt__',\n",
       " '__hash__',\n",
       " '__init__',\n",
       " '__init_subclass__',\n",
       " '__iter__',\n",
       " '__le__',\n",
       " '__len__',\n",
       " '__lt__',\n",
       " '__mod__',\n",
       " '__mul__',\n",
       " '__ne__',\n",
       " '__new__',\n",
       " '__reduce__',\n",
       " '__reduce_ex__',\n",
       " '__repr__',\n",
       " '__rmod__',\n",
       " '__rmul__',\n",
       " '__setattr__',\n",
       " '__sizeof__',\n",
       " '__str__',\n",
       " '__subclasshook__',\n",
       " 'capitalize',\n",
       " 'casefold',\n",
       " 'center',\n",
       " 'count',\n",
       " 'encode',\n",
       " 'endswith',\n",
       " 'expandtabs',\n",
       " 'find',\n",
       " 'format',\n",
       " 'format_map',\n",
       " 'index',\n",
       " 'isalnum',\n",
       " 'isalpha',\n",
       " 'isascii',\n",
       " 'isdecimal',\n",
       " 'isdigit',\n",
       " 'isidentifier',\n",
       " 'islower',\n",
       " 'isnumeric',\n",
       " 'isprintable',\n",
       " 'isspace',\n",
       " 'istitle',\n",
       " 'isupper',\n",
       " 'join',\n",
       " 'ljust',\n",
       " 'lower',\n",
       " 'lstrip',\n",
       " 'maketrans',\n",
       " 'partition',\n",
       " 'removeprefix',\n",
       " 'removesuffix',\n",
       " 'replace',\n",
       " 'rfind',\n",
       " 'rindex',\n",
       " 'rjust',\n",
       " 'rpartition',\n",
       " 'rsplit',\n",
       " 'rstrip',\n",
       " 'split',\n",
       " 'splitlines',\n",
       " 'startswith',\n",
       " 'strip',\n",
       " 'swapcase',\n",
       " 'title',\n",
       " 'translate',\n",
       " 'upper',\n",
       " 'zfill']"
      ]
     },
     "execution_count": 16,
     "metadata": {},
     "output_type": "execute_result"
    }
   ],
   "source": [
    "dir(text)"
   ]
  },
  {
   "cell_type": "code",
   "execution_count": 17,
   "id": "26a75dd3",
   "metadata": {},
   "outputs": [
    {
     "data": {
      "text/plain": [
       "<function str.upper()>"
      ]
     },
     "execution_count": 17,
     "metadata": {},
     "output_type": "execute_result"
    }
   ],
   "source": [
    "text.upper"
   ]
  },
  {
   "cell_type": "code",
   "execution_count": 18,
   "id": "1f948671",
   "metadata": {},
   "outputs": [
    {
     "data": {
      "text/plain": [
       "'HELLO'"
      ]
     },
     "execution_count": 18,
     "metadata": {},
     "output_type": "execute_result"
    }
   ],
   "source": [
    "text.upper()"
   ]
  },
  {
   "cell_type": "code",
   "execution_count": 19,
   "id": "cf2c07f3",
   "metadata": {},
   "outputs": [
    {
     "ename": "TypeError",
     "evalue": "str.join() takes exactly one argument (0 given)",
     "output_type": "error",
     "traceback": [
      "\u001b[0;31m---------------------------------------------------------------------------\u001b[0m",
      "\u001b[0;31mTypeError\u001b[0m                                 Traceback (most recent call last)",
      "Cell \u001b[0;32mIn[19], line 1\u001b[0m\n\u001b[0;32m----> 1\u001b[0m \u001b[43mtext\u001b[49m\u001b[38;5;241;43m.\u001b[39;49m\u001b[43mjoin\u001b[49m\u001b[43m(\u001b[49m\u001b[43m)\u001b[49m\n",
      "\u001b[0;31mTypeError\u001b[0m: str.join() takes exactly one argument (0 given)"
     ]
    }
   ],
   "source": [
    "text.join()"
   ]
  },
  {
   "cell_type": "code",
   "execution_count": 20,
   "id": "957d1d81",
   "metadata": {},
   "outputs": [],
   "source": [
    "text.join?"
   ]
  },
  {
   "cell_type": "code",
   "execution_count": 21,
   "id": "95ce9d5b",
   "metadata": {},
   "outputs": [
    {
     "data": {
      "text/plain": [
       "'_hello_'"
      ]
     },
     "execution_count": 21,
     "metadata": {},
     "output_type": "execute_result"
    }
   ],
   "source": [
    "text.join(['_','_'])"
   ]
  },
  {
   "cell_type": "code",
   "execution_count": 145,
   "id": "2dcb6486",
   "metadata": {},
   "outputs": [],
   "source": [
    "class Person: # start of a class definition\n",
    "    \"\"\"\n",
    "    A class level doc-string\n",
    "    \"\"\"\n",
    "    alla = []   # class attribute\n",
    "    def __init__(self, first, last, age=None):\n",
    "        \"\"\"\n",
    "        A class method doc string\n",
    "        \"\"\"\n",
    "        self.first = first  # instance attributes\n",
    "        self.last = last\n",
    "        self.age = age\n",
    "        Person.alla.append(self)\n",
    "        \n",
    "    def __str__(self):\n",
    "        if self.age is None:\n",
    "            return f'{self.last}, {self.first}'\n",
    "        else:\n",
    "            return f'{self.last}, {self.first} is {self.age} years old'\n",
    "        \n",
    "    def __repr__(self):\n",
    "        #return str(self)\n",
    "        return f'Person(\"{self.first}\", \"{self.last}\")'\n"
   ]
  },
  {
   "cell_type": "code",
   "execution_count": 146,
   "id": "4f8b831f",
   "metadata": {},
   "outputs": [
    {
     "data": {
      "text/plain": [
       "Person(\"Donald\", \"Duck\")"
      ]
     },
     "execution_count": 146,
     "metadata": {},
     "output_type": "execute_result"
    }
   ],
   "source": [
    "person = Person('Donald', 'Duck')  # instance of type Person\n",
    "person"
   ]
  },
  {
   "cell_type": "code",
   "execution_count": 147,
   "id": "da254418",
   "metadata": {},
   "outputs": [
    {
     "data": {
      "text/plain": [
       "'Duck, Donald'"
      ]
     },
     "execution_count": 147,
     "metadata": {},
     "output_type": "execute_result"
    }
   ],
   "source": [
    "str(person)"
   ]
  },
  {
   "cell_type": "code",
   "execution_count": 148,
   "id": "568e8527",
   "metadata": {},
   "outputs": [
    {
     "data": {
      "text/plain": [
       "True"
      ]
     },
     "execution_count": 148,
     "metadata": {},
     "output_type": "execute_result"
    }
   ],
   "source": [
    "isinstance(person, Person)"
   ]
  },
  {
   "cell_type": "code",
   "execution_count": 149,
   "id": "4a3717ce",
   "metadata": {},
   "outputs": [
    {
     "data": {
      "text/plain": [
       "[Person(\"Donald\", \"Duck\")]"
      ]
     },
     "execution_count": 149,
     "metadata": {},
     "output_type": "execute_result"
    }
   ],
   "source": [
    "Person.alla"
   ]
  },
  {
   "cell_type": "code",
   "execution_count": 150,
   "id": "9acf5aab",
   "metadata": {},
   "outputs": [
    {
     "name": "stdout",
     "output_type": "stream",
     "text": [
      "Duck, Donald\n"
     ]
    }
   ],
   "source": [
    "print(Person.alla[0])"
   ]
  },
  {
   "cell_type": "code",
   "execution_count": 151,
   "id": "9bd9b5b2",
   "metadata": {},
   "outputs": [
    {
     "data": {
      "text/plain": [
       "['__class__',\n",
       " '__delattr__',\n",
       " '__dict__',\n",
       " '__dir__',\n",
       " '__doc__',\n",
       " '__eq__',\n",
       " '__format__',\n",
       " '__ge__',\n",
       " '__getattribute__',\n",
       " '__gt__',\n",
       " '__hash__',\n",
       " '__init__',\n",
       " '__init_subclass__',\n",
       " '__le__',\n",
       " '__lt__',\n",
       " '__module__',\n",
       " '__ne__',\n",
       " '__new__',\n",
       " '__reduce__',\n",
       " '__reduce_ex__',\n",
       " '__repr__',\n",
       " '__setattr__',\n",
       " '__sizeof__',\n",
       " '__str__',\n",
       " '__subclasshook__',\n",
       " '__weakref__',\n",
       " 'age',\n",
       " 'alla',\n",
       " 'first',\n",
       " 'last']"
      ]
     },
     "execution_count": 151,
     "metadata": {},
     "output_type": "execute_result"
    }
   ],
   "source": [
    "dir(person)"
   ]
  },
  {
   "cell_type": "code",
   "execution_count": 152,
   "id": "7fc7cc9f",
   "metadata": {},
   "outputs": [
    {
     "data": {
      "text/plain": [
       "'\\n    A class level doc-string\\n    '"
      ]
     },
     "execution_count": 152,
     "metadata": {},
     "output_type": "execute_result"
    }
   ],
   "source": [
    "person.__doc__"
   ]
  },
  {
   "cell_type": "code",
   "execution_count": 153,
   "id": "96ce4a46",
   "metadata": {},
   "outputs": [
    {
     "data": {
      "text/plain": [
       "'\\n        A class method doc string\\n        '"
      ]
     },
     "execution_count": 153,
     "metadata": {},
     "output_type": "execute_result"
    }
   ],
   "source": [
    "person.__init__.__doc__"
   ]
  },
  {
   "cell_type": "code",
   "execution_count": 154,
   "id": "57dbd63b",
   "metadata": {},
   "outputs": [
    {
     "data": {
      "text/plain": [
       "'Donald'"
      ]
     },
     "execution_count": 154,
     "metadata": {},
     "output_type": "execute_result"
    }
   ],
   "source": [
    "person.first"
   ]
  },
  {
   "cell_type": "code",
   "execution_count": 155,
   "id": "55403e22",
   "metadata": {},
   "outputs": [
    {
     "data": {
      "text/plain": [
       "'Duck'"
      ]
     },
     "execution_count": 155,
     "metadata": {},
     "output_type": "execute_result"
    }
   ],
   "source": [
    "person.last"
   ]
  },
  {
   "cell_type": "code",
   "execution_count": 156,
   "id": "b887ec55",
   "metadata": {},
   "outputs": [
    {
     "data": {
      "text/plain": [
       "'Duck, Donald'"
      ]
     },
     "execution_count": 156,
     "metadata": {},
     "output_type": "execute_result"
    }
   ],
   "source": [
    "person.__str__()"
   ]
  },
  {
   "cell_type": "code",
   "execution_count": 157,
   "id": "14dc0d92",
   "metadata": {},
   "outputs": [
    {
     "data": {
      "text/plain": [
       "str"
      ]
     },
     "execution_count": 157,
     "metadata": {},
     "output_type": "execute_result"
    }
   ],
   "source": [
    "type(person.__str__())"
   ]
  },
  {
   "cell_type": "code",
   "execution_count": 158,
   "id": "42e252a9",
   "metadata": {},
   "outputs": [
    {
     "name": "stdout",
     "output_type": "stream",
     "text": [
      "Duck, Donald\n"
     ]
    }
   ],
   "source": [
    "print(person)"
   ]
  },
  {
   "cell_type": "code",
   "execution_count": 159,
   "id": "b9a9c9be",
   "metadata": {},
   "outputs": [],
   "source": [
    "person.age = 50"
   ]
  },
  {
   "cell_type": "code",
   "execution_count": 160,
   "id": "885f56d6",
   "metadata": {},
   "outputs": [
    {
     "name": "stdout",
     "output_type": "stream",
     "text": [
      "Duck, Donald is 50 years old\n"
     ]
    }
   ],
   "source": [
    "print(person)"
   ]
  },
  {
   "cell_type": "code",
   "execution_count": 161,
   "id": "e96ca2b5",
   "metadata": {},
   "outputs": [],
   "source": [
    "person2 = Person('Daisy', 'Duck', age=40)"
   ]
  },
  {
   "cell_type": "code",
   "execution_count": 162,
   "id": "73a1d474",
   "metadata": {},
   "outputs": [
    {
     "name": "stdout",
     "output_type": "stream",
     "text": [
      "Duck, Daisy is 40 years old\n"
     ]
    }
   ],
   "source": [
    "print(person2)"
   ]
  },
  {
   "cell_type": "code",
   "execution_count": 163,
   "id": "bdc340c1",
   "metadata": {},
   "outputs": [
    {
     "data": {
      "text/plain": [
       "[Person(\"Donald\", \"Duck\"), Person(\"Daisy\", \"Duck\")]"
      ]
     },
     "execution_count": 163,
     "metadata": {},
     "output_type": "execute_result"
    }
   ],
   "source": [
    "Person.alla"
   ]
  },
  {
   "cell_type": "code",
   "execution_count": 164,
   "id": "05d498c0",
   "metadata": {},
   "outputs": [
    {
     "name": "stdout",
     "output_type": "stream",
     "text": [
      "Duck, Donald is 50 years old\n",
      "Duck, Daisy is 40 years old\n"
     ]
    }
   ],
   "source": [
    "for p in Person.alla:\n",
    "    print(p)"
   ]
  },
  {
   "cell_type": "markdown",
   "id": "d4af5a24",
   "metadata": {},
   "source": [
    "### Example 2\n",
    "Complex numbers"
   ]
  },
  {
   "cell_type": "code",
   "execution_count": 184,
   "id": "ae157957",
   "metadata": {},
   "outputs": [],
   "source": [
    "class MyComplex:\n",
    "    def __init__(self, re=0, im=0):\n",
    "        self.re = re\n",
    "        self.im = im\n",
    "        \n",
    "    def __repr__(self):\n",
    "        if self.im < 0:\n",
    "            return f'{self.re} - {-self.im}i'\n",
    "        else:\n",
    "            return f'{self.re} + {self.im}i'\n",
    "        \n",
    "    def __add__(self, other):\n",
    "        z = MyComplex(self.re + other.re, self.im + other.im)\n",
    "        return z"
   ]
  },
  {
   "cell_type": "code",
   "execution_count": 185,
   "id": "121ef293",
   "metadata": {},
   "outputs": [
    {
     "data": {
      "text/plain": [
       "0 + 0i"
      ]
     },
     "execution_count": 185,
     "metadata": {},
     "output_type": "execute_result"
    }
   ],
   "source": [
    "MyComplex()"
   ]
  },
  {
   "cell_type": "code",
   "execution_count": 186,
   "id": "978ccf8f",
   "metadata": {},
   "outputs": [
    {
     "data": {
      "text/plain": [
       "1 + 2i"
      ]
     },
     "execution_count": 186,
     "metadata": {},
     "output_type": "execute_result"
    }
   ],
   "source": [
    "MyComplex(1, 2)"
   ]
  },
  {
   "cell_type": "code",
   "execution_count": 187,
   "id": "6e8fb651",
   "metadata": {},
   "outputs": [
    {
     "data": {
      "text/plain": [
       "1 - 2i"
      ]
     },
     "execution_count": 187,
     "metadata": {},
     "output_type": "execute_result"
    }
   ],
   "source": [
    "MyComplex(1, -2)"
   ]
  },
  {
   "cell_type": "code",
   "execution_count": 188,
   "id": "1ee06783",
   "metadata": {},
   "outputs": [],
   "source": [
    "z1 = MyComplex(1, 2)\n",
    "z2 = MyComplex(3, 4)"
   ]
  },
  {
   "cell_type": "code",
   "execution_count": 189,
   "id": "76628d38",
   "metadata": {},
   "outputs": [
    {
     "data": {
      "text/plain": [
       "1 + 2i"
      ]
     },
     "execution_count": 189,
     "metadata": {},
     "output_type": "execute_result"
    }
   ],
   "source": [
    "z1"
   ]
  },
  {
   "cell_type": "code",
   "execution_count": 190,
   "id": "97984cd1",
   "metadata": {},
   "outputs": [
    {
     "data": {
      "text/plain": [
       "3 + 4i"
      ]
     },
     "execution_count": 190,
     "metadata": {},
     "output_type": "execute_result"
    }
   ],
   "source": [
    "z2"
   ]
  },
  {
   "cell_type": "code",
   "execution_count": 191,
   "id": "82eb80b9",
   "metadata": {},
   "outputs": [
    {
     "data": {
      "text/plain": [
       "4 + 6i"
      ]
     },
     "execution_count": 191,
     "metadata": {},
     "output_type": "execute_result"
    }
   ],
   "source": [
    "z1 + z2  # z1 -> self, z2 -> other in the __add__ function"
   ]
  }
 ],
 "metadata": {
  "kernelspec": {
   "display_name": "Python 3 (ipykernel)",
   "language": "python",
   "name": "python3"
  },
  "language_info": {
   "codemirror_mode": {
    "name": "ipython",
    "version": 3
   },
   "file_extension": ".py",
   "mimetype": "text/x-python",
   "name": "python",
   "nbconvert_exporter": "python",
   "pygments_lexer": "ipython3",
   "version": "3.10.9"
  }
 },
 "nbformat": 4,
 "nbformat_minor": 5
}
