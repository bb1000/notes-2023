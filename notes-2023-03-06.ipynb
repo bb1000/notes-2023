{
 "cells": [
  {
   "cell_type": "markdown",
   "id": "53494710",
   "metadata": {},
   "source": [
    "# Notes 2023-06-06\n",
    "## Generators\n",
    "\n",
    "Simulating pythons `range` function"
   ]
  },
  {
   "cell_type": "code",
   "execution_count": 1,
   "id": "ce7a8c7c",
   "metadata": {},
   "outputs": [],
   "source": [
    "def myrange_as_function(n):\n",
    "    i = 0\n",
    "    while i < n:\n",
    "        print(i)\n",
    "        i += 1"
   ]
  },
  {
   "cell_type": "markdown",
   "id": "c286e915",
   "metadata": {},
   "source": [
    "This prints the values to the screen as a loop with `range` would, but we cannot reuse the values"
   ]
  },
  {
   "cell_type": "code",
   "execution_count": 36,
   "id": "0d838539",
   "metadata": {},
   "outputs": [
    {
     "name": "stdout",
     "output_type": "stream",
     "text": [
      "0\n",
      "1\n",
      "2\n"
     ]
    }
   ],
   "source": [
    "myrange_as_function(3)"
   ]
  },
  {
   "cell_type": "markdown",
   "id": "66aac4b4",
   "metadata": {},
   "source": [
    "To return the value in the loop has another problem"
   ]
  },
  {
   "cell_type": "code",
   "execution_count": 37,
   "id": "e03ea741",
   "metadata": {},
   "outputs": [],
   "source": [
    "def myrange_as_function1(n):\n",
    "    i = 0\n",
    "    while i < n:\n",
    "        return i\n",
    "        i += 1"
   ]
  },
  {
   "cell_type": "markdown",
   "id": "ab7283a3",
   "metadata": {},
   "source": [
    "we only get back the first value of sequence, return will stop execution of the function"
   ]
  },
  {
   "cell_type": "code",
   "execution_count": 68,
   "id": "5bd70379",
   "metadata": {},
   "outputs": [
    {
     "data": {
      "text/plain": [
       "0"
      ]
     },
     "execution_count": 68,
     "metadata": {},
     "output_type": "execute_result"
    }
   ],
   "source": [
    "myrange_as_function1(3)"
   ]
  },
  {
   "cell_type": "markdown",
   "id": "02cda3f2",
   "metadata": {},
   "source": [
    "Another option could be to save the generated seqence as a list. This was the how `range` worked in Python2"
   ]
  },
  {
   "cell_type": "code",
   "execution_count": 39,
   "id": "1a17c850",
   "metadata": {},
   "outputs": [],
   "source": [
    "def myrange_as_function2(n):\n",
    "    i = 0\n",
    "    li = []\n",
    "    while i < n:\n",
    "        li.append(i)\n",
    "        i += 1\n",
    "    return li\n"
   ]
  },
  {
   "cell_type": "code",
   "execution_count": 40,
   "id": "9f768a6b",
   "metadata": {},
   "outputs": [
    {
     "data": {
      "text/plain": [
       "[0, 1, 2]"
      ]
     },
     "execution_count": 40,
     "metadata": {},
     "output_type": "execute_result"
    }
   ],
   "source": [
    "myrange_as_function2(3)"
   ]
  },
  {
   "cell_type": "code",
   "execution_count": 41,
   "id": "14f6b8aa",
   "metadata": {},
   "outputs": [
    {
     "name": "stdout",
     "output_type": "stream",
     "text": [
      "0\n",
      "1\n",
      "2\n"
     ]
    }
   ],
   "source": [
    "for i in myrange_as_function2(3):\n",
    "    print(i)"
   ]
  },
  {
   "cell_type": "markdown",
   "id": "ae6f86a6",
   "metadata": {},
   "source": [
    "With generators, like iterators, we can return one element at a time. The `yield` statement will return the value but not exit the function - only pause the function and continue from this place next time"
   ]
  },
  {
   "cell_type": "code",
   "execution_count": 69,
   "id": "fb010869",
   "metadata": {},
   "outputs": [],
   "source": [
    "def myrange_as_generator(n):\n",
    "    i = 0\n",
    "    while i < n:\n",
    "        yield i\n",
    "        i += 1 "
   ]
  },
  {
   "cell_type": "code",
   "execution_count": 70,
   "id": "770777ea",
   "metadata": {},
   "outputs": [
    {
     "data": {
      "text/plain": [
       "<generator object myrange_as_generator at 0x7f29fd4cd5b0>"
      ]
     },
     "execution_count": 70,
     "metadata": {},
     "output_type": "execute_result"
    }
   ],
   "source": [
    "myrange_as_generator(3)"
   ]
  },
  {
   "cell_type": "code",
   "execution_count": 71,
   "id": "0fd84d9d",
   "metadata": {},
   "outputs": [
    {
     "name": "stdout",
     "output_type": "stream",
     "text": [
      "0\n",
      "1\n",
      "2\n"
     ]
    }
   ],
   "source": [
    "for i in myrange_as_generator(3):\n",
    "    print(i)"
   ]
  },
  {
   "cell_type": "markdown",
   "id": "90cbc6b1",
   "metadata": {},
   "source": [
    "Same low level behaviour as for the classes with `__iter__`, `__next__` methods"
   ]
  },
  {
   "cell_type": "code",
   "execution_count": 72,
   "id": "41307087",
   "metadata": {},
   "outputs": [],
   "source": [
    "gen = myrange_as_generator(3)"
   ]
  },
  {
   "cell_type": "code",
   "execution_count": 73,
   "id": "f5351ad8",
   "metadata": {},
   "outputs": [
    {
     "data": {
      "text/plain": [
       "0"
      ]
     },
     "execution_count": 73,
     "metadata": {},
     "output_type": "execute_result"
    }
   ],
   "source": [
    "next(gen)"
   ]
  },
  {
   "cell_type": "code",
   "execution_count": 74,
   "id": "5ceef75f",
   "metadata": {},
   "outputs": [
    {
     "data": {
      "text/plain": [
       "1"
      ]
     },
     "execution_count": 74,
     "metadata": {},
     "output_type": "execute_result"
    }
   ],
   "source": [
    "next(gen)"
   ]
  },
  {
   "cell_type": "code",
   "execution_count": 75,
   "id": "f20404c4",
   "metadata": {},
   "outputs": [
    {
     "data": {
      "text/plain": [
       "2"
      ]
     },
     "execution_count": 75,
     "metadata": {},
     "output_type": "execute_result"
    }
   ],
   "source": [
    "next(gen)"
   ]
  },
  {
   "cell_type": "code",
   "execution_count": 76,
   "id": "d2cb8536",
   "metadata": {},
   "outputs": [
    {
     "ename": "StopIteration",
     "evalue": "",
     "output_type": "error",
     "traceback": [
      "\u001b[0;31m---------------------------------------------------------------------------\u001b[0m",
      "\u001b[0;31mStopIteration\u001b[0m                             Traceback (most recent call last)",
      "Cell \u001b[0;32mIn[76], line 1\u001b[0m\n\u001b[0;32m----> 1\u001b[0m \u001b[38;5;28;43mnext\u001b[39;49m\u001b[43m(\u001b[49m\u001b[43mgen\u001b[49m\u001b[43m)\u001b[49m\n",
      "\u001b[0;31mStopIteration\u001b[0m: "
     ]
    }
   ],
   "source": [
    "next(gen)"
   ]
  },
  {
   "cell_type": "code",
   "execution_count": 77,
   "id": "952f1470",
   "metadata": {},
   "outputs": [
    {
     "data": {
      "text/plain": [
       "function"
      ]
     },
     "execution_count": 77,
     "metadata": {},
     "output_type": "execute_result"
    }
   ],
   "source": [
    "type(myrange_as_generator)"
   ]
  },
  {
   "cell_type": "code",
   "execution_count": 78,
   "id": "54410e36",
   "metadata": {},
   "outputs": [
    {
     "data": {
      "text/plain": [
       "generator"
      ]
     },
     "execution_count": 78,
     "metadata": {},
     "output_type": "execute_result"
    }
   ],
   "source": [
    "type(myrange_as_generator(3))"
   ]
  },
  {
   "cell_type": "markdown",
   "id": "38ef3e31",
   "metadata": {},
   "source": [
    "### Example\n",
    "Get numbers in a file without caring how they are organized in lines"
   ]
  },
  {
   "cell_type": "code",
   "execution_count": 79,
   "id": "6963f017",
   "metadata": {},
   "outputs": [
    {
     "name": "stdout",
     "output_type": "stream",
     "text": [
      "Overwriting numbers.txt\n"
     ]
    }
   ],
   "source": [
    "%%file numbers.txt\n",
    "1 2 3\n",
    "4 5 6\n",
    "7 8 9 10\n",
    "11 12"
   ]
  },
  {
   "cell_type": "markdown",
   "id": "338553cf",
   "metadata": {},
   "source": [
    "The generator implementation handles details which the user of the generator does not have to deal with"
   ]
  },
  {
   "cell_type": "code",
   "execution_count": 80,
   "id": "8fa8f5fd",
   "metadata": {},
   "outputs": [],
   "source": [
    "def all_numbers(filename):\n",
    "    for line in open(filename):\n",
    "        for number in line.split():\n",
    "            yield int(number)"
   ]
  },
  {
   "cell_type": "code",
   "execution_count": 81,
   "id": "59a95e9d",
   "metadata": {},
   "outputs": [
    {
     "data": {
      "text/plain": [
       "<generator object all_numbers at 0x7f29fd4cdb60>"
      ]
     },
     "execution_count": 81,
     "metadata": {},
     "output_type": "execute_result"
    }
   ],
   "source": [
    "all_numbers('numbers.txt')"
   ]
  },
  {
   "cell_type": "code",
   "execution_count": 82,
   "id": "3be25db5",
   "metadata": {},
   "outputs": [
    {
     "name": "stdout",
     "output_type": "stream",
     "text": [
      "1\n",
      "2\n",
      "3\n",
      "4\n",
      "5\n",
      "6\n",
      "7\n",
      "8\n",
      "9\n",
      "10\n",
      "11\n",
      "12\n"
     ]
    }
   ],
   "source": [
    "for i in all_numbers('numbers.txt'):\n",
    "    print(i)"
   ]
  },
  {
   "cell_type": "code",
   "execution_count": 83,
   "id": "a45412dd",
   "metadata": {},
   "outputs": [
    {
     "data": {
      "text/plain": [
       "[1, 2, 3, 4, 5, 6, 7, 8, 9, 10, 11, 12]"
      ]
     },
     "execution_count": 83,
     "metadata": {},
     "output_type": "execute_result"
    }
   ],
   "source": [
    "list(all_numbers('numbers.txt'))"
   ]
  },
  {
   "cell_type": "code",
   "execution_count": 65,
   "id": "afc138f3",
   "metadata": {},
   "outputs": [
    {
     "data": {
      "text/plain": [
       "78"
      ]
     },
     "execution_count": 65,
     "metadata": {},
     "output_type": "execute_result"
    }
   ],
   "source": [
    "sum(all_numbers('numbers.txt'))"
   ]
  }
 ],
 "metadata": {
  "kernelspec": {
   "display_name": "Python 3 (ipykernel)",
   "language": "python",
   "name": "python3"
  },
  "language_info": {
   "codemirror_mode": {
    "name": "ipython",
    "version": 3
   },
   "file_extension": ".py",
   "mimetype": "text/x-python",
   "name": "python",
   "nbconvert_exporter": "python",
   "pygments_lexer": "ipython3",
   "version": "3.10.9"
  }
 },
 "nbformat": 4,
 "nbformat_minor": 5
}
